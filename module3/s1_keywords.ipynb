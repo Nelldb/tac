{
 "cells": [
  {
   "cell_type": "markdown",
   "metadata": {},
   "source": [
    "# Extraction de Keywords"
   ]
  },
  {
   "cell_type": "markdown",
   "metadata": {},
   "source": [
    "## Imports"
   ]
  },
  {
   "cell_type": "code",
   "execution_count": 1,
   "metadata": {},
   "outputs": [],
   "source": [
    "import os\n",
    "import yake"
   ]
  },
  {
   "cell_type": "markdown",
   "metadata": {},
   "source": [
    "## Extraire les mots clés d'un document avec Yake"
   ]
  },
  {
   "cell_type": "markdown",
   "metadata": {},
   "source": [
    "https://github.com/LIAAD/yake"
   ]
  },
  {
   "cell_type": "code",
   "execution_count": 3,
   "metadata": {
    "tags": []
   },
   "outputs": [
    {
     "data": {
      "text/plain": [
       "{'bruxelles', 'conseil communal', 'conseil général'}"
      ]
     },
     "execution_count": 3,
     "metadata": {},
     "output_type": "execute_result"
    }
   ],
   "source": [
    "# Création d'une liste de mots à ignorer\n",
    "ignored = set([\"conseil communal\", \"conseil général\", \"bruxelles\"])\n",
    "ignored"
   ]
  },
  {
   "cell_type": "code",
   "execution_count": 4,
   "metadata": {},
   "outputs": [
    {
     "data": {
      "text/plain": [
       "<yake.yake.KeywordExtractor at 0x7f882ad879a0>"
      ]
     },
     "execution_count": 4,
     "metadata": {},
     "output_type": "execute_result"
    }
   ],
   "source": [
    "# Instantier l'extracteur de mots clés\n",
    "kw_extractor = yake.KeywordExtractor(lan=\"fr\", top=50)\n",
    "kw_extractor"
   ]
  },
  {
   "cell_type": "code",
   "execution_count": 5,
   "metadata": {},
   "outputs": [],
   "source": [
    "# Lister les Fichiers\n",
    "data_path = \"../data/txt/\"\n",
    "files = os.listdir(data_path)"
   ]
  },
  {
   "cell_type": "code",
   "execution_count": 6,
   "metadata": {},
   "outputs": [
    {
     "data": {
      "text/plain": [
       "2828"
      ]
     },
     "execution_count": 6,
     "metadata": {},
     "output_type": "execute_result"
    }
   ],
   "source": [
    "# Imprimer le nombre de fichiers identifiés\n",
    "len(files)"
   ]
  },
  {
   "cell_type": "code",
   "execution_count": 7,
   "metadata": {},
   "outputs": [
    {
     "data": {
      "text/plain": [
       "['Bxl_1847_Tome_I1_Part_1.txt',\n",
       " 'Bxl_1847_Tome_I1_Part_2.txt',\n",
       " 'Bxl_1847_Tome_I1_Part_3.txt',\n",
       " 'Bxl_1847_Tome_I1_Part_4.txt',\n",
       " 'Bxl_1847_Tome_I1_Part_5.txt',\n",
       " 'Bxl_1848_Tome_I1_Part_1.txt',\n",
       " 'Bxl_1848_Tome_I1_Part_2.txt',\n",
       " 'Bxl_1848_Tome_I1_Part_3.txt',\n",
       " 'Bxl_1849_Tome_I1_Part_1.txt',\n",
       " 'Bxl_1849_Tome_I1_Part_2.txt',\n",
       " 'Bxl_1849_Tome_I1_Part_3.txt',\n",
       " 'Bxl_1849_Tome_I1_Part_4.txt',\n",
       " 'Bxl_1849_Tome_I1_Part_5.txt',\n",
       " 'Bxl_1849_Tome_II1_Part_1.txt',\n",
       " 'Bxl_1849_Tome_II1_Part_2.txt',\n",
       " 'Bxl_1849_Tome_II1_Part_3.txt',\n",
       " 'Bxl_1849_Tome_II1_Part_4.txt',\n",
       " 'Bxl_1849_Tome_II1_Part_5.txt',\n",
       " 'Bxl_1849_Tome_II1_Part_6.txt',\n",
       " 'Bxl_1849_Tome_II1_Part_7.txt']"
      ]
     },
     "execution_count": 7,
     "metadata": {},
     "output_type": "execute_result"
    }
   ],
   "source": [
    "# Les dix premiers fichiers\n",
    "files[:20]"
   ]
  },
  {
   "cell_type": "code",
   "execution_count": 8,
   "metadata": {},
   "outputs": [
    {
     "data": {
      "text/plain": [
       "2677"
      ]
     },
     "execution_count": 8,
     "metadata": {},
     "output_type": "execute_result"
    }
   ],
   "source": [
    "# Enlever les fichiers qui ne commencent pas par Bxl_\n",
    "bxl_files = [f for f in files if f.startswith('Bxl_')]\n",
    "len(bxl_files)"
   ]
  },
  {
   "cell_type": "code",
   "execution_count": 10,
   "metadata": {},
   "outputs": [
    {
     "data": {
      "text/plain": [
       "'Bxl_1892_Tome_I1_Part_6.txt'"
      ]
     },
     "execution_count": 10,
     "metadata": {},
     "output_type": "execute_result"
    }
   ],
   "source": [
    "# Choisir un fichier\n",
    "this_file = bxl_files[546]\n",
    "this_file"
   ]
  },
  {
   "cell_type": "code",
   "execution_count": 11,
   "metadata": {},
   "outputs": [
    {
     "data": {
      "text/plain": [
       "\"—\\n\\n501\\n\\n(9 Mai\\n\\n—\\n\\n1892)\\n\\nArt. 1 5 . Toutes les notifications relatives à la concession seront\\nfaites au domicile réel ou au domicile élu du concessionnaire. Elles\\nauront lieu soit par lettre recommandée à la poste, soit par\\nexploit d'huissier.\\nArt. 1G. Le concessionnaire devra déposer à la Caisse communale, au plus tard le troisième jour après le prononcé de l'adjudication, a peine de déchéance, s'il plaît, ainsi à la Ville, une somme\\nde 5,000 francs à titre de cautionnement.\\nArt. 1 7 . Le caut\""
      ]
     },
     "execution_count": 11,
     "metadata": {},
     "output_type": "execute_result"
    }
   ],
   "source": [
    "# Récupérer le texte du fichier\n",
    "text = open(os.path.join(data_path, this_file), 'r').read()\n",
    "text[:500]"
   ]
  },
  {
   "cell_type": "code",
   "execution_count": 12,
   "metadata": {},
   "outputs": [],
   "source": [
    "# Extraire les mots clés de ce texte\n",
    "keywords = kw_extractor.extract_keywords(text)"
   ]
  },
  {
   "cell_type": "code",
   "execution_count": 13,
   "metadata": {},
   "outputs": [
    {
     "data": {
      "text/plain": [
       "[('Conseil', 0.00025812521330695863),\n",
       " ('Conseil communal', 0.0003649872948046745),\n",
       " ('Section', 0.00044947169983378425),\n",
       " ('Sections', 0.0005974684790473475),\n",
       " ('Heyvaert', 0.0006855585556562522),\n",
       " ('Mais', 0.0011083767937677185),\n",
       " ('Mai', 0.0011667124144923355),\n",
       " ('Lemonnier', 0.0012510008182504717),\n",
       " ('publicité', 0.0013004999521843677),\n",
       " ('francs', 0.0013520749957759688),\n",
       " ('proposition', 0.0015612967677478512),\n",
       " (\"c'est\", 0.0016794149138580703),\n",
       " (\"qu'il\", 0.0018380442184661387),\n",
       " ('comité secret', 0.0021087651129459923),\n",
       " ('conseils communaux', 0.0022282294361662394),\n",
       " ('mot', 0.002264565001256188),\n",
       " ('séance', 0.0022801341249759945),\n",
       " ('Conseils', 0.002426377005085411),\n",
       " ('Lepage', 0.0025792658943875105),\n",
       " ('Ville', 0.003148218454227254),\n",
       " ('séance publique', 0.0031565971201041624),\n",
       " ('Martiny', 0.0032235288840171783),\n",
       " (\"l'Echevin De Mot\", 0.0032783876730924856),\n",
       " ('membres du Conseil', 0.003436729819141058),\n",
       " ('Collège', 0.003588296825149634),\n",
       " ('public', 0.0037179861302391462),\n",
       " ('Bourgmestre', 0.003897962557143871),\n",
       " ('membres', 0.004347543502521469),\n",
       " ('jour', 0.00436848028696854),\n",
       " ('Richald', 0.004418668909068376),\n",
       " ('séances', 0.004449042195075111),\n",
       " ('secret', 0.004646314805505482),\n",
       " ('faire', 0.004717288628085207),\n",
       " ('Conseillers', 0.004830528565258966),\n",
       " ('Conseil général', 0.004880501529561011),\n",
       " ('communal', 0.004900391677178254),\n",
       " ('Messieurs', 0.004944432728888065),\n",
       " (\"l'Echevin De Potter\", 0.005040140076853437),\n",
       " ('rapport', 0.0052435741556509),\n",
       " ('Section centrale', 0.0053664046051270535),\n",
       " ('fabrique', 0.005473833689808254),\n",
       " ('délibérations des Sections', 0.005721171086613119),\n",
       " (\"l'Echevin\", 0.005796337375760939),\n",
       " ('comité', 0.006140052355291334),\n",
       " ('dépenses', 0.00616085695174757),\n",
       " ('publique', 0.006203783128750644),\n",
       " ('lieu', 0.0062343428381529545),\n",
       " ('rue', 0.006328370236338079),\n",
       " (\"d'une Section\", 0.006598569266051677),\n",
       " ('compte', 0.00661181799366297)]"
      ]
     },
     "execution_count": 13,
     "metadata": {},
     "output_type": "execute_result"
    }
   ],
   "source": [
    "keywords"
   ]
  },
  {
   "cell_type": "code",
   "execution_count": 14,
   "metadata": {},
   "outputs": [
    {
     "data": {
      "text/plain": [
       "['comité secret',\n",
       " 'conseils communaux',\n",
       " 'séance publique',\n",
       " 'Section centrale',\n",
       " \"d'une Section\"]"
      ]
     },
     "execution_count": 14,
     "metadata": {},
     "output_type": "execute_result"
    }
   ],
   "source": [
    "# Ne garder que les bigrammes\n",
    "kept = []\n",
    "for kw, score in keywords:\n",
    "    words = kw.split()\n",
    "    if len(words) == 2 and kw.lower() not in ignored:\n",
    "        kept.append(kw)\n",
    "kept"
   ]
  },
  {
   "cell_type": "markdown",
   "metadata": {},
   "source": [
    "## Faire la même opération sur tous les documents"
   ]
  },
  {
   "cell_type": "code",
   "execution_count": 18,
   "metadata": {},
   "outputs": [
    {
     "name": "stdout",
     "output_type": "stream",
     "text": [
      "Bxl_1871_Tome_II1_Part_2.txt mentions these keywords: rue haute, théâtre royal, travaux publics, représentation gratuite, rue terre-neuve, travaux d'assainissement, voie publique...\n",
      "Bxl_1871_Tome_II1_Part_3.txt mentions these keywords: d'une somme, travaux publics, nombre nombre, don d'une, l'adjudication publique, enfants trouvés, fonds communal...\n",
      "Bxl_1871_Tome_II1_Part_4.txt mentions these keywords: ...\n",
      "Bxl_1871_Tome_II1_Part_5.txt mentions these keywords: travaux publics, crois qu'il, l'echevin lemaieur, rue haute...\n",
      "Bxl_1871_Tome_II1_Part_6.txt mentions these keywords: l'echevin funck, l'echevin lemaieur, qu'il faut, l'administration communale, d'un subside...\n",
      "Bxl_1871_Tome_II1_Part_7.txt mentions these keywords: compagnie anglaise, travaux publics, l'echevin orts, l'echevin fontainas, l'administration communale...\n",
      "Bxl_1871_Tome_II1_Part_8.txt mentions these keywords: conseiller communal, voir terrains, d'un crédit, d'un terrain...\n",
      "Bxl_1872_Tome_I1_Part_1.txt mentions these keywords: travaux publics, boulevard central, l'adjudication publique, public qu'il, rue haute...\n",
      "Bxl_1872_Tome_I1_Part_2.txt mentions these keywords: volume d'eau, enfants trouvés, mètres cubes, travaux publics, distribution d'eau, cubes d'eau, d'une ville...\n",
      "Bxl_1872_Tome_I1_Part_3.txt mentions these keywords: députation permanente, école communale, l'enseignement primaire, qu'il faut...\n"
     ]
    }
   ],
   "source": [
    "for f in sorted(bxl_files)[230:240]:\n",
    "    text = open(os.path.join(data_path, f), 'r').read()\n",
    "    keywords = kw_extractor.extract_keywords(text.lower())\n",
    "    kept = []\n",
    "    for kw, score in keywords:\n",
    "        words = kw.split()\n",
    "        if len(words) == 2 and kw.lower() not in ignored:\n",
    "            kept.append(kw)\n",
    "    print(f\"{f} mentions these keywords: {', '.join(kept)}...\")"
   ]
  },
  {
   "cell_type": "code",
   "execution_count": null,
   "metadata": {},
   "outputs": [],
   "source": []
  }
 ],
 "metadata": {
  "kernelspec": {
   "display_name": "Python 3 (ipykernel)",
   "language": "python",
   "name": "python3"
  },
  "language_info": {
   "codemirror_mode": {
    "name": "ipython",
    "version": 3
   },
   "file_extension": ".py",
   "mimetype": "text/x-python",
   "name": "python",
   "nbconvert_exporter": "python",
   "pygments_lexer": "ipython3",
   "version": "3.9.7"
  }
 },
 "nbformat": 4,
 "nbformat_minor": 4
}
