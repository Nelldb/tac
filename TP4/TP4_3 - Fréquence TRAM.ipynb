{
 "cells": [
  {
   "cell_type": "markdown",
   "id": "9c21bdd7-f2f3-46a4-9baf-d8f098295069",
   "metadata": {},
   "source": [
    "# Analyse de la fréquence d'apparition du terme 'Tramway' ou 'Tram' dans les bulletins par décennie"
   ]
  },
  {
   "cell_type": "markdown",
   "id": "160138af-5d6c-49aa-b70f-ef54d0184916",
   "metadata": {},
   "source": [
    "Avant d'analyser le nombre de fois où le mot tram et tramway apparaissent, il est intéressant de regarder les erreurs d'OCR pour ne pas louper des mots tram ou tramway qui auraient été mal numérisés et reconnus comme texte\n",
    "\n",
    "Pour cela, il faut d'abord créer un grand fichier regroupant toutes les décennies"
   ]
  },
  {
   "cell_type": "markdown",
   "id": "a172ea20-fab2-45a6-90ca-7360f8315c4a",
   "metadata": {},
   "source": [
    "## Création du grand fichier"
   ]
  },
  {
   "cell_type": "code",
   "execution_count": 1,
   "id": "f6961058-f68e-433f-8161-38c547c7be95",
   "metadata": {},
   "outputs": [],
   "source": [
    "!cat ../data/decade/*.txt > ../data/alldecade.txt"
   ]
  },
  {
   "cell_type": "markdown",
   "id": "60173575-bb43-4224-8af1-e664ea049d51",
   "metadata": {},
   "source": [
    "## Erreur d'OCR"
   ]
  },
  {
   "cell_type": "markdown",
   "id": "b229575d-5f94-49e7-b151-f64210e48f21",
   "metadata": {},
   "source": [
    "### Installation"
   ]
  },
  {
   "cell_type": "code",
   "execution_count": 2,
   "id": "200a8099-6c3d-4a90-9f24-afec2377ae09",
   "metadata": {},
   "outputs": [
    {
     "name": "stdout",
     "output_type": "stream",
     "text": [
      "Requirement already satisfied: thefuzz[speedup] in /usr/local/lib/python3.9/site-packages (0.19.0)\n",
      "Requirement already satisfied: python-levenshtein>=0.12 in /usr/local/lib/python3.9/site-packages (from thefuzz[speedup]) (0.12.2)\n",
      "Requirement already satisfied: setuptools in /usr/local/lib/python3.9/site-packages (from python-levenshtein>=0.12->thefuzz[speedup]) (57.5.0)\n",
      "\u001b[33mWARNING: Running pip as the 'root' user can result in broken permissions and conflicting behaviour with the system package manager. It is recommended to use a virtual environment instead: https://pip.pypa.io/warnings/venv\u001b[0m\n"
     ]
    }
   ],
   "source": [
    "!pip install thefuzz[speedup]"
   ]
  },
  {
   "cell_type": "markdown",
   "id": "bff82e8d-f30c-47dd-ad25-823311af403d",
   "metadata": {},
   "source": [
    "### Imports"
   ]
  },
  {
   "cell_type": "code",
   "execution_count": 3,
   "id": "66347545-8d18-488c-8eb3-53a9103a9f44",
   "metadata": {},
   "outputs": [],
   "source": [
    "import nltk\n",
    "from thefuzz import fuzz\n",
    "from thefuzz import process\n",
    "from Levenshtein import distance"
   ]
  },
  {
   "cell_type": "markdown",
   "id": "212de108-d0f6-4d63-8e6d-b2e87e97393a",
   "metadata": {},
   "source": [
    "### Analyse des variantes d'un même mot par ordre décroissant de similarité"
   ]
  },
  {
   "cell_type": "code",
   "execution_count": 4,
   "id": "b2892c5f-464f-41ad-90a6-60d93e5a94b1",
   "metadata": {},
   "outputs": [
    {
     "name": "stdout",
     "output_type": "stream",
     "text": [
      "5960768 words (tokens) found\n",
      "151378 different word forms\n"
     ]
    }
   ],
   "source": [
    "# Chargeons d'abord le fichier créé et tokenisons le !\n",
    "data_path = \"../data/alldecade.txt\"\n",
    "LIMIT = 50000000\n",
    "text = open(data_path).read()[:LIMIT]\n",
    "\n",
    "tokens = nltk.wordpunct_tokenize(text)\n",
    "print(f\"{len(tokens)} words (tokens) found\")\n",
    "\n",
    "vocab = set(tokens)\n",
    "print(f\"{len(vocab)} different word forms\")"
   ]
  },
  {
   "cell_type": "code",
   "execution_count": 7,
   "id": "62c3aa37-6ddf-44c1-b4f5-833267bc4685",
   "metadata": {},
   "outputs": [
    {
     "data": {
      "text/plain": [
       "[('tramway', 100),\n",
       " ('tramwayf', 93),\n",
       " ('tramways', 93),\n",
       " ('tamway', 92),\n",
       " ('éôté', 90),\n",
       " ('îté', 90),\n",
       " ('tramwaysautobus', 90),\n",
       " ('çré', 90),\n",
       " ('rèà', 90),\n",
       " ('trè', 90),\n",
       " ('wôô', 90),\n",
       " ('raç', 90),\n",
       " ('îçy', 90),\n",
       " ('voyageurstramways', 90),\n",
       " ('tra', 90)]"
      ]
     },
     "execution_count": 7,
     "metadata": {},
     "output_type": "execute_result"
    }
   ],
   "source": [
    "word = \"tramway\"\n",
    "process.extract(word, vocab, limit=15)"
   ]
  },
  {
   "cell_type": "code",
   "execution_count": 8,
   "id": "d974a4ed-75cc-4a35-a8fa-ad2f701868f4",
   "metadata": {},
   "outputs": [
    {
     "data": {
      "text/plain": [
       "[('autobus', 100),\n",
       " ('autrobus', 93),\n",
       " ('autobu', 92),\n",
       " ('éôté', 90),\n",
       " ('îté', 90),\n",
       " ('tramwaysautobus', 90),\n",
       " ('uût', 90),\n",
       " ('àbâ', 90),\n",
       " ('sïï', 90),\n",
       " ('síí', 90),\n",
       " ('auto', 90),\n",
       " ('âut', 90),\n",
       " ('âçés', 90),\n",
       " ('usé', 90),\n",
       " ('bué', 90)]"
      ]
     },
     "execution_count": 8,
     "metadata": {},
     "output_type": "execute_result"
    }
   ],
   "source": [
    "word = \"autobus\"\n",
    "process.extract(word, vocab, limit=15)"
   ]
  },
  {
   "cell_type": "markdown",
   "id": "cee53ef6-e10b-4008-a17e-92f6c566b8bd",
   "metadata": {},
   "source": [
    "##### Suite à cela, on peut maintenant inclure les variantes de l'OCR pour ne pas risquer de perdre des fréquences"
   ]
  },
  {
   "cell_type": "markdown",
   "id": "9546c17a-7dbd-47a4-aa83-c293734d7a0d",
   "metadata": {},
   "source": [
    "## Fréquence des termes "
   ]
  },
  {
   "cell_type": "markdown",
   "id": "b27f3ac0-2ca6-49d0-908f-fdbffaf30b94",
   "metadata": {},
   "source": [
    "### Imports"
   ]
  },
  {
   "cell_type": "code",
   "execution_count": 2,
   "id": "7819d5f7-2602-48a6-a223-0d26a4063e4f",
   "metadata": {},
   "outputs": [],
   "source": [
    "import nltk\n",
    "from nltk.probability import FreqDist\n",
    "from collections import Counter"
   ]
  },
  {
   "cell_type": "markdown",
   "id": "24f0838b-33b9-435e-8be4-54d6b6900691",
   "metadata": {},
   "source": [
    "### Essai avec le premier fichier/ la première décennie"
   ]
  },
  {
   "cell_type": "markdown",
   "id": "9653d7c1-6ad6-469f-8c73-29b0c654d547",
   "metadata": {},
   "source": [
    "#### Tokenisation"
   ]
  },
  {
   "cell_type": "code",
   "execution_count": 3,
   "id": "6fb9f30c-6ee8-40b8-bf9d-0d8575e986e0",
   "metadata": {},
   "outputs": [],
   "source": [
    "# Récupération du contenu du fichier\n",
    "path = \"../data/decade/firdall_clean.txt\"\n",
    "limit = 10**8\n",
    "\n",
    "with open(path) as f:\n",
    "    text = f.read()[:limit]"
   ]
  },
  {
   "cell_type": "code",
   "execution_count": 4,
   "id": "20df2362-9b81-40cc-bfe3-1e6e494cd866",
   "metadata": {},
   "outputs": [
    {
     "name": "stdout",
     "output_type": "stream",
     "text": [
      "1439020 words found\n"
     ]
    }
   ],
   "source": [
    "# Tokenization\n",
    "words = nltk.wordpunct_tokenize(text)\n",
    "print(f\"{len(words)} words found\")"
   ]
  },
  {
   "cell_type": "markdown",
   "id": "cb499494-9049-4716-bbb2-1c35e4ad6401",
   "metadata": {},
   "source": [
    "#### Fréquence des termes - tramway et tram dans ce fichier"
   ]
  },
  {
   "cell_type": "code",
   "execution_count": 5,
   "id": "83248fd2-754b-4156-800b-79aa1e06fcd3",
   "metadata": {},
   "outputs": [],
   "source": [
    "counter = Counter (words)"
   ]
  },
  {
   "cell_type": "code",
   "execution_count": 6,
   "id": "bc16c540-2b6a-408a-8af4-8a55b6e86a21",
   "metadata": {},
   "outputs": [],
   "source": [
    "frequencytray_1 = counter[\"tramway\"]\n",
    "frequencytrayf_1 = counter[\"tramwayf\"]\n",
    "frequencytrays_1 = counter[\"tramways\"]\n",
    "frequencytam_1 = counter[\"tamway\"]\n",
    "frequencytram_1 = counter [\"tram\"]\n",
    "frequencybus_1 = counter[\"autobus\"]\n",
    "frequencybrus_1 = counter[\"autrobus\"]\n",
    "frequencybu_1 = counter[\"autobu\"]"
   ]
  },
  {
   "cell_type": "code",
   "execution_count": 7,
   "id": "05267bb9-5b61-4cb2-82bd-be6f04867796",
   "metadata": {},
   "outputs": [
    {
     "data": {
      "text/plain": [
       "0"
      ]
     },
     "execution_count": 7,
     "metadata": {},
     "output_type": "execute_result"
    }
   ],
   "source": [
    "frequencytray_1"
   ]
  },
  {
   "cell_type": "code",
   "execution_count": 8,
   "id": "ab13ec91-30f4-4cb7-adeb-b295bac86f44",
   "metadata": {},
   "outputs": [
    {
     "data": {
      "text/plain": [
       "0"
      ]
     },
     "execution_count": 8,
     "metadata": {},
     "output_type": "execute_result"
    }
   ],
   "source": [
    "frequencytrayf_1 "
   ]
  },
  {
   "cell_type": "code",
   "execution_count": 9,
   "id": "7b4c433f-80b7-4529-8a6c-592b33ea07be",
   "metadata": {},
   "outputs": [
    {
     "data": {
      "text/plain": [
       "0"
      ]
     },
     "execution_count": 9,
     "metadata": {},
     "output_type": "execute_result"
    }
   ],
   "source": [
    "frequencytrays_1"
   ]
  },
  {
   "cell_type": "code",
   "execution_count": 10,
   "id": "3a6e008a-7009-456c-8346-5213218781a9",
   "metadata": {},
   "outputs": [
    {
     "data": {
      "text/plain": [
       "0"
      ]
     },
     "execution_count": 10,
     "metadata": {},
     "output_type": "execute_result"
    }
   ],
   "source": [
    "frequencytam_1"
   ]
  },
  {
   "cell_type": "code",
   "execution_count": 11,
   "id": "421dce8a-d0a8-406e-b21a-d782399aa3c4",
   "metadata": {},
   "outputs": [
    {
     "data": {
      "text/plain": [
       "2"
      ]
     },
     "execution_count": 11,
     "metadata": {},
     "output_type": "execute_result"
    }
   ],
   "source": [
    "frequencytram_1"
   ]
  },
  {
   "cell_type": "code",
   "execution_count": 12,
   "id": "32ab9c5e-4b8e-42cf-ba78-f2b24bc3ab69",
   "metadata": {},
   "outputs": [
    {
     "data": {
      "text/plain": [
       "0"
      ]
     },
     "execution_count": 12,
     "metadata": {},
     "output_type": "execute_result"
    }
   ],
   "source": [
    "frequencybus_1"
   ]
  },
  {
   "cell_type": "code",
   "execution_count": 13,
   "id": "7eb52973-0b76-454f-85d5-4b96d08e8f0a",
   "metadata": {},
   "outputs": [
    {
     "data": {
      "text/plain": [
       "0"
      ]
     },
     "execution_count": 13,
     "metadata": {},
     "output_type": "execute_result"
    }
   ],
   "source": [
    "frequencybrus_1"
   ]
  },
  {
   "cell_type": "code",
   "execution_count": 14,
   "id": "3d869cad-e1e1-41ad-bb3e-5d43ef94f2d7",
   "metadata": {},
   "outputs": [
    {
     "data": {
      "text/plain": [
       "0"
      ]
     },
     "execution_count": 14,
     "metadata": {},
     "output_type": "execute_result"
    }
   ],
   "source": [
    "frequencybu_1"
   ]
  },
  {
   "cell_type": "markdown",
   "id": "3841597c-14c4-4b55-b53b-3fd0507cbe4f",
   "metadata": {},
   "source": [
    "### Faisons pareil avec les 12 autres fichiers / 12 autres décennies"
   ]
  },
  {
   "cell_type": "code",
   "execution_count": 15,
   "id": "0ce2af32-7d2e-4208-93e8-3326ea854f6e",
   "metadata": {},
   "outputs": [],
   "source": [
    "# Récupération du contenu du fichier\n",
    "path = \"../data/decade/secdall_clean.txt\"\n",
    "limit = 10**8\n",
    "\n",
    "with open(path) as f:\n",
    "    text = f.read()[:limit]"
   ]
  },
  {
   "cell_type": "code",
   "execution_count": 16,
   "id": "62455d6e-2c30-40fe-8103-7775268cc406",
   "metadata": {},
   "outputs": [
    {
     "name": "stdout",
     "output_type": "stream",
     "text": [
      "1207674 words found\n"
     ]
    }
   ],
   "source": [
    "# Tokenization\n",
    "words = nltk.wordpunct_tokenize(text)\n",
    "print(f\"{len(words)} words found\")"
   ]
  },
  {
   "cell_type": "code",
   "execution_count": 17,
   "id": "17b3e68d-d7d8-41b8-b144-4345b2a5c375",
   "metadata": {},
   "outputs": [],
   "source": [
    "counter = Counter(words)"
   ]
  },
  {
   "cell_type": "code",
   "execution_count": 18,
   "id": "191b4107-1f84-491d-ba81-5562fd38f179",
   "metadata": {},
   "outputs": [],
   "source": [
    "frequencytray_2 = counter[\"tramway\"]\n",
    "frequencytrayf_2 = counter[\"tramwayf\"]\n",
    "frequencytrays_2 = counter[\"tramways\"]\n",
    "frequencytam_2 = counter[\"tamway\"]\n",
    "frequencytram_2 = counter [\"tram\"]\n",
    "frequencybus_2 = counter[\"autobus\"]\n",
    "frequencybrus_2 = counter[\"autrobus\"]\n",
    "frequencybu_2 = counter[\"autobu\"]"
   ]
  },
  {
   "cell_type": "code",
   "execution_count": 19,
   "id": "fda65774-cb84-4052-b10e-2fba8cad5674",
   "metadata": {},
   "outputs": [
    {
     "data": {
      "text/plain": [
       "0"
      ]
     },
     "execution_count": 19,
     "metadata": {},
     "output_type": "execute_result"
    }
   ],
   "source": [
    "frequencytray_2"
   ]
  },
  {
   "cell_type": "code",
   "execution_count": 20,
   "id": "1a4027ad-d429-4f6b-b2a7-b5da3bb31ab4",
   "metadata": {},
   "outputs": [
    {
     "data": {
      "text/plain": [
       "0"
      ]
     },
     "execution_count": 20,
     "metadata": {},
     "output_type": "execute_result"
    }
   ],
   "source": [
    "frequencytrayf_2"
   ]
  },
  {
   "cell_type": "code",
   "execution_count": 21,
   "id": "21d734cc-6299-47b5-84a5-225cbeb6cfb2",
   "metadata": {},
   "outputs": [
    {
     "data": {
      "text/plain": [
       "0"
      ]
     },
     "execution_count": 21,
     "metadata": {},
     "output_type": "execute_result"
    }
   ],
   "source": [
    "frequencytrays_2"
   ]
  },
  {
   "cell_type": "code",
   "execution_count": 22,
   "id": "35530056-cc39-4e51-826a-a71fcf17a413",
   "metadata": {},
   "outputs": [
    {
     "data": {
      "text/plain": [
       "0"
      ]
     },
     "execution_count": 22,
     "metadata": {},
     "output_type": "execute_result"
    }
   ],
   "source": [
    "frequencytam_2"
   ]
  },
  {
   "cell_type": "code",
   "execution_count": 23,
   "id": "276a9b1a-36a0-4b22-860d-339a21b17fd2",
   "metadata": {},
   "outputs": [
    {
     "data": {
      "text/plain": [
       "0"
      ]
     },
     "execution_count": 23,
     "metadata": {},
     "output_type": "execute_result"
    }
   ],
   "source": [
    "frequencytram_2"
   ]
  },
  {
   "cell_type": "code",
   "execution_count": 24,
   "id": "7a4050c9-7800-4b47-a991-8ab8b65f70c5",
   "metadata": {},
   "outputs": [
    {
     "data": {
      "text/plain": [
       "0"
      ]
     },
     "execution_count": 24,
     "metadata": {},
     "output_type": "execute_result"
    }
   ],
   "source": [
    "frequencybus_2"
   ]
  },
  {
   "cell_type": "code",
   "execution_count": 25,
   "id": "0db43273-8834-428e-87d5-974b282b6f69",
   "metadata": {},
   "outputs": [
    {
     "data": {
      "text/plain": [
       "0"
      ]
     },
     "execution_count": 25,
     "metadata": {},
     "output_type": "execute_result"
    }
   ],
   "source": [
    "frequencybrus_2"
   ]
  },
  {
   "cell_type": "code",
   "execution_count": 26,
   "id": "49a00f78-7dbc-48c6-bd27-3c06da35a4d0",
   "metadata": {},
   "outputs": [
    {
     "data": {
      "text/plain": [
       "0"
      ]
     },
     "execution_count": 26,
     "metadata": {},
     "output_type": "execute_result"
    }
   ],
   "source": [
    "frequencybu_2"
   ]
  },
  {
   "cell_type": "code",
   "execution_count": 27,
   "id": "2e6438b9-17ae-4383-932c-21e944003a5a",
   "metadata": {},
   "outputs": [],
   "source": [
    "# Récupération du contenu du fichier\n",
    "path = \"../data/decade/thidall_clean.txt\"\n",
    "limit = 10**8\n",
    "\n",
    "with open(path) as f:\n",
    "    text = f.read()[:limit]"
   ]
  },
  {
   "cell_type": "code",
   "execution_count": 28,
   "id": "a2737740-9eec-4e06-a8cc-82b74abaac57",
   "metadata": {},
   "outputs": [
    {
     "name": "stdout",
     "output_type": "stream",
     "text": [
      "1180822 words found\n"
     ]
    }
   ],
   "source": [
    "# Tokenization\n",
    "words = nltk.wordpunct_tokenize(text)\n",
    "print(f\"{len(words)} words found\")"
   ]
  },
  {
   "cell_type": "code",
   "execution_count": 29,
   "id": "1625c4f3-9576-4c28-866b-5aae962414a6",
   "metadata": {},
   "outputs": [],
   "source": [
    "counter = Counter(words)"
   ]
  },
  {
   "cell_type": "code",
   "execution_count": 30,
   "id": "2e5a2a12-cefa-4f29-87d8-3bc7a19d938e",
   "metadata": {},
   "outputs": [],
   "source": [
    "frequencytray_3 = counter[\"tramway\"]\n",
    "frequencytrayf_3 = counter[\"tramwayf\"]\n",
    "frequencytrays_3 = counter[\"tramways\"]\n",
    "frequencytam_3 = counter[\"tamway\"]\n",
    "frequencytram_3 = counter [\"tram\"]\n",
    "frequencybus_3 = counter[\"autobus\"]\n",
    "frequencybrus_3 = counter[\"autrobus\"]\n",
    "frequencybu_3 = counter[\"autobu\"]"
   ]
  },
  {
   "cell_type": "code",
   "execution_count": 31,
   "id": "07447103-c838-44cc-8757-6f549a5fc131",
   "metadata": {},
   "outputs": [
    {
     "data": {
      "text/plain": [
       "44"
      ]
     },
     "execution_count": 31,
     "metadata": {},
     "output_type": "execute_result"
    }
   ],
   "source": [
    "frequencytray_3"
   ]
  },
  {
   "cell_type": "code",
   "execution_count": 32,
   "id": "000356d8-6d19-4b9d-9231-dd9ef74f21f6",
   "metadata": {},
   "outputs": [
    {
     "data": {
      "text/plain": [
       "0"
      ]
     },
     "execution_count": 32,
     "metadata": {},
     "output_type": "execute_result"
    }
   ],
   "source": [
    "frequencytrayf_3"
   ]
  },
  {
   "cell_type": "code",
   "execution_count": 33,
   "id": "9e3c6832-441d-4869-ada6-7bd5bab337ff",
   "metadata": {},
   "outputs": [
    {
     "data": {
      "text/plain": [
       "155"
      ]
     },
     "execution_count": 33,
     "metadata": {},
     "output_type": "execute_result"
    }
   ],
   "source": [
    "frequencytrays_3"
   ]
  },
  {
   "cell_type": "code",
   "execution_count": 34,
   "id": "640a7c72-5947-4855-a0ed-083733897a19",
   "metadata": {},
   "outputs": [
    {
     "data": {
      "text/plain": [
       "0"
      ]
     },
     "execution_count": 34,
     "metadata": {},
     "output_type": "execute_result"
    }
   ],
   "source": [
    "frequencytam_3"
   ]
  },
  {
   "cell_type": "code",
   "execution_count": 35,
   "id": "d6784c58-8ea2-46db-bad4-e5a34def2473",
   "metadata": {},
   "outputs": [
    {
     "data": {
      "text/plain": [
       "4"
      ]
     },
     "execution_count": 35,
     "metadata": {},
     "output_type": "execute_result"
    }
   ],
   "source": [
    "frequencytram_3"
   ]
  },
  {
   "cell_type": "code",
   "execution_count": 36,
   "id": "b1e93ed8-ce55-4a59-9e1d-c37c1cc30398",
   "metadata": {},
   "outputs": [
    {
     "data": {
      "text/plain": [
       "0"
      ]
     },
     "execution_count": 36,
     "metadata": {},
     "output_type": "execute_result"
    }
   ],
   "source": [
    "frequencybus_3"
   ]
  },
  {
   "cell_type": "code",
   "execution_count": 37,
   "id": "6e2a54bc-d3a2-4501-9b77-b521ac458868",
   "metadata": {},
   "outputs": [
    {
     "data": {
      "text/plain": [
       "0"
      ]
     },
     "execution_count": 37,
     "metadata": {},
     "output_type": "execute_result"
    }
   ],
   "source": [
    "frequencybrus_3"
   ]
  },
  {
   "cell_type": "code",
   "execution_count": 38,
   "id": "9ddce211-8a50-4a35-90b8-a62481dd05df",
   "metadata": {},
   "outputs": [
    {
     "data": {
      "text/plain": [
       "0"
      ]
     },
     "execution_count": 38,
     "metadata": {},
     "output_type": "execute_result"
    }
   ],
   "source": [
    "frequencybu_3"
   ]
  },
  {
   "cell_type": "code",
   "execution_count": 39,
   "id": "f01469d6-3c9c-4f88-b216-3be9b17f9107",
   "metadata": {},
   "outputs": [],
   "source": [
    "# Récupération du contenu du fichier\n",
    "path = \"../data/decade/foudall_clean.txt\"\n",
    "limit = 10**8\n",
    "\n",
    "with open(path) as f:\n",
    "    text = f.read()[:limit]"
   ]
  },
  {
   "cell_type": "code",
   "execution_count": 40,
   "id": "3d932661-c865-4023-bbf0-a3ca1ce065e0",
   "metadata": {},
   "outputs": [
    {
     "name": "stdout",
     "output_type": "stream",
     "text": [
      "2305100 words found\n"
     ]
    }
   ],
   "source": [
    "# Tokenization\n",
    "words = nltk.wordpunct_tokenize(text)\n",
    "print(f\"{len(words)} words found\")"
   ]
  },
  {
   "cell_type": "code",
   "execution_count": 41,
   "id": "46f142d6-e1b4-4804-9453-f30611bef49b",
   "metadata": {},
   "outputs": [],
   "source": [
    "counter = Counter(words)"
   ]
  },
  {
   "cell_type": "code",
   "execution_count": 42,
   "id": "d26de96f-b900-4733-b590-47e5621fbf8a",
   "metadata": {},
   "outputs": [],
   "source": [
    "frequencytray_4 = counter[\"tramway\"]\n",
    "frequencytrayf_4 = counter[\"tramwayf\"]\n",
    "frequencytrays_4 = counter[\"tramways\"]\n",
    "frequencytam_4 = counter[\"tamway\"]\n",
    "frequencytram_4 = counter [\"tram\"]\n",
    "frequencybus_4 = counter[\"autobus\"]\n",
    "frequencybrus_4 = counter[\"autrobus\"]\n",
    "frequencybu_4 = counter[\"autobu\"]"
   ]
  },
  {
   "cell_type": "code",
   "execution_count": 43,
   "id": "aa9d417f-abc5-4c4d-9189-ce1e134a9cd0",
   "metadata": {},
   "outputs": [
    {
     "data": {
      "text/plain": [
       "388"
      ]
     },
     "execution_count": 43,
     "metadata": {},
     "output_type": "execute_result"
    }
   ],
   "source": [
    "frequencytray_4"
   ]
  },
  {
   "cell_type": "code",
   "execution_count": 44,
   "id": "555d1e93-1551-4ba5-93b6-5d14b94dc4c4",
   "metadata": {},
   "outputs": [
    {
     "data": {
      "text/plain": [
       "0"
      ]
     },
     "execution_count": 44,
     "metadata": {},
     "output_type": "execute_result"
    }
   ],
   "source": [
    "frequencytrayf_4"
   ]
  },
  {
   "cell_type": "code",
   "execution_count": 45,
   "id": "3b0e0fc0-8d4d-405a-9f00-b44797529e1d",
   "metadata": {},
   "outputs": [
    {
     "data": {
      "text/plain": [
       "600"
      ]
     },
     "execution_count": 45,
     "metadata": {},
     "output_type": "execute_result"
    }
   ],
   "source": [
    "frequencytrays_4"
   ]
  },
  {
   "cell_type": "code",
   "execution_count": 46,
   "id": "d56f75bb-70ae-4c46-9a01-5e3ed64946aa",
   "metadata": {},
   "outputs": [
    {
     "data": {
      "text/plain": [
       "0"
      ]
     },
     "execution_count": 46,
     "metadata": {},
     "output_type": "execute_result"
    }
   ],
   "source": [
    "frequencytam_4"
   ]
  },
  {
   "cell_type": "code",
   "execution_count": 47,
   "id": "f987232b-6da5-4b42-b83e-8ec73b7f4423",
   "metadata": {},
   "outputs": [
    {
     "data": {
      "text/plain": [
       "113"
      ]
     },
     "execution_count": 47,
     "metadata": {},
     "output_type": "execute_result"
    }
   ],
   "source": [
    "frequencytram_4"
   ]
  },
  {
   "cell_type": "code",
   "execution_count": 48,
   "id": "74d75d4d-95a8-43a5-9462-e080a0423158",
   "metadata": {},
   "outputs": [
    {
     "data": {
      "text/plain": [
       "0"
      ]
     },
     "execution_count": 48,
     "metadata": {},
     "output_type": "execute_result"
    }
   ],
   "source": [
    "frequencybus_4"
   ]
  },
  {
   "cell_type": "code",
   "execution_count": 49,
   "id": "d7729883-c6be-48a1-a89a-2093350baca3",
   "metadata": {},
   "outputs": [
    {
     "data": {
      "text/plain": [
       "0"
      ]
     },
     "execution_count": 49,
     "metadata": {},
     "output_type": "execute_result"
    }
   ],
   "source": [
    "frequencybrus_4"
   ]
  },
  {
   "cell_type": "code",
   "execution_count": 50,
   "id": "1cdeb8d6-82ad-4ed4-b769-0f87eee0b632",
   "metadata": {},
   "outputs": [
    {
     "data": {
      "text/plain": [
       "0"
      ]
     },
     "execution_count": 50,
     "metadata": {},
     "output_type": "execute_result"
    }
   ],
   "source": [
    "frequencybu_4 "
   ]
  },
  {
   "cell_type": "code",
   "execution_count": 51,
   "id": "bd564234-de08-4b41-b773-968f7b81a9e7",
   "metadata": {},
   "outputs": [],
   "source": [
    "# Récupération du contenu du fichier\n",
    "path = \"../data/decade/fifdall_clean.txt\"\n",
    "limit = 10**8\n",
    "\n",
    "with open(path) as f:\n",
    "    text = f.read()[:limit]"
   ]
  },
  {
   "cell_type": "code",
   "execution_count": 52,
   "id": "9fc0d110-8682-4a6a-858c-a46aa4030651",
   "metadata": {},
   "outputs": [
    {
     "name": "stdout",
     "output_type": "stream",
     "text": [
      "2241782 words found\n"
     ]
    }
   ],
   "source": [
    "# Tokenization\n",
    "words = nltk.wordpunct_tokenize(text)\n",
    "print(f\"{len(words)} words found\")"
   ]
  },
  {
   "cell_type": "code",
   "execution_count": 53,
   "id": "fd54e11f-c657-4aeb-a87e-c80a0004b53a",
   "metadata": {},
   "outputs": [],
   "source": [
    "counter = Counter(words)"
   ]
  },
  {
   "cell_type": "code",
   "execution_count": 54,
   "id": "ce5233ed-1e5b-45a1-883f-e79d2a9b0b59",
   "metadata": {},
   "outputs": [],
   "source": [
    "frequencytray_5 = counter[\"tramway\"]\n",
    "frequencytrayf_5 = counter[\"tramwayf\"]\n",
    "frequencytrays_5 = counter[\"tramways\"]\n",
    "frequencytam_5 = counter[\"tamway\"]\n",
    "frequencytram_5 = counter [\"tram\"]\n",
    "frequencybus_5 = counter[\"autobus\"]\n",
    "frequencybrus_5 = counter[\"autrobus\"]\n",
    "frequencybu_5 = counter[\"autobu\"]"
   ]
  },
  {
   "cell_type": "code",
   "execution_count": 55,
   "id": "81dba7b6-39e4-4ccf-83bd-15c2bf547cc7",
   "metadata": {},
   "outputs": [
    {
     "data": {
      "text/plain": [
       "499"
      ]
     },
     "execution_count": 55,
     "metadata": {},
     "output_type": "execute_result"
    }
   ],
   "source": [
    "frequencytray_5"
   ]
  },
  {
   "cell_type": "code",
   "execution_count": 56,
   "id": "96e66f26-0883-4145-9c97-855889343dc1",
   "metadata": {},
   "outputs": [
    {
     "data": {
      "text/plain": [
       "1"
      ]
     },
     "execution_count": 56,
     "metadata": {},
     "output_type": "execute_result"
    }
   ],
   "source": [
    "frequencytrayf_5"
   ]
  },
  {
   "cell_type": "code",
   "execution_count": 57,
   "id": "2a6fc49f-7dfc-480b-972b-3620aa84a4fb",
   "metadata": {},
   "outputs": [
    {
     "data": {
      "text/plain": [
       "942"
      ]
     },
     "execution_count": 57,
     "metadata": {},
     "output_type": "execute_result"
    }
   ],
   "source": [
    "frequencytrays_5"
   ]
  },
  {
   "cell_type": "code",
   "execution_count": 58,
   "id": "1df8af09-a33c-4923-a260-75a76690c943",
   "metadata": {},
   "outputs": [
    {
     "data": {
      "text/plain": [
       "0"
      ]
     },
     "execution_count": 58,
     "metadata": {},
     "output_type": "execute_result"
    }
   ],
   "source": [
    "frequencytam_5"
   ]
  },
  {
   "cell_type": "code",
   "execution_count": 59,
   "id": "2e5b0fbd-344d-49b4-9a6a-f0c09b3d291e",
   "metadata": {},
   "outputs": [
    {
     "data": {
      "text/plain": [
       "182"
      ]
     },
     "execution_count": 59,
     "metadata": {},
     "output_type": "execute_result"
    }
   ],
   "source": [
    "frequencytram_5"
   ]
  },
  {
   "cell_type": "code",
   "execution_count": 60,
   "id": "b805bc43-389c-4e81-a11d-55ecff9764a3",
   "metadata": {},
   "outputs": [
    {
     "data": {
      "text/plain": [
       "0"
      ]
     },
     "execution_count": 60,
     "metadata": {},
     "output_type": "execute_result"
    }
   ],
   "source": [
    "frequencybus_5"
   ]
  },
  {
   "cell_type": "code",
   "execution_count": 61,
   "id": "529260d7-6689-454e-9557-b6516fb77672",
   "metadata": {},
   "outputs": [
    {
     "data": {
      "text/plain": [
       "0"
      ]
     },
     "execution_count": 61,
     "metadata": {},
     "output_type": "execute_result"
    }
   ],
   "source": [
    "frequencybrus_5"
   ]
  },
  {
   "cell_type": "code",
   "execution_count": 62,
   "id": "32af46a3-a275-4af9-8493-731580f215f8",
   "metadata": {},
   "outputs": [
    {
     "data": {
      "text/plain": [
       "0"
      ]
     },
     "execution_count": 62,
     "metadata": {},
     "output_type": "execute_result"
    }
   ],
   "source": [
    "frequencybu_5"
   ]
  },
  {
   "cell_type": "code",
   "execution_count": 63,
   "id": "b3e7a676-e01d-4ab8-9195-914f7c901979",
   "metadata": {},
   "outputs": [],
   "source": [
    "# Récupération du contenu du fichier\n",
    "path = \"../data/decade/sixdall_clean.txt\"\n",
    "limit = 10**8\n",
    "\n",
    "with open(path) as f:\n",
    "    text = f.read()[:limit]"
   ]
  },
  {
   "cell_type": "code",
   "execution_count": 64,
   "id": "23e5a10c-9be9-4a66-b08d-60276758d430",
   "metadata": {},
   "outputs": [
    {
     "name": "stdout",
     "output_type": "stream",
     "text": [
      "2022631 words found\n"
     ]
    }
   ],
   "source": [
    "# Tokenization\n",
    "words = nltk.wordpunct_tokenize(text)\n",
    "print(f\"{len(words)} words found\")"
   ]
  },
  {
   "cell_type": "code",
   "execution_count": 65,
   "id": "597d66f1-b853-4b65-bd61-bbe616df45e6",
   "metadata": {},
   "outputs": [],
   "source": [
    "counter = Counter(words)"
   ]
  },
  {
   "cell_type": "code",
   "execution_count": 66,
   "id": "baac143d-8be4-41dc-abcc-2d9ec7139a29",
   "metadata": {},
   "outputs": [],
   "source": [
    "frequencytray_6 = counter[\"tramway\"]\n",
    "frequencytrayf_6 = counter[\"tramwayf\"]\n",
    "frequencytrays_6 = counter[\"tramways\"]\n",
    "frequencytam_6 = counter[\"tamway\"]\n",
    "frequencytram_6 = counter [\"tram\"]\n",
    "frequencybus_6 = counter[\"autobus\"]\n",
    "frequencybrus_6 = counter[\"autrobus\"]\n",
    "frequencybu_6 = counter[\"autobu\"]"
   ]
  },
  {
   "cell_type": "code",
   "execution_count": 67,
   "id": "e156862a-be55-4203-9a8f-8ac8ecb70981",
   "metadata": {},
   "outputs": [
    {
     "data": {
      "text/plain": [
       "260"
      ]
     },
     "execution_count": 67,
     "metadata": {},
     "output_type": "execute_result"
    }
   ],
   "source": [
    "frequencytray_6"
   ]
  },
  {
   "cell_type": "code",
   "execution_count": 68,
   "id": "3b889200-a0d8-4d40-adce-18ae7b89f133",
   "metadata": {},
   "outputs": [
    {
     "data": {
      "text/plain": [
       "0"
      ]
     },
     "execution_count": 68,
     "metadata": {},
     "output_type": "execute_result"
    }
   ],
   "source": [
    "frequencytrayf_6"
   ]
  },
  {
   "cell_type": "code",
   "execution_count": 69,
   "id": "dd4c247d-3eb0-4c57-ad20-1688358730bd",
   "metadata": {},
   "outputs": [
    {
     "data": {
      "text/plain": [
       "1005"
      ]
     },
     "execution_count": 69,
     "metadata": {},
     "output_type": "execute_result"
    }
   ],
   "source": [
    "frequencytrays_6"
   ]
  },
  {
   "cell_type": "code",
   "execution_count": 70,
   "id": "35231f54-bc9d-4adf-9dc4-abce9fbca839",
   "metadata": {},
   "outputs": [
    {
     "data": {
      "text/plain": [
       "0"
      ]
     },
     "execution_count": 70,
     "metadata": {},
     "output_type": "execute_result"
    }
   ],
   "source": [
    "frequencytam_6"
   ]
  },
  {
   "cell_type": "code",
   "execution_count": 71,
   "id": "362fd481-5c7a-426f-ae66-444d5c54c78c",
   "metadata": {},
   "outputs": [
    {
     "data": {
      "text/plain": [
       "103"
      ]
     },
     "execution_count": 71,
     "metadata": {},
     "output_type": "execute_result"
    }
   ],
   "source": [
    "frequencytram_6"
   ]
  },
  {
   "cell_type": "code",
   "execution_count": 72,
   "id": "082234dd-60dc-4e75-88e0-1ca3dfbd1721",
   "metadata": {},
   "outputs": [
    {
     "data": {
      "text/plain": [
       "6"
      ]
     },
     "execution_count": 72,
     "metadata": {},
     "output_type": "execute_result"
    }
   ],
   "source": [
    "frequencybus_6"
   ]
  },
  {
   "cell_type": "code",
   "execution_count": 73,
   "id": "922209a5-3a7a-4f46-9aba-446fba5f44af",
   "metadata": {},
   "outputs": [
    {
     "data": {
      "text/plain": [
       "0"
      ]
     },
     "execution_count": 73,
     "metadata": {},
     "output_type": "execute_result"
    }
   ],
   "source": [
    "frequencybrus_6"
   ]
  },
  {
   "cell_type": "code",
   "execution_count": 74,
   "id": "b31f9a5b-a118-4966-a910-912afda1b3f8",
   "metadata": {},
   "outputs": [
    {
     "data": {
      "text/plain": [
       "0"
      ]
     },
     "execution_count": 74,
     "metadata": {},
     "output_type": "execute_result"
    }
   ],
   "source": [
    "frequencybu_6"
   ]
  },
  {
   "cell_type": "code",
   "execution_count": 75,
   "id": "a3bcdf25-2785-458a-8372-63314a240053",
   "metadata": {},
   "outputs": [],
   "source": [
    "# Récupération du contenu du fichier\n",
    "path = \"../data/decade/sevdall_clean.txt\"\n",
    "limit = 10**8\n",
    "\n",
    "with open(path) as f:\n",
    "    text = f.read()[:limit]"
   ]
  },
  {
   "cell_type": "code",
   "execution_count": 76,
   "id": "3462a1f7-2a61-4c2d-b072-b91f4ddf53e0",
   "metadata": {},
   "outputs": [
    {
     "name": "stdout",
     "output_type": "stream",
     "text": [
      "1530351 words found\n"
     ]
    }
   ],
   "source": [
    "# Tokenization\n",
    "words = nltk.wordpunct_tokenize(text)\n",
    "print(f\"{len(words)} words found\")"
   ]
  },
  {
   "cell_type": "code",
   "execution_count": 77,
   "id": "3d1952ea-67e3-4c37-bd44-58ab90e76e58",
   "metadata": {},
   "outputs": [],
   "source": [
    "counter = Counter(words)"
   ]
  },
  {
   "cell_type": "code",
   "execution_count": 78,
   "id": "ccf32a9e-26e5-4e0f-883c-2810717a40c5",
   "metadata": {},
   "outputs": [],
   "source": [
    "frequencytray_7 = counter[\"tramway\"]\n",
    "frequencytrayf_7 = counter[\"tramwayf\"]\n",
    "frequencytrays_7 = counter[\"tramways\"]\n",
    "frequencytam_7 = counter[\"tamway\"]\n",
    "frequencytram_7 = counter [\"tram\"]\n",
    "frequencybus_7 = counter[\"autobus\"]\n",
    "frequencybrus_7 = counter[\"autrobus\"]\n",
    "frequencybu_7 = counter[\"autobu\"]"
   ]
  },
  {
   "cell_type": "code",
   "execution_count": 79,
   "id": "072615c7-2713-4f08-b487-2452ee9866ef",
   "metadata": {},
   "outputs": [
    {
     "data": {
      "text/plain": [
       "269"
      ]
     },
     "execution_count": 79,
     "metadata": {},
     "output_type": "execute_result"
    }
   ],
   "source": [
    "frequencytray_7 "
   ]
  },
  {
   "cell_type": "code",
   "execution_count": 80,
   "id": "8220727c-4f6e-4848-b0af-fd4640598a2d",
   "metadata": {},
   "outputs": [
    {
     "data": {
      "text/plain": [
       "0"
      ]
     },
     "execution_count": 80,
     "metadata": {},
     "output_type": "execute_result"
    }
   ],
   "source": [
    "frequencytrayf_7"
   ]
  },
  {
   "cell_type": "code",
   "execution_count": 81,
   "id": "4353408d-71b6-4f91-9820-54176904ae0a",
   "metadata": {},
   "outputs": [
    {
     "data": {
      "text/plain": [
       "1345"
      ]
     },
     "execution_count": 81,
     "metadata": {},
     "output_type": "execute_result"
    }
   ],
   "source": [
    "frequencytrays_7"
   ]
  },
  {
   "cell_type": "code",
   "execution_count": 82,
   "id": "c043dece-efc7-4d78-b349-b3de835c243d",
   "metadata": {},
   "outputs": [
    {
     "data": {
      "text/plain": [
       "0"
      ]
     },
     "execution_count": 82,
     "metadata": {},
     "output_type": "execute_result"
    }
   ],
   "source": [
    "frequencytam_7"
   ]
  },
  {
   "cell_type": "code",
   "execution_count": 83,
   "id": "24083bc4-3e49-47c7-9de6-db308df47779",
   "metadata": {},
   "outputs": [
    {
     "data": {
      "text/plain": [
       "172"
      ]
     },
     "execution_count": 83,
     "metadata": {},
     "output_type": "execute_result"
    }
   ],
   "source": [
    "frequencytram_7"
   ]
  },
  {
   "cell_type": "code",
   "execution_count": 84,
   "id": "b01882ee-1e82-436a-afd6-44f4dbca2bb1",
   "metadata": {},
   "outputs": [
    {
     "data": {
      "text/plain": [
       "180"
      ]
     },
     "execution_count": 84,
     "metadata": {},
     "output_type": "execute_result"
    }
   ],
   "source": [
    "frequencybus_7 "
   ]
  },
  {
   "cell_type": "code",
   "execution_count": 85,
   "id": "bb338fef-1c98-4a8e-afdd-6daf213d2b14",
   "metadata": {},
   "outputs": [
    {
     "data": {
      "text/plain": [
       "0"
      ]
     },
     "execution_count": 85,
     "metadata": {},
     "output_type": "execute_result"
    }
   ],
   "source": [
    "frequencybrus_7"
   ]
  },
  {
   "cell_type": "code",
   "execution_count": 86,
   "id": "039f8a46-ad0b-4960-b104-a172203e643d",
   "metadata": {},
   "outputs": [
    {
     "data": {
      "text/plain": [
       "0"
      ]
     },
     "execution_count": 86,
     "metadata": {},
     "output_type": "execute_result"
    }
   ],
   "source": [
    "frequencybu_7"
   ]
  },
  {
   "cell_type": "code",
   "execution_count": 87,
   "id": "340d9bb9-4f34-43cc-8767-4661e89a8dfb",
   "metadata": {},
   "outputs": [],
   "source": [
    "# Récupération du contenu du fichier\n",
    "path = \"../data/decade/eigdall_clean.txt\"\n",
    "limit = 10**8\n",
    "\n",
    "with open(path) as f:\n",
    "    text = f.read()[:limit]"
   ]
  },
  {
   "cell_type": "code",
   "execution_count": 88,
   "id": "14c7ac4f-29fd-437b-849d-74607b3713fd",
   "metadata": {},
   "outputs": [
    {
     "name": "stdout",
     "output_type": "stream",
     "text": [
      "1489651 words found\n"
     ]
    }
   ],
   "source": [
    "# Tokenization\n",
    "words = nltk.wordpunct_tokenize(text)\n",
    "print(f\"{len(words)} words found\")"
   ]
  },
  {
   "cell_type": "code",
   "execution_count": 89,
   "id": "1961f774-a917-47af-8d1d-d47f82fab3ae",
   "metadata": {},
   "outputs": [],
   "source": [
    "counter = Counter(words)"
   ]
  },
  {
   "cell_type": "code",
   "execution_count": 90,
   "id": "d14f2e9f-4694-4a26-991e-26bc12451e2d",
   "metadata": {},
   "outputs": [],
   "source": [
    "frequencytray_8 = counter[\"tramway\"]\n",
    "frequencytrayf_8 = counter[\"tramwayf\"]\n",
    "frequencytrays_8 = counter[\"tramways\"]\n",
    "frequencytam_8 = counter[\"tamway\"]\n",
    "frequencytram_8 = counter [\"tram\"]\n",
    "frequencybus_8 = counter[\"autobus\"]\n",
    "frequencybrus_8 = counter[\"autrobus\"]\n",
    "frequencybu_8 = counter[\"autobu\"]"
   ]
  },
  {
   "cell_type": "code",
   "execution_count": 91,
   "id": "837bdbf9-cb68-4cfb-8b57-f1639539d810",
   "metadata": {},
   "outputs": [
    {
     "data": {
      "text/plain": [
       "90"
      ]
     },
     "execution_count": 91,
     "metadata": {},
     "output_type": "execute_result"
    }
   ],
   "source": [
    "frequencytray_8"
   ]
  },
  {
   "cell_type": "code",
   "execution_count": 92,
   "id": "704ea616-40a6-47c8-a323-1d77840c13b1",
   "metadata": {},
   "outputs": [
    {
     "data": {
      "text/plain": [
       "0"
      ]
     },
     "execution_count": 92,
     "metadata": {},
     "output_type": "execute_result"
    }
   ],
   "source": [
    "frequencytrayf_8"
   ]
  },
  {
   "cell_type": "code",
   "execution_count": 93,
   "id": "e7556221-b028-4980-91d1-8d9b13900e7f",
   "metadata": {},
   "outputs": [
    {
     "data": {
      "text/plain": [
       "909"
      ]
     },
     "execution_count": 93,
     "metadata": {},
     "output_type": "execute_result"
    }
   ],
   "source": [
    "frequencytrays_8"
   ]
  },
  {
   "cell_type": "code",
   "execution_count": 94,
   "id": "029fd41e-ba60-44e8-82bc-b0a33002bdc7",
   "metadata": {},
   "outputs": [
    {
     "data": {
      "text/plain": [
       "0"
      ]
     },
     "execution_count": 94,
     "metadata": {},
     "output_type": "execute_result"
    }
   ],
   "source": [
    "frequencytam_8"
   ]
  },
  {
   "cell_type": "code",
   "execution_count": 95,
   "id": "c81c552b-3c1b-41d5-8d28-7c94911493b9",
   "metadata": {},
   "outputs": [
    {
     "data": {
      "text/plain": [
       "75"
      ]
     },
     "execution_count": 95,
     "metadata": {},
     "output_type": "execute_result"
    }
   ],
   "source": [
    "frequencytram_8"
   ]
  },
  {
   "cell_type": "code",
   "execution_count": 96,
   "id": "28a10662-697b-460d-97be-b42d2ec87e3f",
   "metadata": {},
   "outputs": [
    {
     "data": {
      "text/plain": [
       "367"
      ]
     },
     "execution_count": 96,
     "metadata": {},
     "output_type": "execute_result"
    }
   ],
   "source": [
    "frequencybus_8"
   ]
  },
  {
   "cell_type": "code",
   "execution_count": 97,
   "id": "e7fa2968-9aad-4d44-bb10-f5009873d009",
   "metadata": {},
   "outputs": [
    {
     "data": {
      "text/plain": [
       "0"
      ]
     },
     "execution_count": 97,
     "metadata": {},
     "output_type": "execute_result"
    }
   ],
   "source": [
    "frequencybrus_8"
   ]
  },
  {
   "cell_type": "code",
   "execution_count": 98,
   "id": "7f34ee66-9dd9-4820-9fa4-41674b0be616",
   "metadata": {},
   "outputs": [
    {
     "data": {
      "text/plain": [
       "0"
      ]
     },
     "execution_count": 98,
     "metadata": {},
     "output_type": "execute_result"
    }
   ],
   "source": [
    "frequencybu_8"
   ]
  },
  {
   "cell_type": "code",
   "execution_count": 99,
   "id": "25ae207c-cf9b-4cbd-9925-383354b47f63",
   "metadata": {},
   "outputs": [],
   "source": [
    "# Récupération du contenu du fichier\n",
    "path = \"../data/decade/nindall_clean.txt\"\n",
    "limit = 10**8\n",
    "\n",
    "with open(path) as f:\n",
    "    text = f.read()[:limit]"
   ]
  },
  {
   "cell_type": "code",
   "execution_count": 100,
   "id": "fa0a90e6-54ec-4431-a145-ff09fc45f83b",
   "metadata": {},
   "outputs": [
    {
     "name": "stdout",
     "output_type": "stream",
     "text": [
      "1849632 words found\n"
     ]
    }
   ],
   "source": [
    "# Tokenization\n",
    "words = nltk.wordpunct_tokenize(text)\n",
    "print(f\"{len(words)} words found\")"
   ]
  },
  {
   "cell_type": "code",
   "execution_count": 101,
   "id": "317ac23e-277b-44d6-b4ba-10201ff928cd",
   "metadata": {},
   "outputs": [],
   "source": [
    "counter = Counter(words)"
   ]
  },
  {
   "cell_type": "code",
   "execution_count": 102,
   "id": "0fe1a2d7-5b86-4738-88c4-af00d853ac30",
   "metadata": {},
   "outputs": [],
   "source": [
    "frequencytray_9 = counter[\"tramway\"]\n",
    "frequencytrayf_9 = counter[\"tramwayf\"]\n",
    "frequencytrays_9 = counter[\"tramways\"]\n",
    "frequencytam_9 = counter[\"tamway\"]\n",
    "frequencytram_9 = counter [\"tram\"]\n",
    "frequencybus_9 = counter [\"autobus\"]\n",
    "frequencybrus_9 = counter[\"autrobus\"]\n",
    "frequencybu_9 = counter[\"autobu\"]"
   ]
  },
  {
   "cell_type": "code",
   "execution_count": 103,
   "id": "6953bc68-9c7d-4d3e-aae9-81f455bc73b3",
   "metadata": {},
   "outputs": [
    {
     "data": {
      "text/plain": [
       "98"
      ]
     },
     "execution_count": 103,
     "metadata": {},
     "output_type": "execute_result"
    }
   ],
   "source": [
    "frequencytray_9"
   ]
  },
  {
   "cell_type": "code",
   "execution_count": 104,
   "id": "3d7e0230-97fd-4fe6-acad-f8961f2f5ad5",
   "metadata": {},
   "outputs": [
    {
     "data": {
      "text/plain": [
       "0"
      ]
     },
     "execution_count": 104,
     "metadata": {},
     "output_type": "execute_result"
    }
   ],
   "source": [
    "frequencytrayf_9"
   ]
  },
  {
   "cell_type": "code",
   "execution_count": 105,
   "id": "61d38506-ade6-46b7-9094-3375bac11883",
   "metadata": {},
   "outputs": [
    {
     "data": {
      "text/plain": [
       "884"
      ]
     },
     "execution_count": 105,
     "metadata": {},
     "output_type": "execute_result"
    }
   ],
   "source": [
    "frequencytrays_9 "
   ]
  },
  {
   "cell_type": "code",
   "execution_count": 106,
   "id": "20c59bab-d2e4-46bd-9971-e220530476f8",
   "metadata": {},
   "outputs": [
    {
     "data": {
      "text/plain": [
       "0"
      ]
     },
     "execution_count": 106,
     "metadata": {},
     "output_type": "execute_result"
    }
   ],
   "source": [
    "frequencytam_9"
   ]
  },
  {
   "cell_type": "code",
   "execution_count": 107,
   "id": "260486e0-c7c4-474e-a638-62d980da68ad",
   "metadata": {},
   "outputs": [
    {
     "data": {
      "text/plain": [
       "62"
      ]
     },
     "execution_count": 107,
     "metadata": {},
     "output_type": "execute_result"
    }
   ],
   "source": [
    "frequencytram_9"
   ]
  },
  {
   "cell_type": "code",
   "execution_count": 108,
   "id": "88f9e67f-efc9-4d35-8ae6-40a65a46cdb1",
   "metadata": {},
   "outputs": [
    {
     "data": {
      "text/plain": [
       "743"
      ]
     },
     "execution_count": 108,
     "metadata": {},
     "output_type": "execute_result"
    }
   ],
   "source": [
    "frequencybus_9"
   ]
  },
  {
   "cell_type": "code",
   "execution_count": 109,
   "id": "69e9de03-de88-44b2-ad3b-5d83ae45c1e4",
   "metadata": {},
   "outputs": [
    {
     "data": {
      "text/plain": [
       "0"
      ]
     },
     "execution_count": 109,
     "metadata": {},
     "output_type": "execute_result"
    }
   ],
   "source": [
    "frequencybrus_9"
   ]
  },
  {
   "cell_type": "code",
   "execution_count": 110,
   "id": "0465113d-5afd-4e4e-8bc2-08086a77fd3e",
   "metadata": {},
   "outputs": [
    {
     "data": {
      "text/plain": [
       "0"
      ]
     },
     "execution_count": 110,
     "metadata": {},
     "output_type": "execute_result"
    }
   ],
   "source": [
    "frequencybu_9"
   ]
  },
  {
   "cell_type": "code",
   "execution_count": 111,
   "id": "228dda23-ff81-4a3a-9cf6-2032175fd5e3",
   "metadata": {},
   "outputs": [],
   "source": [
    "# Récupération du contenu du fichier\n",
    "path = \"../data/decade/tendall_clean.txt\"\n",
    "limit = 10**8\n",
    "\n",
    "with open(path) as f:\n",
    "    text = f.read()[:limit]"
   ]
  },
  {
   "cell_type": "code",
   "execution_count": 112,
   "id": "ee4a799a-ec5b-462a-b9c8-f400ba76256f",
   "metadata": {},
   "outputs": [
    {
     "name": "stdout",
     "output_type": "stream",
     "text": [
      "868029 words found\n"
     ]
    }
   ],
   "source": [
    "# Tokenization\n",
    "words = nltk.wordpunct_tokenize(text)\n",
    "print(f\"{len(words)} words found\")"
   ]
  },
  {
   "cell_type": "code",
   "execution_count": 113,
   "id": "fefceb90-40ee-4007-bd86-27d9a1357717",
   "metadata": {},
   "outputs": [],
   "source": [
    "counter = Counter(words)"
   ]
  },
  {
   "cell_type": "code",
   "execution_count": 114,
   "id": "7038e618-e9e1-4019-95bd-9fcc1c6c4e3f",
   "metadata": {},
   "outputs": [],
   "source": [
    "frequencytray_10 = counter[\"tramway\"]\n",
    "frequencytrayf_10 = counter[\"tramwayf\"]\n",
    "frequencytrays_10 = counter[\"tramways\"]\n",
    "frequencytam_10 = counter[\"tamway\"]\n",
    "frequencytram_10 = counter [\"tram\"]\n",
    "frequencybus_10 = counter [\"autobus\"]\n",
    "frequencybrus_10 = counter[\"autrobus\"]\n",
    "frequencybu_10 = counter[\"autobu\"]"
   ]
  },
  {
   "cell_type": "code",
   "execution_count": 115,
   "id": "87828e3d-f8c5-420e-b65a-bc961e442895",
   "metadata": {},
   "outputs": [
    {
     "data": {
      "text/plain": [
       "33"
      ]
     },
     "execution_count": 115,
     "metadata": {},
     "output_type": "execute_result"
    }
   ],
   "source": [
    "frequencytray_10"
   ]
  },
  {
   "cell_type": "code",
   "execution_count": 116,
   "id": "9eb36707-a8dd-4966-9ef0-f8ae429707a5",
   "metadata": {},
   "outputs": [
    {
     "data": {
      "text/plain": [
       "0"
      ]
     },
     "execution_count": 116,
     "metadata": {},
     "output_type": "execute_result"
    }
   ],
   "source": [
    "frequencytrayf_10 "
   ]
  },
  {
   "cell_type": "code",
   "execution_count": 117,
   "id": "1610567f-3b9f-415e-8ee4-d47833c5fd37",
   "metadata": {},
   "outputs": [
    {
     "data": {
      "text/plain": [
       "261"
      ]
     },
     "execution_count": 117,
     "metadata": {},
     "output_type": "execute_result"
    }
   ],
   "source": [
    "frequencytrays_10"
   ]
  },
  {
   "cell_type": "code",
   "execution_count": 118,
   "id": "7b70b929-7ab8-434e-87d0-8623d4d4dba9",
   "metadata": {},
   "outputs": [
    {
     "data": {
      "text/plain": [
       "0"
      ]
     },
     "execution_count": 118,
     "metadata": {},
     "output_type": "execute_result"
    }
   ],
   "source": [
    "frequencytam_10"
   ]
  },
  {
   "cell_type": "code",
   "execution_count": 119,
   "id": "dc5684e1-479e-4014-9c73-e5356e2d4c72",
   "metadata": {},
   "outputs": [
    {
     "data": {
      "text/plain": [
       "45"
      ]
     },
     "execution_count": 119,
     "metadata": {},
     "output_type": "execute_result"
    }
   ],
   "source": [
    "frequencytram_10"
   ]
  },
  {
   "cell_type": "code",
   "execution_count": 120,
   "id": "e7a3ca14-8c4b-43d7-bc86-9760471e538c",
   "metadata": {},
   "outputs": [
    {
     "data": {
      "text/plain": [
       "90"
      ]
     },
     "execution_count": 120,
     "metadata": {},
     "output_type": "execute_result"
    }
   ],
   "source": [
    "frequencybus_10"
   ]
  },
  {
   "cell_type": "code",
   "execution_count": 121,
   "id": "ffc72721-d946-43ec-a1b2-306e69fbce0d",
   "metadata": {},
   "outputs": [
    {
     "data": {
      "text/plain": [
       "0"
      ]
     },
     "execution_count": 121,
     "metadata": {},
     "output_type": "execute_result"
    }
   ],
   "source": [
    "frequencybrus_10 "
   ]
  },
  {
   "cell_type": "code",
   "execution_count": 122,
   "id": "88560f28-99df-4868-8df9-f95e562ad108",
   "metadata": {},
   "outputs": [
    {
     "data": {
      "text/plain": [
       "0"
      ]
     },
     "execution_count": 122,
     "metadata": {},
     "output_type": "execute_result"
    }
   ],
   "source": [
    "frequencybu_10"
   ]
  },
  {
   "cell_type": "code",
   "execution_count": 123,
   "id": "225b0247-32be-49d3-b58e-ad56a8f51d2f",
   "metadata": {},
   "outputs": [],
   "source": [
    "# Récupération du contenu du fichier\n",
    "path = \"../data/decade/eledall_clean.txt\"\n",
    "limit = 10**8\n",
    "\n",
    "with open(path) as f:\n",
    "    text = f.read()[:limit]"
   ]
  },
  {
   "cell_type": "code",
   "execution_count": 124,
   "id": "6f5f9a35-f3c3-4175-a088-8b622a4f8b24",
   "metadata": {},
   "outputs": [
    {
     "name": "stdout",
     "output_type": "stream",
     "text": [
      "2731045 words found\n"
     ]
    }
   ],
   "source": [
    "# Tokenization\n",
    "words = nltk.wordpunct_tokenize(text)\n",
    "print(f\"{len(words)} words found\")"
   ]
  },
  {
   "cell_type": "code",
   "execution_count": 125,
   "id": "29289768-af59-46f8-b27c-d95e6e246ba1",
   "metadata": {},
   "outputs": [],
   "source": [
    "counter = Counter(words)"
   ]
  },
  {
   "cell_type": "code",
   "execution_count": 126,
   "id": "5e9775dd-ad80-4582-80ee-b4598a93bf7b",
   "metadata": {},
   "outputs": [],
   "source": [
    "frequencytray_11 = counter[\"tramway\"]\n",
    "frequencytrayf_11 = counter[\"tramwayf\"]\n",
    "frequencytrays_11 = counter[\"tramways\"]\n",
    "frequencytam_11 = counter[\"tamway\"]\n",
    "frequencytram_11 = counter [\"tram\"]\n",
    "frequencybus_11 = counter [\"autobus\"]\n",
    "frequencybrus_11 = counter[\"autrobus\"]\n",
    "frequencybu_11 = counter[\"autobu\"]"
   ]
  },
  {
   "cell_type": "code",
   "execution_count": 127,
   "id": "b4fcb031-d057-41f3-ad80-58d20b6f0c34",
   "metadata": {},
   "outputs": [
    {
     "data": {
      "text/plain": [
       "86"
      ]
     },
     "execution_count": 127,
     "metadata": {},
     "output_type": "execute_result"
    }
   ],
   "source": [
    "frequencytray_11"
   ]
  },
  {
   "cell_type": "code",
   "execution_count": 128,
   "id": "8e4369bd-0cae-405b-95ca-d5e6d47c62fa",
   "metadata": {},
   "outputs": [
    {
     "data": {
      "text/plain": [
       "0"
      ]
     },
     "execution_count": 128,
     "metadata": {},
     "output_type": "execute_result"
    }
   ],
   "source": [
    "frequencytrayf_11"
   ]
  },
  {
   "cell_type": "code",
   "execution_count": 129,
   "id": "2a9b84ad-2bea-4a40-92f3-d5cfc4a5161c",
   "metadata": {},
   "outputs": [
    {
     "data": {
      "text/plain": [
       "1304"
      ]
     },
     "execution_count": 129,
     "metadata": {},
     "output_type": "execute_result"
    }
   ],
   "source": [
    "frequencytrays_11"
   ]
  },
  {
   "cell_type": "code",
   "execution_count": 130,
   "id": "7e13a26e-c610-4215-b60f-6bb5444ef241",
   "metadata": {},
   "outputs": [
    {
     "data": {
      "text/plain": [
       "1"
      ]
     },
     "execution_count": 130,
     "metadata": {},
     "output_type": "execute_result"
    }
   ],
   "source": [
    "frequencytam_11"
   ]
  },
  {
   "cell_type": "code",
   "execution_count": 131,
   "id": "cbdb9ff9-a5f1-4d10-9fb6-5e8f042ab179",
   "metadata": {},
   "outputs": [
    {
     "data": {
      "text/plain": [
       "394"
      ]
     },
     "execution_count": 131,
     "metadata": {},
     "output_type": "execute_result"
    }
   ],
   "source": [
    "frequencytram_11 "
   ]
  },
  {
   "cell_type": "code",
   "execution_count": 132,
   "id": "73475474-d29d-48db-a534-971690663131",
   "metadata": {},
   "outputs": [
    {
     "data": {
      "text/plain": [
       "552"
      ]
     },
     "execution_count": 132,
     "metadata": {},
     "output_type": "execute_result"
    }
   ],
   "source": [
    "frequencybus_11"
   ]
  },
  {
   "cell_type": "code",
   "execution_count": 133,
   "id": "42147ec9-b306-45f6-a86c-b9ad4ac41e68",
   "metadata": {},
   "outputs": [
    {
     "data": {
      "text/plain": [
       "1"
      ]
     },
     "execution_count": 133,
     "metadata": {},
     "output_type": "execute_result"
    }
   ],
   "source": [
    "frequencybrus_11"
   ]
  },
  {
   "cell_type": "code",
   "execution_count": 134,
   "id": "c815153c-0d64-49d1-9f8c-0cc43605d537",
   "metadata": {},
   "outputs": [
    {
     "data": {
      "text/plain": [
       "1"
      ]
     },
     "execution_count": 134,
     "metadata": {},
     "output_type": "execute_result"
    }
   ],
   "source": [
    "frequencybu_11"
   ]
  },
  {
   "cell_type": "code",
   "execution_count": 135,
   "id": "78061b45-c65f-496f-9524-23030021ecc2",
   "metadata": {},
   "outputs": [],
   "source": [
    "# Récupération du contenu du fichier\n",
    "path = \"../data/decade/twedall_clean.txt\"\n",
    "limit = 10**8\n",
    "\n",
    "with open(path) as f:\n",
    "    text = f.read()[:limit]"
   ]
  },
  {
   "cell_type": "code",
   "execution_count": 136,
   "id": "02c0efa1-9aa9-4261-bba3-0d0b52f5070b",
   "metadata": {},
   "outputs": [
    {
     "name": "stdout",
     "output_type": "stream",
     "text": [
      "3881190 words found\n"
     ]
    }
   ],
   "source": [
    "# Tokenization\n",
    "words = nltk.wordpunct_tokenize(text)\n",
    "print(f\"{len(words)} words found\")"
   ]
  },
  {
   "cell_type": "code",
   "execution_count": 137,
   "id": "051ca5a6-d828-4630-b29a-e8b08eef2fe1",
   "metadata": {},
   "outputs": [],
   "source": [
    "counter = Counter(words)"
   ]
  },
  {
   "cell_type": "code",
   "execution_count": 138,
   "id": "21a2862b-0529-48f1-a094-feb0161ec1fb",
   "metadata": {},
   "outputs": [],
   "source": [
    "frequencytray_12 = counter[\"tramway\"]\n",
    "frequencytrayf_12 = counter[\"tramwayf\"]\n",
    "frequencytrays_12 = counter[\"tramways\"]\n",
    "frequencytam_12 = counter[\"tamway\"]\n",
    "frequencytram_12 = counter [\"tram\"]\n",
    "frequencybus_12 = counter [\"autobus\"]\n",
    "frequencybrus_12 = counter[\"autrobus\"]\n",
    "frequencybu_12 = counter[\"autobu\"]"
   ]
  },
  {
   "cell_type": "code",
   "execution_count": 139,
   "id": "468adeab-653a-4b34-bd29-811d68ca74ac",
   "metadata": {},
   "outputs": [
    {
     "data": {
      "text/plain": [
       "39"
      ]
     },
     "execution_count": 139,
     "metadata": {},
     "output_type": "execute_result"
    }
   ],
   "source": [
    "frequencytray_12"
   ]
  },
  {
   "cell_type": "code",
   "execution_count": 140,
   "id": "8473f832-3eb8-4c81-8ad2-3e531e374972",
   "metadata": {},
   "outputs": [
    {
     "data": {
      "text/plain": [
       "0"
      ]
     },
     "execution_count": 140,
     "metadata": {},
     "output_type": "execute_result"
    }
   ],
   "source": [
    "frequencytrayf_12"
   ]
  },
  {
   "cell_type": "code",
   "execution_count": 141,
   "id": "3750c937-88e9-40e0-8a3d-b91d43a33db6",
   "metadata": {},
   "outputs": [
    {
     "data": {
      "text/plain": [
       "592"
      ]
     },
     "execution_count": 141,
     "metadata": {},
     "output_type": "execute_result"
    }
   ],
   "source": [
    "frequencytrays_12"
   ]
  },
  {
   "cell_type": "code",
   "execution_count": 142,
   "id": "4895a5a4-52ca-4a1a-ac59-b0e381e737ee",
   "metadata": {},
   "outputs": [
    {
     "data": {
      "text/plain": [
       "0"
      ]
     },
     "execution_count": 142,
     "metadata": {},
     "output_type": "execute_result"
    }
   ],
   "source": [
    "frequencytam_12"
   ]
  },
  {
   "cell_type": "code",
   "execution_count": 143,
   "id": "261f909a-cddd-4f97-9bef-c071608428db",
   "metadata": {},
   "outputs": [
    {
     "data": {
      "text/plain": [
       "235"
      ]
     },
     "execution_count": 143,
     "metadata": {},
     "output_type": "execute_result"
    }
   ],
   "source": [
    "frequencytram_12"
   ]
  },
  {
   "cell_type": "code",
   "execution_count": 144,
   "id": "1dc52aac-a949-43ba-8246-52d2ba0b12ce",
   "metadata": {},
   "outputs": [
    {
     "data": {
      "text/plain": [
       "931"
      ]
     },
     "execution_count": 144,
     "metadata": {},
     "output_type": "execute_result"
    }
   ],
   "source": [
    "frequencybus_12"
   ]
  },
  {
   "cell_type": "code",
   "execution_count": 145,
   "id": "415dd8c6-77a3-4577-a6da-5bd3f254df03",
   "metadata": {},
   "outputs": [
    {
     "data": {
      "text/plain": [
       "0"
      ]
     },
     "execution_count": 145,
     "metadata": {},
     "output_type": "execute_result"
    }
   ],
   "source": [
    "frequencybrus_12"
   ]
  },
  {
   "cell_type": "code",
   "execution_count": 146,
   "id": "63ed3399-1791-4d6c-8bd0-f742cafefabb",
   "metadata": {},
   "outputs": [
    {
     "data": {
      "text/plain": [
       "0"
      ]
     },
     "execution_count": 146,
     "metadata": {},
     "output_type": "execute_result"
    }
   ],
   "source": [
    "frequencybu_12"
   ]
  },
  {
   "cell_type": "code",
   "execution_count": 147,
   "id": "865a8c42-a99f-464f-9d15-ce8d8d5f1e78",
   "metadata": {},
   "outputs": [],
   "source": [
    "# Récupération du contenu du fichier\n",
    "path = \"../data/decade/thtdall_clean.txt\"\n",
    "limit = 10**8\n",
    "\n",
    "with open(path) as f:\n",
    "    text = f.read()[:limit]"
   ]
  },
  {
   "cell_type": "code",
   "execution_count": 148,
   "id": "6f095fb2-6843-434c-aee9-39169277b9d4",
   "metadata": {},
   "outputs": [
    {
     "name": "stdout",
     "output_type": "stream",
     "text": [
      "3617690 words found\n"
     ]
    }
   ],
   "source": [
    "# Tokenization\n",
    "words = nltk.wordpunct_tokenize(text)\n",
    "print(f\"{len(words)} words found\")"
   ]
  },
  {
   "cell_type": "code",
   "execution_count": 149,
   "id": "a39f45dd-2184-4476-b0c4-e70440a589a9",
   "metadata": {},
   "outputs": [],
   "source": [
    "counter = Counter(words)"
   ]
  },
  {
   "cell_type": "code",
   "execution_count": 150,
   "id": "7e9b3309-48cc-47c5-bd1f-75f3bf181c35",
   "metadata": {},
   "outputs": [],
   "source": [
    "frequencytray_13 = counter[\"tramway\"]\n",
    "frequencytrayf_13 = counter[\"tramwayf\"]\n",
    "frequencytrays_13 = counter[\"tramways\"]\n",
    "frequencytam_13 = counter[\"tamway\"]\n",
    "frequencytram_13 = counter [\"tram\"]\n",
    "frequencybus_13 = counter [\"autobus\"]\n",
    "frequencybrus_13 = counter[\"autrobus\"]\n",
    "frequencybu_13 = counter[\"autobu\"]"
   ]
  },
  {
   "cell_type": "code",
   "execution_count": 151,
   "id": "2877704d-e52a-4e4e-8aea-cfe9239f2be7",
   "metadata": {},
   "outputs": [
    {
     "data": {
      "text/plain": [
       "39"
      ]
     },
     "execution_count": 151,
     "metadata": {},
     "output_type": "execute_result"
    }
   ],
   "source": [
    "frequencytray_13"
   ]
  },
  {
   "cell_type": "code",
   "execution_count": 152,
   "id": "07b6e8fc-acb5-4f62-8cfb-0ae2e72119bf",
   "metadata": {},
   "outputs": [
    {
     "data": {
      "text/plain": [
       "0"
      ]
     },
     "execution_count": 152,
     "metadata": {},
     "output_type": "execute_result"
    }
   ],
   "source": [
    "frequencytrayf_13"
   ]
  },
  {
   "cell_type": "code",
   "execution_count": 153,
   "id": "e6361341-b848-4a3e-a81a-cbe4f5391b77",
   "metadata": {},
   "outputs": [
    {
     "data": {
      "text/plain": [
       "192"
      ]
     },
     "execution_count": 153,
     "metadata": {},
     "output_type": "execute_result"
    }
   ],
   "source": [
    "frequencytrays_13"
   ]
  },
  {
   "cell_type": "code",
   "execution_count": 154,
   "id": "1017afbc-2680-48c1-8dce-365e1651cca9",
   "metadata": {},
   "outputs": [
    {
     "data": {
      "text/plain": [
       "0"
      ]
     },
     "execution_count": 154,
     "metadata": {},
     "output_type": "execute_result"
    }
   ],
   "source": [
    "frequencytam_13"
   ]
  },
  {
   "cell_type": "code",
   "execution_count": 155,
   "id": "17a97db4-2a88-4176-a91e-26fff96fee92",
   "metadata": {},
   "outputs": [
    {
     "data": {
      "text/plain": [
       "134"
      ]
     },
     "execution_count": 155,
     "metadata": {},
     "output_type": "execute_result"
    }
   ],
   "source": [
    "frequencytram_13"
   ]
  },
  {
   "cell_type": "code",
   "execution_count": 156,
   "id": "6287265d-d71d-466c-aac8-f278c25c8b83",
   "metadata": {},
   "outputs": [
    {
     "data": {
      "text/plain": [
       "307"
      ]
     },
     "execution_count": 156,
     "metadata": {},
     "output_type": "execute_result"
    }
   ],
   "source": [
    "frequencybus_13"
   ]
  },
  {
   "cell_type": "code",
   "execution_count": 157,
   "id": "4d1e4bcb-0e49-4133-8619-6c1ed16a4162",
   "metadata": {},
   "outputs": [
    {
     "data": {
      "text/plain": [
       "0"
      ]
     },
     "execution_count": 157,
     "metadata": {},
     "output_type": "execute_result"
    }
   ],
   "source": [
    "frequencybrus_13"
   ]
  },
  {
   "cell_type": "code",
   "execution_count": 158,
   "id": "29025600-b975-464c-9ec8-89f0d2753053",
   "metadata": {},
   "outputs": [
    {
     "data": {
      "text/plain": [
       "0"
      ]
     },
     "execution_count": 158,
     "metadata": {},
     "output_type": "execute_result"
    }
   ],
   "source": [
    "frequencybu_13"
   ]
  },
  {
   "cell_type": "markdown",
   "id": "fe9a52f6-6c60-4fe1-a01a-202162e569b5",
   "metadata": {},
   "source": [
    "## Visualisation des résultats sous forme graphique"
   ]
  },
  {
   "cell_type": "markdown",
   "id": "3147bc33-67fc-407c-a94a-594caea520ce",
   "metadata": {},
   "source": [
    "### Imports"
   ]
  },
  {
   "cell_type": "code",
   "execution_count": 159,
   "id": "cde186bf-bfc6-4391-96d2-2837570fa4b2",
   "metadata": {},
   "outputs": [],
   "source": [
    "import matplotlib.pyplot as plt\n",
    "import numpy as np\n",
    "import pandas as pd\n",
    "import numpy as np\n",
    "from array import array"
   ]
  },
  {
   "cell_type": "markdown",
   "id": "74b127a9-b4bd-4a51-ba6d-7173b3fbd6a5",
   "metadata": {},
   "source": [
    "### Préparation des données utilisées"
   ]
  },
  {
   "cell_type": "markdown",
   "id": "c10fe419-5c03-4c7e-a9ca-18af6dbfe0ac",
   "metadata": {},
   "source": [
    "#### Tramway "
   ]
  },
  {
   "cell_type": "code",
   "execution_count": 160,
   "id": "fd93af1e-f2c1-4ef8-b3a8-4a0663edc3f2",
   "metadata": {},
   "outputs": [],
   "source": [
    "freqtramy_1 = [frequencytray_1 + frequencytrayf_1 + frequencytrays_1 + frequencytam_1 + frequencytram_1]\n",
    "freqtramy_2 = [frequencytray_2 + frequencytrayf_2 + frequencytrays_2 + frequencytam_2 + frequencytram_2]\n",
    "freqtramy_3 = [frequencytray_3 + frequencytrayf_3 + frequencytrays_3 + frequencytam_3 + frequencytram_3]\n",
    "freqtramy_4 = [frequencytray_4 + frequencytrayf_4 + frequencytrays_4 + frequencytam_4 + frequencytram_4]\n",
    "freqtramy_5 = [frequencytray_5 + frequencytrayf_5 + frequencytrays_5 + frequencytam_5 + frequencytram_5]\n",
    "freqtramy_6 = [frequencytray_6 + frequencytrayf_6 + frequencytrays_6 + frequencytam_6 + frequencytram_6]\n",
    "freqtramy_7 = [frequencytray_7 + frequencytrayf_7 + frequencytrays_7 + frequencytam_7 + frequencytram_7]\n",
    "freqtramy_8 = [frequencytray_8 + frequencytrayf_8 + frequencytrays_8 + frequencytam_8 + frequencytram_8]\n",
    "freqtramy_9 = [frequencytray_9 + frequencytrayf_9 + frequencytrays_9 + frequencytam_9 + frequencytram_9]\n",
    "freqtramy_10 = [frequencytray_10 + frequencytrayf_10 + frequencytrays_10 + frequencytam_10 + frequencytram_10]\n",
    "freqtramy_11 = [frequencytray_11 + frequencytrayf_11 + frequencytrays_11 + frequencytam_11 + frequencytram_11]\n",
    "freqtramy_12 = [frequencytray_12 + frequencytrayf_12 + frequencytrays_12 + frequencytam_12 + frequencytram_12]\n",
    "freqtramy_13 = [frequencytray_13 + frequencytrayf_13 + frequencytrays_13 + frequencytam_13 + frequencytram_13]"
   ]
  },
  {
   "cell_type": "markdown",
   "id": "2ac6e882-8a0b-43d9-ad1b-4c45b4a0a84c",
   "metadata": {},
   "source": [
    "#### Bus"
   ]
  },
  {
   "cell_type": "code",
   "execution_count": 161,
   "id": "a2a5ea20-c927-4ab6-a5a0-1396e51ae7b6",
   "metadata": {},
   "outputs": [],
   "source": [
    "freqbus_1 = [frequencybus_1 + frequencybrus_1 + frequencybu_1]\n",
    "freqbus_2 = [frequencybus_2 + frequencybrus_2 + frequencybu_2]\n",
    "freqbus_3 = [frequencybus_3 + frequencybrus_3 + frequencybu_3]\n",
    "freqbus_4 = [frequencybus_4 + frequencybrus_4 + frequencybu_4]\n",
    "freqbus_5 = [frequencybus_5 + frequencybrus_5 + frequencybu_5]\n",
    "freqbus_6 = [frequencybus_6 + frequencybrus_6 + frequencybu_6]\n",
    "freqbus_7 = [frequencybus_7 + frequencybrus_7 + frequencybu_7]\n",
    "freqbus_8 = [frequencybus_8 + frequencybrus_8 + frequencybu_8]\n",
    "freqbus_9 = [frequencybus_9 + frequencybrus_9 + frequencybu_9]\n",
    "freqbus_10 = [frequencybus_10 + frequencybrus_10 + frequencybu_10]\n",
    "freqbus_11 = [frequencybus_11 + frequencybrus_11 + frequencybu_11]\n",
    "freqbus_12 = [frequencybus_12 + frequencybrus_12 + frequencybu_12]\n",
    "freqbus_13 = [frequencybus_13 + frequencybrus_13 + frequencybu_13]"
   ]
  },
  {
   "cell_type": "markdown",
   "id": "fed0a901-02f9-4943-8a5f-1a9a84157f0c",
   "metadata": {},
   "source": [
    "#### Données qui seront dans le tableau"
   ]
  },
  {
   "cell_type": "code",
   "execution_count": 162,
   "id": "6b23d3b4-a9ed-437c-a34c-81b12ab54d2f",
   "metadata": {},
   "outputs": [],
   "source": [
    "Vfreqtram = [freqtramy_1,freqtramy_2 ,freqtramy_3 ,freqtramy_4 ,freqtramy_5 ,freqtramy_6 ,freqtramy_7 ,freqtramy_8 ,\n",
    "             freqtramy_9,freqtramy_10 ,freqtramy_11  ,freqtramy_12 ,freqtramy_13]\n",
    "\n",
    "\n",
    "Vfreqbus = [freqbus_1, freqbus_2, freqbus_3, freqbus_4, freqbus_5, freqbus_6,\n",
    "            freqbus_7, freqbus_8, freqbus_9,freqbus_10, freqbus_11, freqbus_12,\n",
    "            freqbus_13]"
   ]
  },
  {
   "cell_type": "code",
   "execution_count": 163,
   "id": "4467e9e2-5585-43fa-86a2-31dd641ead5d",
   "metadata": {},
   "outputs": [
    {
     "name": "stdout",
     "output_type": "stream",
     "text": [
      "[[2], [0], [203], [1101], [1624], [1368], [1786], [1074], [1044], [339], [1785], [866], [365]]\n"
     ]
    }
   ],
   "source": [
    "print (Vfreqtram)"
   ]
  },
  {
   "cell_type": "code",
   "execution_count": 164,
   "id": "4bcc8ea6-bd39-4bce-a5d3-d7b664d8ebee",
   "metadata": {},
   "outputs": [
    {
     "name": "stdout",
     "output_type": "stream",
     "text": [
      "[[0], [0], [0], [0], [0], [6], [180], [367], [743], [90], [554], [931], [307]]\n"
     ]
    }
   ],
   "source": [
    "print (Vfreqbus)"
   ]
  },
  {
   "cell_type": "markdown",
   "id": "26747c3a-e33b-4e07-a8f8-f65c93096201",
   "metadata": {},
   "source": [
    "### Tableau de données"
   ]
  },
  {
   "cell_type": "code",
   "execution_count": 165,
   "id": "7193b40b-ac90-4538-abe1-0a8718e7b2aa",
   "metadata": {},
   "outputs": [
    {
     "data": {
      "text/html": [
       "<div>\n",
       "<style scoped>\n",
       "    .dataframe tbody tr th:only-of-type {\n",
       "        vertical-align: middle;\n",
       "    }\n",
       "\n",
       "    .dataframe tbody tr th {\n",
       "        vertical-align: top;\n",
       "    }\n",
       "\n",
       "    .dataframe thead th {\n",
       "        text-align: right;\n",
       "    }\n",
       "</style>\n",
       "<table border=\"1\" class=\"dataframe\">\n",
       "  <thead>\n",
       "    <tr style=\"text-align: right;\">\n",
       "      <th></th>\n",
       "      <th>1847 à 1859</th>\n",
       "      <th>1860 à 1869</th>\n",
       "      <th>1870 à 1879</th>\n",
       "      <th>1880 à 1889</th>\n",
       "      <th>1890 à 1899</th>\n",
       "      <th>1900 à 1909</th>\n",
       "      <th>1910 à 1919</th>\n",
       "      <th>1920 à 1929</th>\n",
       "      <th>1930 à 1939</th>\n",
       "      <th>1940 à 1949</th>\n",
       "      <th>1950 à 1959</th>\n",
       "      <th>1960 à 1969</th>\n",
       "      <th>1970 à 1978</th>\n",
       "    </tr>\n",
       "  </thead>\n",
       "  <tbody>\n",
       "    <tr>\n",
       "      <th>Tramway</th>\n",
       "      <td>[2]</td>\n",
       "      <td>[0]</td>\n",
       "      <td>[203]</td>\n",
       "      <td>[1101]</td>\n",
       "      <td>[1624]</td>\n",
       "      <td>[1368]</td>\n",
       "      <td>[1786]</td>\n",
       "      <td>[1074]</td>\n",
       "      <td>[1044]</td>\n",
       "      <td>[339]</td>\n",
       "      <td>[1785]</td>\n",
       "      <td>[866]</td>\n",
       "      <td>[365]</td>\n",
       "    </tr>\n",
       "    <tr>\n",
       "      <th>Autobus</th>\n",
       "      <td>[0]</td>\n",
       "      <td>[0]</td>\n",
       "      <td>[0]</td>\n",
       "      <td>[0]</td>\n",
       "      <td>[0]</td>\n",
       "      <td>[6]</td>\n",
       "      <td>[180]</td>\n",
       "      <td>[367]</td>\n",
       "      <td>[743]</td>\n",
       "      <td>[90]</td>\n",
       "      <td>[554]</td>\n",
       "      <td>[931]</td>\n",
       "      <td>[307]</td>\n",
       "    </tr>\n",
       "  </tbody>\n",
       "</table>\n",
       "</div>"
      ],
      "text/plain": [
       "        1847 à 1859 1860 à 1869 1870 à 1879 1880 à 1889 1890 à 1899  \\\n",
       "Tramway         [2]         [0]       [203]      [1101]      [1624]   \n",
       "Autobus         [0]         [0]         [0]         [0]         [0]   \n",
       "\n",
       "        1900 à 1909 1910 à 1919 1920 à 1929 1930 à 1939 1940 à 1949  \\\n",
       "Tramway      [1368]      [1786]      [1074]      [1044]       [339]   \n",
       "Autobus         [6]       [180]       [367]       [743]        [90]   \n",
       "\n",
       "        1950 à 1959 1960 à 1969 1970 à 1978  \n",
       "Tramway      [1785]       [866]       [365]  \n",
       "Autobus       [554]       [931]       [307]  "
      ]
     },
     "execution_count": 165,
     "metadata": {},
     "output_type": "execute_result"
    }
   ],
   "source": [
    "data = [Vfreqtram,Vfreqbus]\n",
    "columns = ('1847 à 1859','1860 à 1869' ,'1870 à 1879' ,'1880 à 1889' ,'1890 à 1899','1900 à 1909','1910 à 1919',\n",
    "              '1920 à 1929','1930 à 1939','1940 à 1949','1950 à 1959','1960 à 1969','1970 à 1978')\n",
    "index = ('Tramway', 'Autobus')\n",
    "df = pd.DataFrame(data=data, columns=columns, index=index)\n",
    "\n",
    "df"
   ]
  },
  {
   "cell_type": "markdown",
   "id": "e32de9c4-f092-442c-87ee-3202ec36c487",
   "metadata": {},
   "source": [
    "### Histogramme"
   ]
  },
  {
   "cell_type": "code",
   "execution_count": 167,
   "id": "7ac9f8e2-ac3e-4df7-ba12-d33592e554ea",
   "metadata": {},
   "outputs": [
    {
     "data": {
      "image/png": "[encoded data removed]",
      "text/plain": [
       "<Figure size 1440x1440 with 1 Axes>"
      ]
     },
     "metadata": {
      "needs_background": "light"
     },
     "output_type": "display_data"
    }
   ],
   "source": [
    "largeur_barre = 0.3\n",
    "\n",
    "y1 = [2,  0,  203, 1101, 1624, 1369, 1786, 1074, 1044, 356, 1785, 866, 365]\n",
    "y2 = [0,0,0,0,0,6,180,367,743,90,554,931,307]\n",
    "\n",
    "x1 = range(len(y1)) # Position des barres de la catégorie 1\n",
    "x2 = [i + largeur_barre for i in x1] # Position des barres de la cat 2\n",
    "\n",
    "plt.figure(figsize=(20, 20))\n",
    "\n",
    "plt.bar(x1, y1, width = largeur_barre, color = 'orange', # Barres cat 1\n",
    "           linewidth = 2, label=\"Tram\")\n",
    "\n",
    "plt.bar(x2, y2, width = largeur_barre, color = 'yellow', # Barres cat 2\n",
    "          linewidth = 2, label=\"Bus\")\n",
    "\n",
    "plt.xticks([r + largeur_barre / 2 for r in range(len(y1))], # Etiquettes\n",
    "              ['1847 à 1859','1860 à 1869' ,'1870 à 1879' ,'1880 à 1889' ,'1890 à 1899','1900 à 1909','1910 à 1919',\n",
    "              '1920 à 1929','1930 à 1939','1940 à 1949','1950 à 1959','1960 à 1969','1970 à 1978'])\n",
    "\n",
    "\n",
    "plt.xlabel('Décennie', fontweight ='bold', fontsize = 10)\n",
    "plt.ylabel(\"Nombre d'apparition du terme\", fontweight ='bold', fontsize = 10)\n",
    "plt.title (\"Distribution de la fréquence du terme autobus dans les bulletins communaux\", fontsize=20)\n",
    "plt.legend()\n",
    "plt.savefig(\"plot_freqtrambus.png\")\n",
    "\n",
    "plt.show()"
   ]
  },
  {
   "cell_type": "code",
   "execution_count": null,
   "id": "a7b75867-b1c6-4bf6-8c69-fa60ad6faad4",
   "metadata": {},
   "outputs": [],
   "source": []
  }
 ],
 "metadata": {
  "kernelspec": {
   "display_name": "Python 3 (ipykernel)",
   "language": "python",
   "name": "python3"
  },
  "language_info": {
   "codemirror_mode": {
    "name": "ipython",
    "version": 3
   },
   "file_extension": ".py",
   "mimetype": "text/x-python",
   "name": "python",
   "nbconvert_exporter": "python",
   "pygments_lexer": "ipython3",
   "version": "3.9.8"
  }
 },
 "nbformat": 4,
 "nbformat_minor": 5
}
