{
 "cells": [
  {
   "cell_type": "markdown",
   "id": "e521f30d-bab5-48d2-ac98-3776df5be552",
   "metadata": {},
   "source": [
    "# Création des fichiers sur lesquels je vais travailler et nettoyage de ces fichiers"
   ]
  },
  {
   "cell_type": "markdown",
   "id": "84018ae4-b814-452b-818f-27794bf476b8",
   "metadata": {},
   "source": [
    "## Création de fichiers par décennie"
   ]
  },
  {
   "cell_type": "markdown",
   "id": "1a09983a-44d0-43ea-aaaf-b3d303b397d5",
   "metadata": {},
   "source": [
    "Je vais créer des fichiers pour chaque décennie commencant par 0 et jusque 9 \n",
    "\n",
    "Exceptions = premier et dernier fichiers qui comprendront plus qu'une décennie puisque le corpus commence en 1847 \n",
    "et se termine en 1978 (pas décennie ronde) \n",
    "\n",
    "- 1ère décennie (appelée fird pour first decade) = 1847 à 1859\n",
    "- 2ème = 1860 à 1869\n",
    "- 3ème = 1870 à 1879\n",
    "- ...\n",
    "- 13ème = 1970 à 1978"
   ]
  },
  {
   "cell_type": "markdown",
   "id": "f883914b-11ea-4a4d-95a8-ff7f4b4d68bb",
   "metadata": {},
   "source": [
    "### Import"
   ]
  },
  {
   "cell_type": "code",
   "execution_count": 1,
   "id": "7851ac85-8a4d-4a0a-93ea-f8655fd85882",
   "metadata": {},
   "outputs": [],
   "source": [
    "import os\n",
    "import yake"
   ]
  },
  {
   "cell_type": "markdown",
   "id": "b55dce12-0ada-449e-ba2b-c47355794545",
   "metadata": {},
   "source": [
    "### Lister les fichiers dans 'data/txt/' + vérification du nombre de fichiers"
   ]
  },
  {
   "cell_type": "code",
   "execution_count": 2,
   "id": "47023e4b-eb0d-467d-81af-6f5a951acce8",
   "metadata": {},
   "outputs": [
    {
     "data": {
      "text/plain": [
       "2829"
      ]
     },
     "execution_count": 2,
     "metadata": {},
     "output_type": "execute_result"
    }
   ],
   "source": [
    "data_path = \"../data/txt/\"\n",
    "files = os.listdir(data_path)\n",
    "len (files)"
   ]
  },
  {
   "cell_type": "markdown",
   "id": "1dcc8451-f9f0-4e41-8b69-11fc887c459e",
   "metadata": {},
   "source": [
    "### Création d'un dossier dans 'data' qui sera comprendra tous les fichiers de décennie"
   ]
  },
  {
   "cell_type": "code",
   "execution_count": 3,
   "id": "6e6aaa50-a93e-45c6-9e36-185038ad0d41",
   "metadata": {},
   "outputs": [],
   "source": [
    "if not os.path.exists('../data/decade'):\n",
    "    os.mkdir('../data/decade')"
   ]
  },
  {
   "cell_type": "markdown",
   "id": "7a78c3b3-f8bd-49d7-a7ef-b69db437e621",
   "metadata": {},
   "source": [
    "### Création des fichiers de chaque décennie "
   ]
  },
  {
   "cell_type": "markdown",
   "id": "7d1686a9-9884-420d-832e-832d4ba7f069",
   "metadata": {},
   "source": [
    "#### Commençons par la première décennie"
   ]
  },
  {
   "cell_type": "code",
   "execution_count": 4,
   "id": "158949c5-33e0-4188-9120-839937519cc2",
   "metadata": {},
   "outputs": [],
   "source": [
    "# D'abord, regrouper les fichiers de 1847 à 1849\n",
    "!cat ../data/txt/Bxl_184*.txt > ../data/decade/firdall.txt"
   ]
  },
  {
   "cell_type": "code",
   "execution_count": 5,
   "id": "d702b790-9086-479b-a3d8-505cc3f03a07",
   "metadata": {},
   "outputs": [
    {
     "name": "stdout",
     "output_type": "stream",
     "text": [
      " 108825  978391 4712296 ../data/decade/firdall.txt\n"
     ]
    }
   ],
   "source": [
    "# Vérification de la longueur du fichier en termes de nombre de lignes, de mots, d'octets.\n",
    "!wc ../data/decade/firdall.txt"
   ]
  },
  {
   "cell_type": "code",
   "execution_count": 6,
   "id": "62bda36b-241e-4b93-b901-a1e3c78dac66",
   "metadata": {},
   "outputs": [],
   "source": [
    "# On ajoute les fichiers des années de 1850 à 1859\n",
    "!cat ../data/txt/Bxl_185*.txt >> ../data/decade/firdall.txt"
   ]
  },
  {
   "cell_type": "code",
   "execution_count": 7,
   "id": "65dc48d1-2c86-40f2-82dc-c5c7d9beb277",
   "metadata": {},
   "outputs": [
    {
     "name": "stdout",
     "output_type": "stream",
     "text": [
      "  688939  5565852 25151452 ../data/decade/firdall.txt\n"
     ]
    }
   ],
   "source": [
    "# Vérification de la longueur du fichier pour vérifier qu'on n'a rien écrasé\n",
    "!wc ../data/decade/firdall.txt"
   ]
  },
  {
   "cell_type": "markdown",
   "id": "2740f43b-4e82-4f77-b1af-fc28f7c549ec",
   "metadata": {},
   "source": [
    "#### Même chose pour toutes les autres décennies"
   ]
  },
  {
   "cell_type": "code",
   "execution_count": 8,
   "id": "db515298-02f9-4ab7-bd19-e61721b85dc3",
   "metadata": {},
   "outputs": [],
   "source": [
    "!cat ../data/txt/Bxl_186*.txt > ../data/decade/secdall.txt\n",
    "!cat ../data/txt/Bxl_187*.txt > ../data/decade/thidall.txt\n",
    "!cat ../data/txt/Bxl_188*.txt > ../data/decade/foudall.txt\n",
    "!cat ../data/txt/Bxl_189*.txt > ../data/decade/fifdall.txt\n",
    "!cat ../data/txt/Bxl_190*.txt > ../data/decade/sixdall.txt\n",
    "!cat ../data/txt/Bxl_191*.txt > ../data/decade/sevdall.txt\n",
    "!cat ../data/txt/Bxl_192*.txt > ../data/decade/eigdall.txt\n",
    "!cat ../data/txt/Bxl_193*.txt > ../data/decade/nindall.txt\n",
    "!cat ../data/txt/Bxl_194*.txt > ../data/decade/tendall.txt\n",
    "!cat ../data/txt/Bxl_195*.txt > ../data/decade/eledall.txt\n",
    "!cat ../data/txt/Bxl_196*.txt > ../data/decade/twedall.txt\n",
    "!cat ../data/txt/Bxl_197*.txt > ../data/decade/thtdall.txt"
   ]
  },
  {
   "cell_type": "markdown",
   "id": "535317a1-150f-4e56-a4d5-2ead08ab7c33",
   "metadata": {},
   "source": [
    "## Nettoyage de chaque fichier"
   ]
  },
  {
   "cell_type": "markdown",
   "id": "0ff380f5-4043-4661-b845-b39c515cb761",
   "metadata": {},
   "source": [
    "### Imports"
   ]
  },
  {
   "cell_type": "code",
   "execution_count": 4,
   "id": "deee5dda-a32e-46dc-8b7e-da27fd1bf1bd",
   "metadata": {},
   "outputs": [
    {
     "name": "stderr",
     "output_type": "stream",
     "text": [
      "[nltk_data] Downloading package stopwords to /root/nltk_data...\n",
      "[nltk_data]   Package stopwords is already up-to-date!\n"
     ]
    }
   ],
   "source": [
    "from collections import Counter\n",
    "from wordcloud import WordCloud\n",
    "import nltk\n",
    "nltk.download('stopwords')\n",
    "from nltk.corpus import stopwords\n",
    "from IPython.display import Image\n",
    "import shutil"
   ]
  },
  {
   "cell_type": "markdown",
   "id": "107f874f-36ec-4d86-8ce8-fdc5e0ea186a",
   "metadata": {},
   "source": [
    "### Création d'une liste de 'mots vides' (= stopwords)"
   ]
  },
  {
   "cell_type": "code",
   "execution_count": 5,
   "id": "12db01f2-7c8b-4bf2-9512-e548065bc005",
   "metadata": {},
   "outputs": [],
   "source": [
    "sw = stopwords.words(\"french\")\n",
    "sw += [\"ville\", \"faire\", \"commune\", \"conseil\", \"est\", \"une\", \"pourra\", \"point\",\n",
    "       \"messieurs\", \"demande\", \"directeur\", \"un\", \"serait\", \"le\", \"la\", \"les\", \"il\", \n",
    "       \"question\", \"aussi\", \"deux\", \"plus\", \"dit\", \"ai\", \"mais\", \"une\", \"on\", \"cas\", \"moins\",\n",
    "       \"sous\", \"tout\", \"cette\", \"fait\", \"être\", \"voir\", \"vue\", \"vu\", \"très\", \"peut\", \"quelques\",\n",
    "       \"cela\", \"déjà\", \"celui\", \"avoir\", \"elles\", \"suite\", \"contre\", \"hui\", \"ceux\", \"nouveau\",\n",
    "       \"leurs\", \"chaque\", \"alors\", \"après\", \"celle\", \"donc\", \"van\", \"toute\", \"tous\", \"encore\",\n",
    "       \"mot\", \"sans\", \"avant\", \"entre\", \"fait\", \"dont\", \"cet\", \"jusqu\", \"dire\", \"autres\", \"etc\",\n",
    "       \"faites\", \"faut\", \"ainsi\", \"doit\", \"trois\", \"peu\", \"rien\", \"comme\"]\n",
    "sw = set(sw)"
   ]
  },
  {
   "cell_type": "markdown",
   "id": "03348edd-0be7-49d1-af55-c64b56a1dc02",
   "metadata": {},
   "source": [
    "### Lister les fichiers "
   ]
  },
  {
   "cell_type": "code",
   "execution_count": 6,
   "id": "cbe25c5a-1985-43b1-870f-0f4304ba744c",
   "metadata": {},
   "outputs": [],
   "source": [
    "# Lister les Fichiers\n",
    "data_path = \"../data/decade/\"\n",
    "files = os.listdir(data_path)"
   ]
  },
  {
   "cell_type": "markdown",
   "id": "99415ad0-feb3-41d7-880e-b44ad57a8bc8",
   "metadata": {},
   "source": [
    "### Nettoyage des fichiers"
   ]
  },
  {
   "cell_type": "markdown",
   "id": "8a9eabb9-24f4-4dcb-8ced-3f472d79f705",
   "metadata": {},
   "source": [
    "#### Commençons par le premier"
   ]
  },
  {
   "cell_type": "code",
   "execution_count": 9,
   "id": "dc528332-134c-4a60-8cbd-0d2bcd1eca42",
   "metadata": {},
   "outputs": [
    {
     "data": {
      "text/plain": [
       "'../data/decade/firdall.txt'"
      ]
     },
     "execution_count": 9,
     "metadata": {},
     "output_type": "execute_result"
    }
   ],
   "source": [
    "# Choisir un fichier\n",
    "first_file = \"../data/decade/firdall.txt\"\n",
    "first_file"
   ]
  },
  {
   "cell_type": "code",
   "execution_count": 10,
   "id": "901bc3b3-5d2b-42ba-8699-cc16f4315f91",
   "metadata": {},
   "outputs": [
    {
     "data": {
      "text/plain": [
       "\"V I L L E DE\\n\\nBRUXELLES\\n\\nbulletin ires 8éanas\\nDl!\\n\\nCONSEIL\\n\\nCOMMUNAL\\n\\nANNÉE\\n\\n1847.\\n\\n\\x0cAU\\n\\n\\x0cVILLE DE B R U X E L L E S .\\n\\nbulletin\\n\\nCONSEIL\\n\\nàes\\n\\nSéances\\n\\nCOMMUNAL.\\n\\nANNÉE\\n\\n1847.\\n\\nBRUXELLES,\\nIMPRIMERIE\\n\\nD E J . H. B R I A R D ,\\n\\nRITE N E U V E , 3 1 , FAUBOURG DE N A M U R ,\\n\\n1 84 8\\n\\n\\x0cDE!\\n\\nDU CONSEI\\nDîBÏ\\n\\nE. - Communication\\nconclusions de la section des\\ndu nouvel hospice pour les av\\n\\nEnraisonde l'absence &\\nmaladie.le Conseil ajourne\\nleurs de pierre el marchai\\ncles des taxes communale'\\nbieniàance e\""
      ]
     },
     "execution_count": 10,
     "metadata": {},
     "output_type": "execute_result"
    }
   ],
   "source": [
    "# Récupérer le texte du fichier\n",
    "text = open(os.path.join(first_file), 'r').read()\n",
    "text[:500]"
   ]
  },
  {
   "cell_type": "code",
   "execution_count": 14,
   "id": "e6ff317c-49bb-4fc4-ab04-54f0e60c3c92",
   "metadata": {},
   "outputs": [],
   "source": [
    "# Préparer la demande de nettoyage (avec les précisions de ce qu'on veut qu'il garde)\n",
    "def clean_text(first_file, folder=None):\n",
    "    if folder is None:\n",
    "        input_path = f\"firdall.txt\"\n",
    "        output_path = f\"firdall_clean.txt\"\n",
    "    else:\n",
    "        input_path = f\"{folder}/firdall.txt\"\n",
    "        output_path = f\"{folder}/firdall_clean.txt\"\n",
    "    output = open(output_path, \"w\", encoding='utf-8')\n",
    "    with open(input_path, encoding='utf-8') as f:\n",
    "        text = f.read()\n",
    "        words = nltk.wordpunct_tokenize(text)\n",
    "        kept = [w.lower() for w in words if len(w) > 2 and w.isalpha() and w.lower() not in sw]\n",
    "        kept_string = \" \".join(kept)\n",
    "        output.write(kept_string)\n",
    "    return f'Output has been written in {output_path}!'"
   ]
  },
  {
   "cell_type": "code",
   "execution_count": 15,
   "id": "da51dda6-b049-4e35-9570-a66362bb3bf6",
   "metadata": {},
   "outputs": [
    {
     "data": {
      "text/plain": [
       "'Output has been written in ../data/decade//firdall_clean.txt!'"
      ]
     },
     "execution_count": 15,
     "metadata": {},
     "output_type": "execute_result"
    }
   ],
   "source": [
    "clean_text(first_file, folder=data_path)"
   ]
  },
  {
   "cell_type": "code",
   "execution_count": 16,
   "id": "5ce2318b-ab31-4e74-bb4c-7e4e68dda711",
   "metadata": {},
   "outputs": [
    {
     "data": {
      "text/plain": [
       "'bruxelles bulletin ires communal année bulletin àes séances communal année bruxelles imprimerie rite faubourg consei dîbï communication conclusions section nouvel hospice enraisonde absence maladie ajourne pierre marchai cles taxes communale bieniàance eldeseiànv donne communie mandant gnant envoi etat obligatoire secrétariat dtput proposition dan donné lecture glissement marc royales rue fai phonnenr terrains rèumsderb combinaison devoir dow ans marcs iraocs mètres espourvica lém compte rendu s'"
      ]
     },
     "execution_count": 16,
     "metadata": {},
     "output_type": "execute_result"
    }
   ],
   "source": [
    "# Vérifier le résultat\n",
    "with open(os.path.join(data_path, f'firdall_clean.txt'), 'r') as f:\n",
    "    after = f.read()\n",
    "\n",
    "after[:500]"
   ]
  },
  {
   "cell_type": "markdown",
   "id": "8b35d894-c30d-44ed-8c64-7baa63d5575a",
   "metadata": {},
   "source": [
    "#### Faire pareil avec les 13 autres fichiers"
   ]
  },
  {
   "cell_type": "code",
   "execution_count": 13,
   "id": "25e42e88-bcd9-407c-bad2-74bbcc2ea944",
   "metadata": {},
   "outputs": [],
   "source": [
    "sec_file = \"../data/decade/secdall.txt\"\n",
    "thi_file = \"../data/decade/thidall.txt\"\n",
    "fou_file = \"../data/decade/foudall.txt\"\n",
    "fif_file = \"../data/decade/fifdall.txt\"\n",
    "six_file = \"../data/decade/sixdall.txt\"\n",
    "sev_file = \"../data/decade/sevdall.txt\"\n",
    "eig_file = \"../data/decade/eigdall.txt\"\n",
    "nin_file = \"../data/decade/nindall.txt\"\n",
    "ten_file = \"../data/decade/tendall.txt\"\n",
    "ele_file = \"../data/decade/eledall.txt\"\n",
    "twe_file = \"../data/decade/twedall.txt\"\n",
    "tht_file = \"../data/decade/thtdall.txt\""
   ]
  },
  {
   "cell_type": "code",
   "execution_count": 18,
   "id": "5e2174db-2667-4e4e-a4c8-387c793d54dd",
   "metadata": {},
   "outputs": [],
   "source": [
    "def clean_text(sec_file, folder=None):\n",
    "    if folder is None:\n",
    "        input_path = f\"secdall.txt\"\n",
    "        output_path = f\"secdall_clean.txt\"\n",
    "    else:\n",
    "        input_path = f\"{folder}/secdall.txt\"\n",
    "        output_path = f\"{folder}/secdall_clean.txt\"\n",
    "    output = open(output_path, \"w\", encoding='utf-8')\n",
    "    with open(input_path, encoding='utf-8') as f:\n",
    "        text = f.read()\n",
    "        words = nltk.wordpunct_tokenize(text)\n",
    "        kept = [w.lower() for w in words if len(w) > 2 and w.isalpha() and w.lower() not in sw]\n",
    "        kept_string = \" \".join(kept)\n",
    "        output.write(kept_string)\n",
    "    return f'Output has been written in {output_path}!'"
   ]
  },
  {
   "cell_type": "code",
   "execution_count": 19,
   "id": "63d8129f-9c3b-42d4-9073-0b559bede15f",
   "metadata": {},
   "outputs": [
    {
     "data": {
      "text/plain": [
       "'Output has been written in ../data/decade//secdall_clean.txt!'"
      ]
     },
     "execution_count": 19,
     "metadata": {},
     "output_type": "execute_result"
    }
   ],
   "source": [
    "clean_text(sec_file, folder=data_path)"
   ]
  },
  {
   "cell_type": "code",
   "execution_count": 20,
   "id": "a8d8a7d8-9da1-4177-9659-99ad7d4d8279",
   "metadata": {},
   "outputs": [],
   "source": [
    "def clean_text(thi_file, folder=None):\n",
    "    if folder is None:\n",
    "        input_path = f\"thidall.txt\"\n",
    "        output_path = f\"thidall_clean.txt\"\n",
    "    else:\n",
    "        input_path = f\"{folder}/thidall.txt\"\n",
    "        output_path = f\"{folder}/thidall_clean.txt\"\n",
    "    output = open(output_path, \"w\", encoding='utf-8')\n",
    "    with open(input_path, encoding='utf-8') as f:\n",
    "        text = f.read()\n",
    "        words = nltk.wordpunct_tokenize(text)\n",
    "        kept = [w.lower() for w in words if len(w) > 2 and w.isalpha() and w.lower() not in sw]\n",
    "        kept_string = \" \".join(kept)\n",
    "        output.write(kept_string)\n",
    "    return f'Output has been written in {output_path}!'"
   ]
  },
  {
   "cell_type": "code",
   "execution_count": 21,
   "id": "353440d6-da10-4ad4-a980-1c6b2ce7e07b",
   "metadata": {},
   "outputs": [
    {
     "data": {
      "text/plain": [
       "'Output has been written in ../data/decade//thidall_clean.txt!'"
      ]
     },
     "execution_count": 21,
     "metadata": {},
     "output_type": "execute_result"
    }
   ],
   "source": [
    "clean_text(thi_file, folder=data_path)"
   ]
  },
  {
   "cell_type": "code",
   "execution_count": 22,
   "id": "6a656681-b474-4cbe-acb8-164795ad0eb6",
   "metadata": {},
   "outputs": [],
   "source": [
    "def clean_text(fou_file, folder=None):\n",
    "    if folder is None:\n",
    "        input_path = f\"foudall.txt\"\n",
    "        output_path = f\"foudall_clean.txt\"\n",
    "    else:\n",
    "        input_path = f\"{folder}/foudall.txt\"\n",
    "        output_path = f\"{folder}/foudall_clean.txt\"\n",
    "    output = open(output_path, \"w\", encoding='utf-8')\n",
    "    with open(input_path, encoding='utf-8') as f:\n",
    "        text = f.read()\n",
    "        words = nltk.wordpunct_tokenize(text)\n",
    "        kept = [w.lower() for w in words if len(w) > 2 and w.isalpha() and w.lower() not in sw]\n",
    "        kept_string = \" \".join(kept)\n",
    "        output.write(kept_string)\n",
    "    return f'Output has been written in {output_path}!'"
   ]
  },
  {
   "cell_type": "code",
   "execution_count": 23,
   "id": "fc0f1a76-eda3-4410-8e56-a109fe073cf6",
   "metadata": {},
   "outputs": [
    {
     "data": {
      "text/plain": [
       "'Output has been written in ../data/decade//foudall_clean.txt!'"
      ]
     },
     "execution_count": 23,
     "metadata": {},
     "output_type": "execute_result"
    }
   ],
   "source": [
    "clean_text(fou_file, folder=data_path)"
   ]
  },
  {
   "cell_type": "code",
   "execution_count": 24,
   "id": "ec88ef11-c3e7-42d8-a399-69431d1d05bc",
   "metadata": {},
   "outputs": [],
   "source": [
    "def clean_text(fif_file, folder=None):\n",
    "    if folder is None:\n",
    "        input_path = f\"fifdall.txt\"\n",
    "        output_path = f\"fifdall_clean.txt\"\n",
    "    else:\n",
    "        input_path = f\"{folder}/fifdall.txt\"\n",
    "        output_path = f\"{folder}/fifdall_clean.txt\"\n",
    "    output = open(output_path, \"w\", encoding='utf-8')\n",
    "    with open(input_path, encoding='utf-8') as f:\n",
    "        text = f.read()\n",
    "        words = nltk.wordpunct_tokenize(text)\n",
    "        kept = [w.lower() for w in words if len(w) > 2 and w.isalpha() and w.lower() not in sw]\n",
    "        kept_string = \" \".join(kept)\n",
    "        output.write(kept_string)\n",
    "    return f'Output has been written in {output_path}!'"
   ]
  },
  {
   "cell_type": "code",
   "execution_count": 25,
   "id": "35788214-55d8-42fd-b4c1-0818ed9bade0",
   "metadata": {},
   "outputs": [
    {
     "data": {
      "text/plain": [
       "'Output has been written in ../data/decade//fifdall_clean.txt!'"
      ]
     },
     "execution_count": 25,
     "metadata": {},
     "output_type": "execute_result"
    }
   ],
   "source": [
    "clean_text(fif_file, folder=data_path)"
   ]
  },
  {
   "cell_type": "code",
   "execution_count": 26,
   "id": "624c4c51-7486-4d1c-8cb8-16d1e9b1008c",
   "metadata": {},
   "outputs": [],
   "source": [
    "def clean_text(six_file, folder=None):\n",
    "    if folder is None:\n",
    "        input_path = f\"sixdall.txt\"\n",
    "        output_path = f\"sixdall_clean.txt\"\n",
    "    else:\n",
    "        input_path = f\"{folder}/sixdall.txt\"\n",
    "        output_path = f\"{folder}/sixdall_clean.txt\"\n",
    "    output = open(output_path, \"w\", encoding='utf-8')\n",
    "    with open(input_path, encoding='utf-8') as f:\n",
    "        text = f.read()\n",
    "        words = nltk.wordpunct_tokenize(text)\n",
    "        kept = [w.lower() for w in words if len(w) > 2 and w.isalpha() and w.lower() not in sw]\n",
    "        kept_string = \" \".join(kept)\n",
    "        output.write(kept_string)\n",
    "    return f'Output has been written in {output_path}!'"
   ]
  },
  {
   "cell_type": "code",
   "execution_count": 27,
   "id": "2070591e-aafa-4e79-8e9e-d7e8ec2d4f07",
   "metadata": {},
   "outputs": [
    {
     "data": {
      "text/plain": [
       "'Output has been written in ../data/decade//sixdall_clean.txt!'"
      ]
     },
     "execution_count": 27,
     "metadata": {},
     "output_type": "execute_result"
    }
   ],
   "source": [
    "clean_text(six_file, folder=data_path)"
   ]
  },
  {
   "cell_type": "code",
   "execution_count": 28,
   "id": "de823e7c-aa9e-4321-88f4-ebc162e1e851",
   "metadata": {},
   "outputs": [],
   "source": [
    "def clean_text(sev_file, folder=None):\n",
    "    if folder is None:\n",
    "        input_path = f\"sevdall.txt\"\n",
    "        output_path = f\"sevdall_clean.txt\"\n",
    "    else:\n",
    "        input_path = f\"{folder}/sevdall.txt\"\n",
    "        output_path = f\"{folder}/sevdall_clean.txt\"\n",
    "    output = open(output_path, \"w\", encoding='utf-8')\n",
    "    with open(input_path, encoding='utf-8') as f:\n",
    "        text = f.read()\n",
    "        words = nltk.wordpunct_tokenize(text)\n",
    "        kept = [w.lower() for w in words if len(w) > 2 and w.isalpha() and w.lower() not in sw]\n",
    "        kept_string = \" \".join(kept)\n",
    "        output.write(kept_string)\n",
    "    return f'Output has been written in {output_path}!'"
   ]
  },
  {
   "cell_type": "code",
   "execution_count": 29,
   "id": "7921bc12-1553-4271-a0d9-8278ec0b7b4e",
   "metadata": {},
   "outputs": [
    {
     "data": {
      "text/plain": [
       "'Output has been written in ../data/decade//sevdall_clean.txt!'"
      ]
     },
     "execution_count": 29,
     "metadata": {},
     "output_type": "execute_result"
    }
   ],
   "source": [
    "clean_text(sev_file, folder=data_path)"
   ]
  },
  {
   "cell_type": "code",
   "execution_count": 11,
   "id": "155dbf58-b128-41fb-98f9-0799349b6173",
   "metadata": {},
   "outputs": [],
   "source": [
    "def clean_text(eig_file, folder=None):\n",
    "    if folder is None:\n",
    "        input_path = f\"eigdall.txt\"\n",
    "        output_path = f\"eigdall_clean.txt\"\n",
    "    else:\n",
    "        input_path = f\"{folder}/eigdall.txt\"\n",
    "        output_path = f\"{folder}/eigdall_clean.txt\"\n",
    "    output = open(output_path, \"w\", encoding='utf-8')\n",
    "    with open(input_path, encoding='utf-8') as f:\n",
    "        text = f.read()\n",
    "        words = nltk.wordpunct_tokenize(text)\n",
    "        kept = [w.lower() for w in words if len(w) > 2 and w.isalpha() and w.lower() not in sw]\n",
    "        kept_string = \" \".join(kept)\n",
    "        output.write(kept_string)\n",
    "    return f'Output has been written in {output_path}!'"
   ]
  },
  {
   "cell_type": "code",
   "execution_count": 15,
   "id": "73f695b4-5e96-42fe-a253-de97312fec8e",
   "metadata": {},
   "outputs": [
    {
     "data": {
      "text/plain": [
       "'Output has been written in ../data/decade//eigdall_clean.txt!'"
      ]
     },
     "execution_count": 15,
     "metadata": {},
     "output_type": "execute_result"
    }
   ],
   "source": [
    "clean_text(eig_file, folder=data_path)"
   ]
  },
  {
   "cell_type": "code",
   "execution_count": 32,
   "id": "f14607d9-0433-4c04-91ab-4abb788c113e",
   "metadata": {},
   "outputs": [],
   "source": [
    "def clean_text(nin_file, folder=None):\n",
    "    if folder is None:\n",
    "        input_path = f\"nindall.txt\"\n",
    "        output_path = f\"nindall_clean.txt\"\n",
    "    else:\n",
    "        input_path = f\"{folder}/nindall.txt\"\n",
    "        output_path = f\"{folder}/nindall_clean.txt\"\n",
    "    output = open(output_path, \"w\", encoding='utf-8')\n",
    "    with open(input_path, encoding='utf-8') as f:\n",
    "        text = f.read()\n",
    "        words = nltk.wordpunct_tokenize(text)\n",
    "        kept = [w.lower() for w in words if len(w) > 2 and w.isalpha() and w.lower() not in sw]\n",
    "        kept_string = \" \".join(kept)\n",
    "        output.write(kept_string)\n",
    "    return f'Output has been written in {output_path}!'"
   ]
  },
  {
   "cell_type": "code",
   "execution_count": 33,
   "id": "a6f3d999-197d-42d1-93ed-af3a0d6f33be",
   "metadata": {},
   "outputs": [
    {
     "data": {
      "text/plain": [
       "'Output has been written in ../data/decade//nindall_clean.txt!'"
      ]
     },
     "execution_count": 33,
     "metadata": {},
     "output_type": "execute_result"
    }
   ],
   "source": [
    "clean_text(nin_file, folder=data_path)"
   ]
  },
  {
   "cell_type": "code",
   "execution_count": 34,
   "id": "6e31b2e5-a972-4b9e-92b4-1acab52078c1",
   "metadata": {},
   "outputs": [],
   "source": [
    "def clean_text(ten_file, folder=None):\n",
    "    if folder is None:\n",
    "        input_path = f\"tendall.txt\"\n",
    "        output_path = f\"tendall_clean.txt\"\n",
    "    else:\n",
    "        input_path = f\"{folder}/tendall.txt\"\n",
    "        output_path = f\"{folder}/tendall_clean.txt\"\n",
    "    output = open(output_path, \"w\", encoding='utf-8')\n",
    "    with open(input_path, encoding='utf-8') as f:\n",
    "        text = f.read()\n",
    "        words = nltk.wordpunct_tokenize(text)\n",
    "        kept = [w.lower() for w in words if len(w) > 2 and w.isalpha() and w.lower() not in sw]\n",
    "        kept_string = \" \".join(kept)\n",
    "        output.write(kept_string)\n",
    "    return f'Output has been written in {output_path}!'"
   ]
  },
  {
   "cell_type": "code",
   "execution_count": 35,
   "id": "734b7126-bafb-40f2-8194-3a4bd76cd53e",
   "metadata": {},
   "outputs": [
    {
     "data": {
      "text/plain": [
       "'Output has been written in ../data/decade//tendall_clean.txt!'"
      ]
     },
     "execution_count": 35,
     "metadata": {},
     "output_type": "execute_result"
    }
   ],
   "source": [
    "clean_text(ten_file, folder=data_path)"
   ]
  },
  {
   "cell_type": "code",
   "execution_count": 36,
   "id": "92e7aca0-5ee7-4eb9-b850-e2c2a56de35c",
   "metadata": {},
   "outputs": [],
   "source": [
    "def clean_text(ele_file, folder=None):\n",
    "    if folder is None:\n",
    "        input_path = f\"eledall.txt\"\n",
    "        output_path = f\"eledall_clean.txt\"\n",
    "    else:\n",
    "        input_path = f\"{folder}/eledall.txt\"\n",
    "        output_path = f\"{folder}/eledall_clean.txt\"\n",
    "    output = open(output_path, \"w\", encoding='utf-8')\n",
    "    with open(input_path, encoding='utf-8') as f:\n",
    "        text = f.read()\n",
    "        words = nltk.wordpunct_tokenize(text)\n",
    "        kept = [w.lower() for w in words if len(w) > 2 and w.isalpha() and w.lower() not in sw]\n",
    "        kept_string = \" \".join(kept)\n",
    "        output.write(kept_string)\n",
    "    return f'Output has been written in {output_path}!'"
   ]
  },
  {
   "cell_type": "code",
   "execution_count": 37,
   "id": "a5486090-7724-4f66-9480-d6001cd30cd5",
   "metadata": {},
   "outputs": [
    {
     "data": {
      "text/plain": [
       "'Output has been written in ../data/decade//eledall_clean.txt!'"
      ]
     },
     "execution_count": 37,
     "metadata": {},
     "output_type": "execute_result"
    }
   ],
   "source": [
    "clean_text(ele_file, folder=data_path)"
   ]
  },
  {
   "cell_type": "code",
   "execution_count": 38,
   "id": "aff80e55-f73d-4893-8f5f-57877d8cc7d6",
   "metadata": {},
   "outputs": [],
   "source": [
    "def clean_text(twe_file, folder=None):\n",
    "    if folder is None:\n",
    "        input_path = f\"twedall.txt\"\n",
    "        output_path = f\"twedall_clean.txt\"\n",
    "    else:\n",
    "        input_path = f\"{folder}/twedall.txt\"\n",
    "        output_path = f\"{folder}/twedall_clean.txt\"\n",
    "    output = open(output_path, \"w\", encoding='utf-8')\n",
    "    with open(input_path, encoding='utf-8') as f:\n",
    "        text = f.read()\n",
    "        words = nltk.wordpunct_tokenize(text)\n",
    "        kept = [w.lower() for w in words if len(w) > 2 and w.isalpha() and w.lower() not in sw]\n",
    "        kept_string = \" \".join(kept)\n",
    "        output.write(kept_string)\n",
    "    return f'Output has been written in {output_path}!'"
   ]
  },
  {
   "cell_type": "code",
   "execution_count": 39,
   "id": "fde2bf79-7c04-4ceb-b394-0dd9c6513663",
   "metadata": {},
   "outputs": [
    {
     "data": {
      "text/plain": [
       "'Output has been written in ../data/decade//twedall_clean.txt!'"
      ]
     },
     "execution_count": 39,
     "metadata": {},
     "output_type": "execute_result"
    }
   ],
   "source": [
    "clean_text(twe_file, folder=data_path)"
   ]
  },
  {
   "cell_type": "code",
   "execution_count": 40,
   "id": "0989805d-e1c7-4334-b0bb-27fe065feaf3",
   "metadata": {},
   "outputs": [],
   "source": [
    "def clean_text(tht_file, folder=None):\n",
    "    if folder is None:\n",
    "        input_path = f\"thtdall.txt\"\n",
    "        output_path = f\"thtdall_clean.txt\"\n",
    "    else:\n",
    "        input_path = f\"{folder}/thtdall.txt\"\n",
    "        output_path = f\"{folder}/thtdall_clean.txt\"\n",
    "    output = open(output_path, \"w\", encoding='utf-8')\n",
    "    with open(input_path, encoding='utf-8') as f:\n",
    "        text = f.read()\n",
    "        words = nltk.wordpunct_tokenize(text)\n",
    "        kept = [w.lower() for w in words if len(w) > 2 and w.isalpha() and w.lower() not in sw]\n",
    "        kept_string = \" \".join(kept)\n",
    "        output.write(kept_string)\n",
    "    return f'Output has been written in {output_path}!'"
   ]
  },
  {
   "cell_type": "code",
   "execution_count": 41,
   "id": "b1ddc85f-002c-4c3f-b725-9dc7bb930554",
   "metadata": {},
   "outputs": [
    {
     "data": {
      "text/plain": [
       "'Output has been written in ../data/decade//thtdall_clean.txt!'"
      ]
     },
     "execution_count": 41,
     "metadata": {},
     "output_type": "execute_result"
    }
   ],
   "source": [
    "clean_text(tht_file, folder=data_path)"
   ]
  },
  {
   "cell_type": "markdown",
   "id": "588b4d3b-eee6-44be-992e-572350397293",
   "metadata": {},
   "source": [
    "### Rangement dans le dossier "
   ]
  },
  {
   "cell_type": "markdown",
   "id": "13970f7a-0d78-471b-8b34-04bca7ad640c",
   "metadata": {},
   "source": [
    "Création d'un dossier dans 'decade' dans lequel on déplacera tous les fichiers non-nettoyés qu'on n'utilisera plus pour le reste du travail"
   ]
  },
  {
   "cell_type": "code",
   "execution_count": 23,
   "id": "d40c1e0c-23d2-434f-a828-9d93cabf0479",
   "metadata": {},
   "outputs": [],
   "source": [
    "# Créer un dossier s'il n'existe pas déjà \n",
    "if not os.path.exists('../data/nonclean'):\n",
    "    os.mkdir('../data/nonclean')"
   ]
  },
  {
   "cell_type": "code",
   "execution_count": 24,
   "id": "e580cbd3-a1c3-497c-84a4-80e9f3ab003f",
   "metadata": {},
   "outputs": [],
   "source": [
    "# Déplacement de tous les fichiers non-nettoyés dans le nouveau dossier créer 'data/nonclean'\n",
    "files = ['../data/decade/firdall.txt','../data/decade/secdall.txt', '../data/decade/thidall.txt','../data/decade/foudall.txt',\n",
    "         '../data/decade/fifdall.txt', '../data/decade/sixdall.txt', '../data/decade/sevdall.txt','../data/decade/eigdall.txt',\n",
    "         '../data/decade/nindall.txt','../data/decade/tendall.txt', '../data/decade/eledall.txt', '../data/decade/twedall.txt',\n",
    "         '../data/decade/thtdall.txt']\n",
    "\n",
    "for file in files:\n",
    "    shutil.move(file, '../data/nonclean')"
   ]
  },
  {
   "cell_type": "code",
   "execution_count": 25,
   "id": "1879f832-d94d-4f71-b340-bd245d075ef3",
   "metadata": {},
   "outputs": [
    {
     "data": {
      "text/plain": [
       "13"
      ]
     },
     "execution_count": 25,
     "metadata": {},
     "output_type": "execute_result"
    }
   ],
   "source": [
    "len (files)"
   ]
  },
  {
   "cell_type": "code",
   "execution_count": 26,
   "id": "cd3ae76e-83f4-4212-9f2b-a403d30c37d1",
   "metadata": {},
   "outputs": [
    {
     "name": "stdout",
     "output_type": "stream",
     "text": [
      "['../data/decade/firdall.txt', '../data/decade/secdall.txt', '../data/decade/thidall.txt', '../data/decade/foudall.txt', '../data/decade/fifdall.txt', '../data/decade/sixdall.txt', '../data/decade/sevdall.txt', '../data/decade/eigdall.txt', '../data/decade/nindall.txt', '../data/decade/tendall.txt', '../data/decade/eledall.txt', '../data/decade/twedall.txt', '../data/decade/thtdall.txt']\n"
     ]
    }
   ],
   "source": [
    "print (files)"
   ]
  }
 ],
 "metadata": {
  "kernelspec": {
   "display_name": "Python 3 (ipykernel)",
   "language": "python",
   "name": "python3"
  },
  "language_info": {
   "codemirror_mode": {
    "name": "ipython",
    "version": 3
   },
   "file_extension": ".py",
   "mimetype": "text/x-python",
   "name": "python",
   "nbconvert_exporter": "python",
   "pygments_lexer": "ipython3",
   "version": "3.9.8"
  }
 },
 "nbformat": 4,
 "nbformat_minor": 5
}
