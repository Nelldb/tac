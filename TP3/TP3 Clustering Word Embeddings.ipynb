{
 "cells": [
  {
   "cell_type": "markdown",
   "id": "d1f4771a-f831-4b34-95f4-ea6aa4f16d95",
   "metadata": {},
   "source": [
    "# TP3 : Clustering & Word2Vec (Word Embeddings)"
   ]
  },
  {
   "cell_type": "markdown",
   "id": "4decaf9a-cdaa-49d3-b40e-98141c918a4c",
   "metadata": {},
   "source": [
    "## Clustering"
   ]
  },
  {
   "cell_type": "markdown",
   "id": "327d6bb3-cab2-44f0-ac4d-00d606ca9365",
   "metadata": {},
   "source": [
    "### Imports"
   ]
  },
  {
   "cell_type": "code",
   "execution_count": 1,
   "id": "fe214bf6-4dbf-4837-8908-ecda82d39a12",
   "metadata": {},
   "outputs": [],
   "source": [
    "import collections\n",
    "import os\n",
    "import string\n",
    "import sys\n",
    "\n",
    "import pandas as pd\n",
    "from nltk import word_tokenize\n",
    "from nltk.corpus import stopwords\n",
    "from pprint import pprint\n",
    "from sklearn.cluster import KMeans\n",
    "from sklearn.feature_extraction.text import TfidfVectorizer\n",
    "from sklearn.decomposition import PCA\n",
    "import numpy as np\n",
    "import matplotlib.pyplot as plt\n",
    "from scipy.spatial.distance import cosine"
   ]
  },
  {
   "cell_type": "code",
   "execution_count": 2,
   "id": "d9eced95-8e1d-41c0-8ae6-30aff9f2d8bb",
   "metadata": {},
   "outputs": [
    {
     "name": "stderr",
     "output_type": "stream",
     "text": [
      "[nltk_data] Downloading package punkt to /root/nltk_data...\n",
      "[nltk_data]   Package punkt is already up-to-date!\n"
     ]
    },
    {
     "data": {
      "text/plain": [
       "True"
      ]
     },
     "execution_count": 2,
     "metadata": {},
     "output_type": "execute_result"
    }
   ],
   "source": [
    "import nltk\n",
    "\n",
    "nltk.download('punkt')"
   ]
  },
  {
   "cell_type": "code",
   "execution_count": 3,
   "id": "9b8cccdc-9a95-42c5-b1a6-fdfc6b20aa19",
   "metadata": {},
   "outputs": [],
   "source": [
    "data_path = \"../data/txt/\""
   ]
  },
  {
   "cell_type": "markdown",
   "id": "46c9abd2-e95e-47ad-b26a-d7436f37df16",
   "metadata": {},
   "source": [
    "### Choix de la décennie"
   ]
  },
  {
   "cell_type": "code",
   "execution_count": 4,
   "id": "64320f68-35b2-4fe8-8768-159542a46b29",
   "metadata": {},
   "outputs": [],
   "source": [
    "DECADE = '1960'"
   ]
  },
  {
   "cell_type": "markdown",
   "id": "406b560e-33c9-40fa-8e0a-028daa1fc445",
   "metadata": {},
   "source": [
    "### Charger tous les  fichiers de la décennie et en créer une liste de textes"
   ]
  },
  {
   "cell_type": "code",
   "execution_count": 5,
   "id": "1b87a1ab-a776-4bfc-b929-4e2c3c220d08",
   "metadata": {},
   "outputs": [],
   "source": [
    "files = [f for f in sorted(os.listdir(data_path)) if f\"_{DECADE[:-1]}\" in f]"
   ]
  },
  {
   "cell_type": "code",
   "execution_count": 6,
   "id": "41706c4b-1319-4ede-831a-863db5b7df89",
   "metadata": {},
   "outputs": [
    {
     "data": {
      "text/plain": [
       "420"
      ]
     },
     "execution_count": 6,
     "metadata": {},
     "output_type": "execute_result"
    }
   ],
   "source": [
    "# Vérifier le nombre de fichier \n",
    "len(files)"
   ]
  },
  {
   "cell_type": "code",
   "execution_count": 7,
   "id": "c6aa28e1-9ad8-492e-b9a6-5aec20a358b7",
   "metadata": {},
   "outputs": [],
   "source": [
    "texts = [open(data_path + f).read() for f in files]"
   ]
  },
  {
   "cell_type": "code",
   "execution_count": 8,
   "id": "4872e50b-c41c-4f8a-9e43-5f9c41e3637b",
   "metadata": {},
   "outputs": [
    {
     "data": {
      "text/plain": [
       "'PUBLICATION\\n\\nPERIODIQUE\\n\\nVILLE DE BRUXELLES\\n\\nAnnée 1960\\n\\nBULLETIN\\nCOMMUNAL\\nTOME II \"\\n_u\\n\\nImpr. H . 6 M . S C H A U M A N S\\nSociété\\n\\nAnonyme\\n\\nParvis Saint-Gilles, 41\\nBruxelles\\n1960\\n\\n\\x0c\\x0cN\" 14\\n\\nCOMPTE\\n\\nR E N D U D E L A S E A N C E D U 1\"\\' A O U T\\n\\nVILLE\\n\\nDE\\n\\n1960\\n\\nBRUXELLES\\n\\nBULLETIN\\n\\nCOMMUNAL\\n\\n(Publication\\n\\npériodique)\\n\\nA n n é e 1960\\n\\nCONSEIL\\n\\nS é a n c e du\\n\\nPRESIDENCE\\n\\nCOMMUNAL\\n\\n1\\n\\ner\\n\\naoût\\n\\nDE M'"
      ]
     },
     "execution_count": 8,
     "metadata": {},
     "output_type": "execute_result"
    }
   ],
   "source": [
    "# Exemple de textes\n",
    "texts[0][:400]"
   ]
  },
  {
   "cell_type": "markdown",
   "id": "81e5bcf3-a2f7-47c9-b117-d294cdb078ad",
   "metadata": {},
   "source": [
    "### Vectoriser les documents à l'aide de TF-IDF"
   ]
  },
  {
   "cell_type": "code",
   "execution_count": 9,
   "id": "e8aabc16-4093-4929-a3e2-78d926ac79fe",
   "metadata": {},
   "outputs": [],
   "source": [
    "# Création d'une fonction de pré-traitement\n",
    "def preprocessing(text, stem=True):\n",
    "    \"\"\" Tokenize text and remove punctuation \"\"\"\n",
    "    text = text.translate(string.punctuation)\n",
    "    tokens = word_tokenize(text)\n",
    "    return tokens"
   ]
  },
  {
   "cell_type": "markdown",
   "id": "0ea86a92-c5fc-4f19-b411-cebcd5fbe4e4",
   "metadata": {},
   "source": [
    "#### Instancier le modèle TF-IDF avec ses arguments"
   ]
  },
  {
   "cell_type": "code",
   "execution_count": 10,
   "id": "8c4681e0-ff08-4305-b595-b957976ac9c2",
   "metadata": {},
   "outputs": [],
   "source": [
    "vectorizer = TfidfVectorizer(\n",
    "    tokenizer=preprocessing,\n",
    "    stop_words=stopwords.words('french'),\n",
    "    max_df=0.5,\n",
    "    min_df=0.1,\n",
    "    lowercase=True)"
   ]
  },
  {
   "cell_type": "markdown",
   "id": "8d578f97-af26-4ef7-8e56-ab297f96c9ec",
   "metadata": {},
   "source": [
    "#### Construire la matrice de vecteurs à l'aide de la fonction `fit_transform`"
   ]
  },
  {
   "cell_type": "code",
   "execution_count": 11,
   "id": "0f6912bd-d792-429f-8f95-7e120ef064a6",
   "metadata": {},
   "outputs": [
    {
     "name": "stdout",
     "output_type": "stream",
     "text": [
      "CPU times: user 39.8 s, sys: 66 ms, total: 39.9 s\n",
      "Wall time: 39.9 s\n"
     ]
    }
   ],
   "source": [
    "%time tfidf_vectors = vectorizer.fit_transform(texts)"
   ]
  },
  {
   "cell_type": "code",
   "execution_count": 12,
   "id": "5f00fb2f-f196-4cd8-b542-3b0aa3dfc15d",
   "metadata": {},
   "outputs": [
    {
     "data": {
      "text/plain": [
       "<420x6466 sparse matrix of type '<class 'numpy.float64'>'\n",
       "\twith 574279 stored elements in Compressed Sparse Row format>"
      ]
     },
     "execution_count": 12,
     "metadata": {},
     "output_type": "execute_result"
    }
   ],
   "source": [
    "# Détail de la matrice\n",
    "tfidf_vectors"
   ]
  },
  {
   "cell_type": "markdown",
   "id": "7c267191-7d12-413f-9c8d-9f04ba654ca7",
   "metadata": {},
   "source": [
    "#### Imprimer le vecteur tf-IDF du premier document"
   ]
  },
  {
   "cell_type": "code",
   "execution_count": 13,
   "id": "389f5810-d483-44eb-95ef-60d4b645fc98",
   "metadata": {},
   "outputs": [
    {
     "data": {
      "text/plain": [
       "+considérant    0.300647\n",
       "fer             0.228639\n",
       "curage          0.207466\n",
       "dma             0.153796\n",
       "art             0.147675\n",
       "                  ...   \n",
       "engagé          0.000000\n",
       "engager         0.000000\n",
       "engagements     0.000000\n",
       "engage          0.000000\n",
       "™               0.000000\n",
       "Length: 6466, dtype: float64"
      ]
     },
     "execution_count": 13,
     "metadata": {},
     "output_type": "execute_result"
    }
   ],
   "source": [
    "pd.Series(\n",
    "    tfidf_vectors[0].toarray()[0],\n",
    "    index=vectorizer.get_feature_names_out()\n",
    "    ).sort_values(ascending=False)"
   ]
  },
  {
   "cell_type": "markdown",
   "id": "48928464-64d6-46ea-8d9b-8559a4164e50",
   "metadata": {},
   "source": [
    "#### Tests sur nos documents"
   ]
  },
  {
   "cell_type": "code",
   "execution_count": 14,
   "id": "899ba333-5b22-4faa-bfef-6dd106a26bf0",
   "metadata": {},
   "outputs": [],
   "source": [
    "tfidf_array = tfidf_vectors.toarray()"
   ]
  },
  {
   "cell_type": "code",
   "execution_count": 15,
   "id": "413aa3f0-93d9-4fa4-94b0-1b9cf374f8a8",
   "metadata": {},
   "outputs": [
    {
     "data": {
      "text/plain": [
       "array([0.        , 0.        , 0.02359086, ..., 0.01398357, 0.00888238,\n",
       "       0.        ])"
      ]
     },
     "execution_count": 15,
     "metadata": {},
     "output_type": "execute_result"
    }
   ],
   "source": [
    "# Vecteur du document 0\n",
    "tfidf_array[0]"
   ]
  },
  {
   "cell_type": "code",
   "execution_count": 16,
   "id": "5983d908-3e71-41b8-84ef-26de73ae5be5",
   "metadata": {},
   "outputs": [
    {
     "data": {
      "text/plain": [
       "array([0.        , 0.        , 0.00633553, ..., 0.01408279, 0.        ,\n",
       "       0.        ])"
      ]
     },
     "execution_count": 16,
     "metadata": {},
     "output_type": "execute_result"
    }
   ],
   "source": [
    "# Vecteur du document 1\n",
    "tfidf_array[1]"
   ]
  },
  {
   "cell_type": "code",
   "execution_count": 17,
   "id": "4be121b6-0e15-4b0e-9835-f845474d0fe6",
   "metadata": {},
   "outputs": [
    {
     "data": {
      "text/plain": [
       "0.45731736240865606"
      ]
     },
     "execution_count": 17,
     "metadata": {},
     "output_type": "execute_result"
    }
   ],
   "source": [
    "cosine(tfidf_array[0], tfidf_array[1])"
   ]
  },
  {
   "cell_type": "markdown",
   "id": "e1c77b73-5d8c-473b-a7dd-a9a9e6a9882a",
   "metadata": {},
   "source": [
    "### Appliquer un algorithme de clustering sur les vecteurs TF-IDF des documents"
   ]
  },
  {
   "cell_type": "markdown",
   "id": "19abf8c3-bf72-4762-8a60-b88f3a4bb78e",
   "metadata": {},
   "source": [
    "#### Définir un nombre de clusters"
   ]
  },
  {
   "cell_type": "code",
   "execution_count": 18,
   "id": "78930ecc-7754-4b4c-bc02-35696545aeec",
   "metadata": {},
   "outputs": [],
   "source": [
    "N_CLUSTERS = 3"
   ]
  },
  {
   "cell_type": "markdown",
   "id": "1f93d024-8bce-41fe-a657-547649a2f7e6",
   "metadata": {},
   "source": [
    "#### Instancier le modèle K-Means et ses arguments"
   ]
  },
  {
   "cell_type": "code",
   "execution_count": 19,
   "id": "3166c0e1-1811-4e31-a191-2e8bfb76f076",
   "metadata": {},
   "outputs": [],
   "source": [
    "km_model = KMeans(n_clusters=N_CLUSTERS)"
   ]
  },
  {
   "cell_type": "markdown",
   "id": "381a6d8c-9c69-4062-95dd-1b8605293636",
   "metadata": {},
   "source": [
    "#### Appliquer le clustering à l'aide de la fonction `fit_predict`"
   ]
  },
  {
   "cell_type": "code",
   "execution_count": 20,
   "id": "a537efdb-d708-4ac8-959a-095602702a0c",
   "metadata": {},
   "outputs": [],
   "source": [
    "clusters = km_model.fit_predict(tfidf_vectors)"
   ]
  },
  {
   "cell_type": "code",
   "execution_count": 21,
   "id": "abd377ba-77ab-4888-8ab9-2b18f47887e0",
   "metadata": {},
   "outputs": [],
   "source": [
    "clustering = collections.defaultdict(list)\n",
    "\n",
    "for idx, label in enumerate(clusters):\n",
    "    clustering[label].append(files[idx])"
   ]
  },
  {
   "cell_type": "code",
   "execution_count": 22,
   "id": "b3c8c1a6-9cce-4b08-adfd-cd1222acf42d",
   "metadata": {},
   "outputs": [
    {
     "name": "stdout",
     "output_type": "stream",
     "text": [
      "{0: ['Bxl_1963_Tome_II1_Part_6.txt',\n",
      "     'Bxl_1963_Tome_II1_Part_8.txt',\n",
      "     'Bxl_1963_Tome_II1_Part_9.txt',\n",
      "     'Bxl_1963_Tome_II2_Part_2.txt',\n",
      "     'Bxl_1963_Tome_II2_Part_3.txt',\n",
      "     'Bxl_1963_Tome_II2_Part_4.txt',\n",
      "     'Bxl_1963_Tome_II2_Part_5.txt',\n",
      "     'Bxl_1963_Tome_II2_Part_8.txt',\n",
      "     'Bxl_1963_Tome_II2_Part_9.txt',\n",
      "     'Bxl_1964_Tome_II1_Part_4.txt',\n",
      "     'Bxl_1964_Tome_II1_Part_6.txt',\n",
      "     'Bxl_1964_Tome_II1_Part_8.txt',\n",
      "     'Bxl_1964_Tome_II1_Part_9.txt',\n",
      "     'Bxl_1964_Tome_II2_Part_1.txt',\n",
      "     'Bxl_1964_Tome_II2_Part_2.txt',\n",
      "     'Bxl_1964_Tome_II2_Part_3.txt',\n",
      "     'Bxl_1964_Tome_II2_Part_6.txt',\n",
      "     'Bxl_1964_Tome_II2_Part_7.txt',\n",
      "     'Bxl_1964_Tome_II2_Part_9.txt',\n",
      "     'Bxl_1964_Tome_I_Part_11.txt',\n",
      "     'Bxl_1964_Tome_I_Part_12.txt',\n",
      "     'Bxl_1964_Tome_I_Part_9.txt',\n",
      "     'Bxl_1965_Tome_II1_Part_1.txt',\n",
      "     'Bxl_1965_Tome_II1_Part_2.txt',\n",
      "     'Bxl_1965_Tome_II1_Part_3.txt',\n",
      "     'Bxl_1965_Tome_II1_Part_5.txt',\n",
      "     'Bxl_1965_Tome_II1_Part_7.txt',\n",
      "     'Bxl_1965_Tome_II1_Part_9.txt',\n",
      "     'Bxl_1965_Tome_II2_Part_1.txt',\n",
      "     'Bxl_1965_Tome_II2_Part_10.txt',\n",
      "     'Bxl_1965_Tome_II2_Part_11.txt',\n",
      "     'Bxl_1965_Tome_II2_Part_12.txt',\n",
      "     'Bxl_1965_Tome_II2_Part_2.txt',\n",
      "     'Bxl_1965_Tome_II2_Part_3.txt',\n",
      "     'Bxl_1965_Tome_II2_Part_5.txt',\n",
      "     'Bxl_1965_Tome_II2_Part_6.txt',\n",
      "     'Bxl_1965_Tome_II2_Part_7.txt',\n",
      "     'Bxl_1965_Tome_II2_Part_8.txt',\n",
      "     'Bxl_1965_Tome_II2_Part_9.txt',\n",
      "     'Bxl_1965_Tome_I_Part_1.txt',\n",
      "     'Bxl_1965_Tome_I_Part_10.txt',\n",
      "     'Bxl_1965_Tome_I_Part_11.txt',\n",
      "     'Bxl_1965_Tome_I_Part_12.txt',\n",
      "     'Bxl_1965_Tome_I_Part_2.txt',\n",
      "     'Bxl_1965_Tome_I_Part_3.txt',\n",
      "     'Bxl_1965_Tome_I_Part_4.txt',\n",
      "     'Bxl_1965_Tome_I_Part_6.txt',\n",
      "     'Bxl_1965_Tome_I_Part_7.txt',\n",
      "     'Bxl_1965_Tome_I_Part_8.txt',\n",
      "     'Bxl_1965_Tome_I_Part_9.txt',\n",
      "     'Bxl_1965_Tome_RptAn_Part_4.txt',\n",
      "     'Bxl_1965_Tome_RptAn_Part_5.txt',\n",
      "     'Bxl_1965_Tome_RptAn_Part_6.txt',\n",
      "     'Bxl_1965_Tome_RptAn_Part_7.txt',\n",
      "     'Bxl_1966_Tome_I1_Part_1.txt',\n",
      "     'Bxl_1966_Tome_I1_Part_10.txt',\n",
      "     'Bxl_1966_Tome_I1_Part_2.txt',\n",
      "     'Bxl_1966_Tome_I1_Part_3.txt',\n",
      "     'Bxl_1966_Tome_I1_Part_4.txt',\n",
      "     'Bxl_1966_Tome_I1_Part_5.txt',\n",
      "     'Bxl_1966_Tome_I1_Part_6.txt',\n",
      "     'Bxl_1966_Tome_I1_Part_7.txt',\n",
      "     'Bxl_1966_Tome_I1_Part_8.txt',\n",
      "     'Bxl_1966_Tome_I1_Part_9.txt',\n",
      "     'Bxl_1966_Tome_I2_Part_1.txt',\n",
      "     'Bxl_1966_Tome_I2_Part_2.txt',\n",
      "     'Bxl_1966_Tome_I2_Part_3.txt',\n",
      "     'Bxl_1966_Tome_I2_Part_4.txt',\n",
      "     'Bxl_1966_Tome_I2_Part_5.txt',\n",
      "     'Bxl_1966_Tome_I2_Part_6.txt',\n",
      "     'Bxl_1966_Tome_I2_Part_7.txt',\n",
      "     'Bxl_1966_Tome_I2_Part_8.txt',\n",
      "     'Bxl_1966_Tome_I2_Part_9.txt',\n",
      "     'Bxl_1966_Tome_II1_Part_1.txt',\n",
      "     'Bxl_1966_Tome_II1_Part_10.txt',\n",
      "     'Bxl_1966_Tome_II1_Part_11.txt',\n",
      "     'Bxl_1966_Tome_II1_Part_2.txt',\n",
      "     'Bxl_1966_Tome_II1_Part_3.txt',\n",
      "     'Bxl_1966_Tome_II1_Part_4.txt',\n",
      "     'Bxl_1966_Tome_II1_Part_5.txt',\n",
      "     'Bxl_1966_Tome_II1_Part_6.txt',\n",
      "     'Bxl_1966_Tome_II1_Part_7.txt',\n",
      "     'Bxl_1966_Tome_II1_Part_8.txt',\n",
      "     'Bxl_1966_Tome_II1_Part_9.txt',\n",
      "     'Bxl_1966_Tome_II2_Part_1.txt',\n",
      "     'Bxl_1966_Tome_II2_Part_11.txt',\n",
      "     'Bxl_1966_Tome_II2_Part_12.txt',\n",
      "     'Bxl_1966_Tome_II2_Part_2.txt',\n",
      "     'Bxl_1966_Tome_II2_Part_3.txt',\n",
      "     'Bxl_1966_Tome_II2_Part_4.txt',\n",
      "     'Bxl_1966_Tome_II2_Part_5.txt',\n",
      "     'Bxl_1966_Tome_II2_Part_6.txt',\n",
      "     'Bxl_1966_Tome_II2_Part_7.txt',\n",
      "     'Bxl_1966_Tome_II2_Part_8.txt',\n",
      "     'Bxl_1966_Tome_II2_Part_9.txt',\n",
      "     'Bxl_1966_Tome_RptAn_Part_3.txt',\n",
      "     'Bxl_1966_Tome_RptAn_Part_4.txt',\n",
      "     'Bxl_1966_Tome_RptAn_Part_5.txt',\n",
      "     'Bxl_1966_Tome_RptAn_Part_6.txt',\n",
      "     'Bxl_1967_Tome_I1_Part_1.txt',\n",
      "     'Bxl_1967_Tome_I1_Part_10.txt',\n",
      "     'Bxl_1967_Tome_I1_Part_2.txt',\n",
      "     'Bxl_1967_Tome_I1_Part_3.txt',\n",
      "     'Bxl_1967_Tome_I1_Part_4.txt',\n",
      "     'Bxl_1967_Tome_I1_Part_5.txt',\n",
      "     'Bxl_1967_Tome_I1_Part_6.txt',\n",
      "     'Bxl_1967_Tome_I1_Part_7.txt',\n",
      "     'Bxl_1967_Tome_I1_Part_8.txt',\n",
      "     'Bxl_1967_Tome_I1_Part_9.txt',\n",
      "     'Bxl_1967_Tome_I2_Part_1.txt',\n",
      "     'Bxl_1967_Tome_I2_Part_2.txt',\n",
      "     'Bxl_1967_Tome_I2_Part_3.txt',\n",
      "     'Bxl_1967_Tome_I2_Part_4.txt',\n",
      "     'Bxl_1967_Tome_I2_Part_5.txt',\n",
      "     'Bxl_1967_Tome_I2_Part_6.txt',\n",
      "     'Bxl_1967_Tome_I2_Part_7.txt',\n",
      "     'Bxl_1967_Tome_I2_Part_8.txt',\n",
      "     'Bxl_1967_Tome_I2_Part_9.txt',\n",
      "     'Bxl_1967_Tome_II1_Part_1.txt',\n",
      "     'Bxl_1967_Tome_II1_Part_10.txt',\n",
      "     'Bxl_1967_Tome_II1_Part_2.txt',\n",
      "     'Bxl_1967_Tome_II1_Part_3.txt',\n",
      "     'Bxl_1967_Tome_II1_Part_5.txt',\n",
      "     'Bxl_1967_Tome_II1_Part_6.txt',\n",
      "     'Bxl_1967_Tome_II1_Part_7.txt',\n",
      "     'Bxl_1967_Tome_II1_Part_8.txt',\n",
      "     'Bxl_1967_Tome_II1_Part_9.txt',\n",
      "     'Bxl_1967_Tome_II2_Part_1.txt',\n",
      "     'Bxl_1967_Tome_II2_Part_10.txt',\n",
      "     'Bxl_1967_Tome_II2_Part_11.txt',\n",
      "     'Bxl_1967_Tome_II2_Part_2.txt',\n",
      "     'Bxl_1967_Tome_II2_Part_3.txt',\n",
      "     'Bxl_1967_Tome_II2_Part_4.txt',\n",
      "     'Bxl_1967_Tome_II2_Part_5.txt',\n",
      "     'Bxl_1967_Tome_II2_Part_6.txt',\n",
      "     'Bxl_1967_Tome_II2_Part_7.txt',\n",
      "     'Bxl_1967_Tome_II2_Part_8.txt',\n",
      "     'Bxl_1967_Tome_II2_Part_9.txt',\n",
      "     'Bxl_1968_Tome_I1_Part_1.txt',\n",
      "     'Bxl_1968_Tome_I1_Part_2.txt',\n",
      "     'Bxl_1968_Tome_I1_Part_3.txt',\n",
      "     'Bxl_1968_Tome_I1_Part_4.txt',\n",
      "     'Bxl_1968_Tome_I1_Part_5.txt',\n",
      "     'Bxl_1968_Tome_I1_Part_6.txt',\n",
      "     'Bxl_1968_Tome_I1_Part_7.txt',\n",
      "     'Bxl_1968_Tome_I1_Part_8.txt',\n",
      "     'Bxl_1968_Tome_I1_Part_9.txt',\n",
      "     'Bxl_1968_Tome_I2_Part_1.txt',\n",
      "     'Bxl_1968_Tome_I2_Part_2.txt',\n",
      "     'Bxl_1968_Tome_I2_Part_3.txt',\n",
      "     'Bxl_1968_Tome_I2_Part_4.txt',\n",
      "     'Bxl_1968_Tome_I2_Part_5.txt',\n",
      "     'Bxl_1968_Tome_I2_Part_6.txt',\n",
      "     'Bxl_1968_Tome_I2_Part_7.txt',\n",
      "     'Bxl_1968_Tome_II1_Part_1.txt',\n",
      "     'Bxl_1968_Tome_II1_Part_2.txt',\n",
      "     'Bxl_1968_Tome_II1_Part_3.txt',\n",
      "     'Bxl_1968_Tome_II1_Part_4.txt',\n",
      "     'Bxl_1968_Tome_II1_Part_5.txt',\n",
      "     'Bxl_1968_Tome_II1_Part_6.txt',\n",
      "     'Bxl_1968_Tome_II1_Part_7.txt',\n",
      "     'Bxl_1968_Tome_II2_Part_1.txt',\n",
      "     'Bxl_1968_Tome_II2_Part_10.txt',\n",
      "     'Bxl_1968_Tome_II2_Part_11.txt',\n",
      "     'Bxl_1968_Tome_II2_Part_12.txt',\n",
      "     'Bxl_1968_Tome_II2_Part_13.txt',\n",
      "     'Bxl_1968_Tome_II2_Part_2.txt',\n",
      "     'Bxl_1968_Tome_II2_Part_3.txt',\n",
      "     'Bxl_1968_Tome_II2_Part_4.txt',\n",
      "     'Bxl_1968_Tome_II2_Part_5.txt',\n",
      "     'Bxl_1968_Tome_II2_Part_6.txt',\n",
      "     'Bxl_1968_Tome_II2_Part_7.txt',\n",
      "     'Bxl_1968_Tome_II2_Part_8.txt',\n",
      "     'Bxl_1968_Tome_II2_Part_9.txt',\n",
      "     'Bxl_1969_Tome_I1_Part_1.txt',\n",
      "     'Bxl_1969_Tome_I1_Part_2.txt',\n",
      "     'Bxl_1969_Tome_I1_Part_3.txt',\n",
      "     'Bxl_1969_Tome_I1_Part_4.txt',\n",
      "     'Bxl_1969_Tome_I1_Part_5.txt',\n",
      "     'Bxl_1969_Tome_I1_Part_6.txt',\n",
      "     'Bxl_1969_Tome_I1_Part_7.txt',\n",
      "     'Bxl_1969_Tome_I1_Part_8.txt',\n",
      "     'Bxl_1969_Tome_I2_Part_1.txt',\n",
      "     'Bxl_1969_Tome_I2_Part_2.txt',\n",
      "     'Bxl_1969_Tome_I2_Part_3.txt',\n",
      "     'Bxl_1969_Tome_I2_Part_4.txt',\n",
      "     'Bxl_1969_Tome_I2_Part_5.txt',\n",
      "     'Bxl_1969_Tome_I2_Part_6.txt',\n",
      "     'Bxl_1969_Tome_I2_Part_7.txt',\n",
      "     'Bxl_1969_Tome_I2_Part_8.txt',\n",
      "     'Bxl_1969_Tome_II1_Part_1.txt',\n",
      "     'Bxl_1969_Tome_II1_Part_2.txt',\n",
      "     'Bxl_1969_Tome_II1_Part_3.txt',\n",
      "     'Bxl_1969_Tome_II1_Part_4.txt',\n",
      "     'Bxl_1969_Tome_II1_Part_5.txt',\n",
      "     'Bxl_1969_Tome_II1_Part_6.txt',\n",
      "     'Bxl_1969_Tome_II1_Part_7.txt',\n",
      "     'Bxl_1969_Tome_II1_Part_8.txt',\n",
      "     'Bxl_1969_Tome_II2_Part_1.txt',\n",
      "     'Bxl_1969_Tome_II2_Part_10.txt',\n",
      "     'Bxl_1969_Tome_II2_Part_11.txt',\n",
      "     'Bxl_1969_Tome_II2_Part_2.txt',\n",
      "     'Bxl_1969_Tome_II2_Part_3.txt',\n",
      "     'Bxl_1969_Tome_II2_Part_4.txt',\n",
      "     'Bxl_1969_Tome_II2_Part_5.txt',\n",
      "     'Bxl_1969_Tome_II2_Part_6.txt',\n",
      "     'Bxl_1969_Tome_II2_Part_7.txt',\n",
      "     'Bxl_1969_Tome_II2_Part_8.txt',\n",
      "     'Bxl_1969_Tome_II2_Part_9.txt',\n",
      "     'Bxl_1969_Tome_RptAn_Part_1.txt',\n",
      "     'Bxl_1969_Tome_RptAn_Part_4.txt',\n",
      "     'Bxl_1969_Tome_RptAn_Part_5.txt',\n",
      "     'Bxl_1969_Tome_RptAn_Part_6.txt',\n",
      "     'Bxl_1969_Tome_RptAn_Part_7.txt'],\n",
      " 1: ['Bxl_1960_Tome_II1_Part_1.txt',\n",
      "     'Bxl_1960_Tome_II1_Part_2.txt',\n",
      "     'Bxl_1960_Tome_II1_Part_3.txt',\n",
      "     'Bxl_1960_Tome_II1_Part_4.txt',\n",
      "     'Bxl_1960_Tome_II1_Part_5.txt',\n",
      "     'Bxl_1960_Tome_II1_Part_6.txt',\n",
      "     'Bxl_1960_Tome_II1_Part_7.txt',\n",
      "     'Bxl_1960_Tome_II1_Part_8.txt',\n",
      "     'Bxl_1960_Tome_II2_Part_1.txt',\n",
      "     'Bxl_1960_Tome_II2_Part_2.txt',\n",
      "     'Bxl_1960_Tome_II2_Part_3.txt',\n",
      "     'Bxl_1960_Tome_II2_Part_4.txt',\n",
      "     'Bxl_1960_Tome_II2_Part_5.txt',\n",
      "     'Bxl_1960_Tome_II2_Part_6.txt',\n",
      "     'Bxl_1960_Tome_I_Part_1.txt',\n",
      "     'Bxl_1960_Tome_I_Part_10.txt',\n",
      "     'Bxl_1960_Tome_I_Part_11.txt',\n",
      "     'Bxl_1960_Tome_I_Part_2.txt',\n",
      "     'Bxl_1960_Tome_I_Part_3.txt',\n",
      "     'Bxl_1960_Tome_I_Part_4.txt',\n",
      "     'Bxl_1960_Tome_I_Part_5.txt',\n",
      "     'Bxl_1960_Tome_I_Part_6.txt',\n",
      "     'Bxl_1960_Tome_I_Part_7.txt',\n",
      "     'Bxl_1960_Tome_I_Part_8.txt',\n",
      "     'Bxl_1960_Tome_I_Part_9.txt',\n",
      "     'Bxl_1960_Tome_RptAn_Part_1.txt',\n",
      "     'Bxl_1960_Tome_RptAn_Part_2.txt',\n",
      "     'Bxl_1960_Tome_RptAn_Part_3.txt',\n",
      "     'Bxl_1960_Tome_RptAn_Part_4.txt',\n",
      "     'Bxl_1960_Tome_RptAn_Part_5.txt',\n",
      "     'Bxl_1960_Tome_RptAn_Part_6.txt',\n",
      "     'Bxl_1960_Tome_RptAn_Part_7.txt',\n",
      "     'Bxl_1960_Tome_RptAn_Part_8.txt',\n",
      "     'Bxl_1960_Tome_RptAn_Part_9.txt',\n",
      "     'Bxl_1961_Tome_II1_Part_1.txt',\n",
      "     'Bxl_1961_Tome_II1_Part_2.txt',\n",
      "     'Bxl_1961_Tome_II1_Part_3.txt',\n",
      "     'Bxl_1961_Tome_II1_Part_4.txt',\n",
      "     'Bxl_1961_Tome_II1_Part_5.txt',\n",
      "     'Bxl_1961_Tome_II1_Part_6.txt',\n",
      "     'Bxl_1961_Tome_II1_Part_7.txt',\n",
      "     'Bxl_1961_Tome_II1_Part_8.txt',\n",
      "     'Bxl_1961_Tome_II2_Part_1.txt',\n",
      "     'Bxl_1961_Tome_II2_Part_2.txt',\n",
      "     'Bxl_1961_Tome_II2_Part_3.txt',\n",
      "     'Bxl_1961_Tome_II2_Part_4.txt',\n",
      "     'Bxl_1961_Tome_II2_Part_5.txt',\n",
      "     'Bxl_1961_Tome_II2_Part_6.txt',\n",
      "     'Bxl_1961_Tome_I_Part_1.txt',\n",
      "     'Bxl_1961_Tome_I_Part_10.txt',\n",
      "     'Bxl_1961_Tome_I_Part_2.txt',\n",
      "     'Bxl_1961_Tome_I_Part_3.txt',\n",
      "     'Bxl_1961_Tome_I_Part_4.txt',\n",
      "     'Bxl_1961_Tome_I_Part_5.txt',\n",
      "     'Bxl_1961_Tome_I_Part_6.txt',\n",
      "     'Bxl_1961_Tome_I_Part_7.txt',\n",
      "     'Bxl_1961_Tome_I_Part_8.txt',\n",
      "     'Bxl_1961_Tome_I_Part_9.txt',\n",
      "     'Bxl_1961_Tome_RptAn_Part_1.txt',\n",
      "     'Bxl_1961_Tome_RptAn_Part_4.txt',\n",
      "     'Bxl_1961_Tome_RptAn_Part_6.txt',\n",
      "     'Bxl_1961_Tome_RptAn_Part_7.txt',\n",
      "     'Bxl_1961_Tome_RptAn_Part_8.txt',\n",
      "     'Bxl_1962_Tome_II1_Part_1.txt',\n",
      "     'Bxl_1962_Tome_II1_Part_2.txt',\n",
      "     'Bxl_1962_Tome_II1_Part_3.txt',\n",
      "     'Bxl_1962_Tome_II1_Part_4.txt',\n",
      "     'Bxl_1962_Tome_II1_Part_5.txt',\n",
      "     'Bxl_1962_Tome_II1_Part_6.txt',\n",
      "     'Bxl_1962_Tome_II1_Part_7.txt',\n",
      "     'Bxl_1962_Tome_II1_Part_8.txt',\n",
      "     'Bxl_1962_Tome_II1_Part_9.txt',\n",
      "     'Bxl_1962_Tome_II2_Part_1.txt',\n",
      "     'Bxl_1962_Tome_II2_Part_2.txt',\n",
      "     'Bxl_1962_Tome_II2_Part_3.txt',\n",
      "     'Bxl_1962_Tome_II2_Part_4.txt',\n",
      "     'Bxl_1962_Tome_II2_Part_5.txt',\n",
      "     'Bxl_1962_Tome_II2_Part_6.txt',\n",
      "     'Bxl_1962_Tome_II2_Part_7.txt',\n",
      "     'Bxl_1962_Tome_I_Part_1.txt',\n",
      "     'Bxl_1962_Tome_I_Part_10.txt',\n",
      "     'Bxl_1962_Tome_I_Part_11.txt',\n",
      "     'Bxl_1962_Tome_I_Part_2.txt',\n",
      "     'Bxl_1962_Tome_I_Part_3.txt',\n",
      "     'Bxl_1962_Tome_I_Part_4.txt',\n",
      "     'Bxl_1962_Tome_I_Part_5.txt',\n",
      "     'Bxl_1962_Tome_I_Part_6.txt',\n",
      "     'Bxl_1962_Tome_I_Part_7.txt',\n",
      "     'Bxl_1962_Tome_I_Part_8.txt',\n",
      "     'Bxl_1962_Tome_I_Part_9.txt',\n",
      "     'Bxl_1962_Tome_RptAn_Part_1.txt',\n",
      "     'Bxl_1962_Tome_RptAn_Part_2.txt',\n",
      "     'Bxl_1962_Tome_RptAn_Part_3.txt',\n",
      "     'Bxl_1962_Tome_RptAn_Part_4.txt',\n",
      "     'Bxl_1962_Tome_RptAn_Part_5.txt',\n",
      "     'Bxl_1962_Tome_RptAn_Part_6.txt',\n",
      "     'Bxl_1962_Tome_RptAn_Part_7.txt',\n",
      "     'Bxl_1962_Tome_RptAn_Part_8.txt',\n",
      "     'Bxl_1963_Tome_II1_Part_1.txt',\n",
      "     'Bxl_1963_Tome_II1_Part_2.txt',\n",
      "     'Bxl_1963_Tome_II1_Part_3.txt',\n",
      "     'Bxl_1963_Tome_II1_Part_4.txt',\n",
      "     'Bxl_1963_Tome_II1_Part_5.txt',\n",
      "     'Bxl_1963_Tome_II1_Part_7.txt',\n",
      "     'Bxl_1963_Tome_II2_Part_1.txt',\n",
      "     'Bxl_1963_Tome_II2_Part_6.txt',\n",
      "     'Bxl_1963_Tome_II2_Part_7.txt',\n",
      "     'Bxl_1963_Tome_I_Part_1.txt',\n",
      "     'Bxl_1963_Tome_I_Part_10.txt',\n",
      "     'Bxl_1963_Tome_I_Part_11.txt',\n",
      "     'Bxl_1963_Tome_I_Part_2.txt',\n",
      "     'Bxl_1963_Tome_I_Part_3.txt',\n",
      "     'Bxl_1963_Tome_I_Part_4.txt',\n",
      "     'Bxl_1963_Tome_I_Part_5.txt',\n",
      "     'Bxl_1963_Tome_I_Part_6.txt',\n",
      "     'Bxl_1963_Tome_I_Part_7.txt',\n",
      "     'Bxl_1963_Tome_I_Part_8.txt',\n",
      "     'Bxl_1963_Tome_I_Part_9.txt',\n",
      "     'Bxl_1963_Tome_RptAn_Part_1.txt',\n",
      "     'Bxl_1963_Tome_RptAn_Part_2.txt',\n",
      "     'Bxl_1963_Tome_RptAn_Part_3.txt',\n",
      "     'Bxl_1963_Tome_RptAn_Part_4.txt',\n",
      "     'Bxl_1963_Tome_RptAn_Part_5.txt',\n",
      "     'Bxl_1963_Tome_RptAn_Part_6.txt',\n",
      "     'Bxl_1963_Tome_RptAn_Part_7.txt',\n",
      "     'Bxl_1963_Tome_RptAn_Part_8.txt',\n",
      "     'Bxl_1964_Tome_II1_Part_1.txt',\n",
      "     'Bxl_1964_Tome_II1_Part_10.txt',\n",
      "     'Bxl_1964_Tome_II1_Part_11.txt',\n",
      "     'Bxl_1964_Tome_II1_Part_2.txt',\n",
      "     'Bxl_1964_Tome_II1_Part_3.txt',\n",
      "     'Bxl_1964_Tome_II1_Part_5.txt',\n",
      "     'Bxl_1964_Tome_II1_Part_7.txt',\n",
      "     'Bxl_1964_Tome_II2_Part_4.txt',\n",
      "     'Bxl_1964_Tome_II2_Part_5.txt',\n",
      "     'Bxl_1964_Tome_II2_Part_8.txt',\n",
      "     'Bxl_1964_Tome_I_Part_1.txt',\n",
      "     'Bxl_1964_Tome_I_Part_10.txt',\n",
      "     'Bxl_1964_Tome_I_Part_13.txt',\n",
      "     'Bxl_1964_Tome_I_Part_2.txt',\n",
      "     'Bxl_1964_Tome_I_Part_3.txt',\n",
      "     'Bxl_1964_Tome_I_Part_4.txt',\n",
      "     'Bxl_1964_Tome_I_Part_5.txt',\n",
      "     'Bxl_1964_Tome_I_Part_6.txt',\n",
      "     'Bxl_1964_Tome_I_Part_7.txt',\n",
      "     'Bxl_1964_Tome_I_Part_8.txt',\n",
      "     'Bxl_1964_Tome_RptAn_Part_1.txt',\n",
      "     'Bxl_1964_Tome_RptAn_Part_2.txt',\n",
      "     'Bxl_1964_Tome_RptAn_Part_3.txt',\n",
      "     'Bxl_1964_Tome_RptAn_Part_4.txt',\n",
      "     'Bxl_1964_Tome_RptAn_Part_5.txt',\n",
      "     'Bxl_1964_Tome_RptAn_Part_6.txt',\n",
      "     'Bxl_1965_Tome_II1_Part_4.txt',\n",
      "     'Bxl_1965_Tome_II1_Part_6.txt',\n",
      "     'Bxl_1965_Tome_II1_Part_8.txt',\n",
      "     'Bxl_1965_Tome_II2_Part_4.txt',\n",
      "     'Bxl_1965_Tome_I_Part_5.txt',\n",
      "     'Bxl_1965_Tome_RptAn_Part_1.txt',\n",
      "     'Bxl_1965_Tome_RptAn_Part_2.txt',\n",
      "     'Bxl_1965_Tome_RptAn_Part_3.txt',\n",
      "     'Bxl_1966_Tome_II2_Part_10.txt',\n",
      "     'Bxl_1966_Tome_RptAn_Part_1.txt',\n",
      "     'Bxl_1966_Tome_RptAn_Part_2.txt',\n",
      "     'Bxl_1967_Tome_I1_Part_11.txt',\n",
      "     'Bxl_1967_Tome_II1_Part_4.txt',\n",
      "     'Bxl_1969_Tome_II2_Part_14.txt',\n",
      "     'Bxl_1969_Tome_RptAn_Part_2.txt',\n",
      "     'Bxl_1969_Tome_RptAn_Part_3.txt'],\n",
      " 2: ['Bxl_1960_Tome_II2_Part_7.txt',\n",
      "     'Bxl_1960_Tome_II2_Part_8.txt',\n",
      "     'Bxl_1960_Tome_II2_Part_9.txt',\n",
      "     'Bxl_1960_Tome_I_Part_12.txt',\n",
      "     'Bxl_1960_Tome_I_Part_13.txt',\n",
      "     'Bxl_1961_Tome_II2_Part_7.txt',\n",
      "     'Bxl_1961_Tome_II2_Part_8.txt',\n",
      "     'Bxl_1961_Tome_I_Part_11.txt',\n",
      "     'Bxl_1961_Tome_I_Part_12.txt',\n",
      "     'Bxl_1962_Tome_II2_Part_8.txt',\n",
      "     'Bxl_1962_Tome_II2_Part_9.txt',\n",
      "     'Bxl_1962_Tome_I_Part_12.txt',\n",
      "     'Bxl_1962_Tome_I_Part_13.txt',\n",
      "     'Bxl_1963_Tome_II2_Part_10.txt',\n",
      "     'Bxl_1963_Tome_II2_Part_11.txt',\n",
      "     'Bxl_1963_Tome_II2_Part_12.txt',\n",
      "     'Bxl_1963_Tome_I_Part_12.txt',\n",
      "     'Bxl_1963_Tome_I_Part_13.txt',\n",
      "     'Bxl_1964_Tome_II2_Part_10.txt',\n",
      "     'Bxl_1964_Tome_II2_Part_11.txt',\n",
      "     'Bxl_1964_Tome_I_Part_14.txt',\n",
      "     'Bxl_1965_Tome_II2_Part_13.txt',\n",
      "     'Bxl_1965_Tome_II2_Part_14.txt',\n",
      "     'Bxl_1965_Tome_I_Part_13.txt',\n",
      "     'Bxl_1965_Tome_I_Part_14.txt',\n",
      "     'Bxl_1966_Tome_I2_Part_10.txt',\n",
      "     'Bxl_1966_Tome_I2_Part_11.txt',\n",
      "     'Bxl_1966_Tome_II2_Part_13.txt',\n",
      "     'Bxl_1966_Tome_II2_Part_14.txt',\n",
      "     'Bxl_1967_Tome_I2_Part_10.txt',\n",
      "     'Bxl_1968_Tome_I2_Part_8.txt',\n",
      "     'Bxl_1968_Tome_I2_Part_9.txt',\n",
      "     'Bxl_1968_Tome_II1_Part_8.txt',\n",
      "     'Bxl_1968_Tome_II1_Part_9.txt',\n",
      "     'Bxl_1969_Tome_I2_Part_10.txt',\n",
      "     'Bxl_1969_Tome_I2_Part_9.txt',\n",
      "     'Bxl_1969_Tome_II2_Part_12.txt',\n",
      "     'Bxl_1969_Tome_II2_Part_13.txt']}\n"
     ]
    }
   ],
   "source": [
    "pprint(dict(clustering))"
   ]
  },
  {
   "cell_type": "markdown",
   "id": "e30fe41d-a1b9-434b-b48f-bec902a4cb0b",
   "metadata": {},
   "source": [
    "### Visualiser les clusters"
   ]
  },
  {
   "cell_type": "markdown",
   "id": "cd3d30ff-4226-48bf-83bc-03ca3ba76133",
   "metadata": {},
   "source": [
    "#### Réduire les vecteurs à 2 dimensions à l'aide de l'algorithme PCA"
   ]
  },
  {
   "cell_type": "code",
   "execution_count": 23,
   "id": "0289dc82-b7d8-4bb7-83c8-eb092169ca0e",
   "metadata": {},
   "outputs": [],
   "source": [
    "pca = PCA(n_components=2)\n",
    "reduced_vectors = pca.fit_transform(tfidf_vectors.toarray())"
   ]
  },
  {
   "cell_type": "code",
   "execution_count": 24,
   "id": "274bf298-9d17-451d-85e8-82ec4cb206bc",
   "metadata": {},
   "outputs": [
    {
     "data": {
      "text/plain": [
       "array([[-0.38270898, -0.30286121],\n",
       "       [-0.46021466, -0.36438714],\n",
       "       [-0.04160136,  0.07744966],\n",
       "       [-0.42760839, -0.33990866],\n",
       "       [-0.23793954, -0.10349267],\n",
       "       [-0.10847611, -0.04634284],\n",
       "       [-0.26295743, -0.19856182],\n",
       "       [-0.3096473 , -0.15192998],\n",
       "       [-0.08372415, -0.01570238],\n",
       "       [-0.09278889,  0.02178909]])"
      ]
     },
     "execution_count": 24,
     "metadata": {},
     "output_type": "execute_result"
    }
   ],
   "source": [
    "reduced_vectors[:10]"
   ]
  },
  {
   "cell_type": "markdown",
   "id": "a3e3445a-585c-42ee-a698-a5fce98c7b19",
   "metadata": {},
   "source": [
    "#### Générer le plot"
   ]
  },
  {
   "cell_type": "code",
   "execution_count": 25,
   "id": "e8824a37-6d81-48c3-a6d8-bae59ef4c948",
   "metadata": {},
   "outputs": [
    {
     "data": {
      "text/plain": [
       "<matplotlib.legend.Legend at 0xffff62195730>"
      ]
     },
     "execution_count": 25,
     "metadata": {},
     "output_type": "execute_result"
    },
    {
     "data": {
      "image/png": "[encoded data removed]",
      "text/plain": [
       "<Figure size 720x720 with 1 Axes>"
      ]
     },
     "metadata": {
      "needs_background": "light"
     },
     "output_type": "display_data"
    }
   ],
   "source": [
    "x_axis = reduced_vectors[:, 0]\n",
    "y_axis = reduced_vectors[:, 1]\n",
    "\n",
    "plt.figure(figsize=(10,10))\n",
    "scatter = plt.scatter(x_axis, y_axis, s=100, c=clusters)\n",
    "\n",
    "# Ajouter les centroïdes\n",
    "centroids = pca.transform(km_model.cluster_centers_)\n",
    "plt.scatter(centroids[:, 0], centroids[:, 1],  marker = \"x\", s=100, linewidths = 2, color='black')\n",
    "\n",
    "# Ajouter la légende\n",
    "plt.legend(handles=scatter.legend_elements()[0], labels=set(clusters), title=\"Clusters\")"
   ]
  },
  {
   "cell_type": "markdown",
   "id": "818f13a8-95d5-4997-a486-50432e2590e7",
   "metadata": {},
   "source": [
    "### Vérifier la pertinence d'un des clusters (Cluster 0)"
   ]
  },
  {
   "cell_type": "markdown",
   "id": "a8c22c40-cee7-4841-8199-c9498a8b0448",
   "metadata": {},
   "source": [
    "#### Imports"
   ]
  },
  {
   "cell_type": "code",
   "execution_count": 26,
   "id": "a2755731-0950-4f1c-8e21-ce9ab0f90472",
   "metadata": {},
   "outputs": [],
   "source": [
    "import os\n",
    "import yake"
   ]
  },
  {
   "cell_type": "code",
   "execution_count": 27,
   "id": "5cb212c0-dc9d-4e9c-b393-7c7ca65d0474",
   "metadata": {},
   "outputs": [
    {
     "data": {
      "text/plain": [
       "{'bruxelles',\n",
       " \"c'est\",\n",
       " 'conseil communal',\n",
       " 'conseil général',\n",
       " \"d'un\",\n",
       " \"d'une\",\n",
       " 'dit',\n",
       " 'faire',\n",
       " \"j'ai\",\n",
       " \"l'on\",\n",
       " 'mais',\n",
       " 'mot',\n",
       " \"n'est\",\n",
       " 'pris',\n",
       " \"qu'il\",\n",
       " 'serait',\n",
       " 'suite',\n",
       " 'ville',\n",
       " 'voir'}"
      ]
     },
     "execution_count": 27,
     "metadata": {},
     "output_type": "execute_result"
    }
   ],
   "source": [
    "# Création d'une liste de mots à ignorer parce qu'ils sont trop généraux étant donné notre corpus\n",
    "ignored = set([\"conseil communal\", \"conseil général\", \"bruxelles\", \"ville\", \"d'une\",\n",
    "               \"mais\", \"faire\", \"c'est\", \"qu'il\", \"dit\", \"voir\", \"d'un\", \"l'on\", \n",
    "               \"n'est\", \"serait\", \"mot\", \"j'ai\", \"pris\", \"suite\"])\n",
    "ignored"
   ]
  },
  {
   "cell_type": "code",
   "execution_count": 28,
   "id": "0abb9bf0-90f2-479b-8bb8-c7dce0a8ba86",
   "metadata": {},
   "outputs": [
    {
     "data": {
      "text/plain": [
       "<yake.yake.KeywordExtractor at 0xffff60ab67c0>"
      ]
     },
     "execution_count": 28,
     "metadata": {},
     "output_type": "execute_result"
    }
   ],
   "source": [
    "# Instantier l'extracteur de mots clés\n",
    "kw_extractor = yake.KeywordExtractor(lan=\"fr\", top=50)\n",
    "kw_extractor"
   ]
  },
  {
   "cell_type": "code",
   "execution_count": 29,
   "id": "9baf6e28-2653-4012-b348-8c0d1749869e",
   "metadata": {},
   "outputs": [],
   "source": [
    "# Lister les Fichiers\n",
    "data_path = \"../data/txt/\"\n",
    "files = os.listdir(data_path)"
   ]
  },
  {
   "cell_type": "code",
   "execution_count": 30,
   "id": "a8c2c05d-4e55-412e-804a-0352112e51a0",
   "metadata": {},
   "outputs": [],
   "source": [
    "# Prendre 5 fichiers au hasard du Cluster 0\n",
    "bxl_cl0_1 = [f for f in files if f.startswith('Bxl_1963_Tome_II1_Part_6.txt')]\n",
    "bxl_cl0_2 = [f for f in files if f.startswith('Bxl_1964_Tome_II1_Part_8.txt')]\n",
    "bxl_cl0_3 = [f for f in files if f.startswith('Bxl_1965_Tome_I_Part_10.txt')]\n",
    "bxl_cl0_4 = [f for f in files if f.startswith('Bxl_1966_Tome_II2_Part_4.txt')]\n",
    "bxl_cl0_5 = [f for f in files if f.startswith('Bxl_1969_Tome_II2_Part_9.txt')]"
   ]
  },
  {
   "cell_type": "code",
   "execution_count": 31,
   "id": "2f4e1443-74b3-4ade-a0ed-8af47cecefbd",
   "metadata": {},
   "outputs": [
    {
     "name": "stdout",
     "output_type": "stream",
     "text": [
      "Bxl_1963_Tome_II1_Part_6.txt mentions these keywords: francs francs francs, van, van het, het, francs francs, francs, dat, art, rue, plan, die, voor, district, novembre, van het perceel, exercice, crédit, een, van openbare, verhoging van het, dépense, november, collège, communal, van het arbeidsloon, service, question, dienstjaar, aan, van openbare onderstand, uitmakende van het, l'éclairage, van elewijckstraat, crédit communal, avons, voor het, ook van het, publique, van annulering van, rues, crois, restrictions, niet...\n"
     ]
    }
   ],
   "source": [
    "#Mots clés pour le premier fichier\n",
    "for f in sorted(bxl_cl0_1):\n",
    "    text = open(os.path.join(data_path, f), 'r').read()\n",
    "    keywords = kw_extractor.extract_keywords(text.lower())\n",
    "    kept = []\n",
    "    for kw, score in keywords:\n",
    "        words = kw.split()\n",
    "        if kw.lower() not in ignored:\n",
    "            kept.append(kw)\n",
    "    print(f\"{f} mentions these keywords: {', '.join(kept)}...\")"
   ]
  },
  {
   "cell_type": "code",
   "execution_count": 32,
   "id": "04ed341e-4e6d-4abd-b23f-2dc992f04be5",
   "metadata": {},
   "outputs": [
    {
     "name": "stdout",
     "output_type": "stream",
     "text": [
      "Bxl_1964_Tome_II1_Part_8.txt mentions these keywords: van, van het, van een, het, een, verhoging van het, art, tijdelijke vergunningen van, vergunningen van, voor het, begraafplaats van, voor, van het tarief, het bouwen van, der, van het indexcijfer, stijging van het, het gebied van, door het, deze van een, het tarief van, van het gebied, van deze, worden, begraafplaats van een, het einde van, voorwaarden van het, van een tijdelijke, aan het, prijs van, vergunning van, het collège van, deze van, van brussel, een vergunning van, van deze vergunningen, van het vijftiende, vergunningen, begraafplaats van brussel, prijs van een, door, aan, einde van het, begraafplaats, van het krediet, jaar, afmetingen van het, van lichamen van, zijn, van het omhulsel...\n"
     ]
    }
   ],
   "source": [
    "#Mots clés pour le deuxième fichier\n",
    "for f in sorted(bxl_cl0_2):\n",
    "    text = open(os.path.join(data_path, f), 'r').read()\n",
    "    keywords = kw_extractor.extract_keywords(text.lower())\n",
    "    kept = []\n",
    "    for kw, score in keywords:\n",
    "        words = kw.split()\n",
    "        if kw.lower() not in ignored:\n",
    "            kept.append(kw)\n",
    "    print(f\"{f} mentions these keywords: {', '.join(kept)}...\")"
   ]
  },
  {
   "cell_type": "code",
   "execution_count": 33,
   "id": "7df72271-6326-45e5-a580-e48d2de2aec2",
   "metadata": {},
   "outputs": [
    {
     "name": "stdout",
     "output_type": "stream",
     "text": [
      "Bxl_1965_Tome_I_Part_10.txt mentions these keywords: van, dépenses ontvangsten uitgaven, budget, recettes dépenses ontvangsten, begroting, van het, ontvangsten, recettes, het, dépenses, uitgaven, recettes dépenses, ontvangsten uitgaven, compte, ontvangsten dépenses uitgaven, dépenses recettes dépenses, recettes ontvangsten, dépenses ontvangsten, uitgaven ontvangsten uitgaven, dépenses uitgaven, juni, budget droits constatés, uitgaven van het, rekening, allocations budgétaires dépenses, budgétaires dépenses engagées, recettes ontvangsten dépenses, begroting vastgestelde rechten, der, uitgaven recettes ontvangsten, recettes dépenses recettes, juin, dépenses uitgaven ontvangsten, van het personeel, dépenses uitgaven recettes, recettes dépenses uitgaven, budget begroting budget, articles budgétaires begrotingsartikelen, budgétaires dépenses, budget droits, naar het volgend, begroting van deze, begroting budget begroting, budgétaires begrotingsartikelen, voor, raming van, insuffisance, naar het, budgétaires, naar...\n"
     ]
    }
   ],
   "source": [
    "#Mots clés pour le troisième fichier\n",
    "for f in sorted(bxl_cl0_3):\n",
    "    text = open(os.path.join(data_path, f), 'r').read()\n",
    "    keywords = kw_extractor.extract_keywords(text.lower())\n",
    "    kept = []\n",
    "    for kw, score in keywords:\n",
    "        words = kw.split()\n",
    "        if kw.lower() not in ignored:\n",
    "            kept.append(kw)\n",
    "    print(f\"{f} mentions these keywords: {', '.join(kept)}...\")"
   ]
  },
  {
   "cell_type": "code",
   "execution_count": 34,
   "id": "7bdd05b8-4ca2-4220-89e7-15d75357966e",
   "metadata": {},
   "outputs": [
    {
     "name": "stdout",
     "output_type": "stream",
     "text": [
      "Bxl_1966_Tome_II2_Part_4.txt mentions these keywords: budget, communes, fonds, recettes, travaux, décembre, publique, taxe, millions, dépenses, december, d'assistance publique, charges, budgets communaux, van, budget ordinaire, budgets, chapitre, taux, fonds des communes, service, majoration, taxes, commission d'assistance publique, compte, commune, rapport, budget initial, projet de budget, communal, recette, circulaire, avances, budget extraordinaire, services, part, crédit, chapitre majoration, l'etat, fonds d'aide, solde, quote-part, l'exercice, projet, charges sociales, additionnels, augmentation, d'assistance, service ordinaire...\n"
     ]
    }
   ],
   "source": [
    "#Mots clés pour le quatrième fichier\n",
    "for f in sorted(bxl_cl0_4):\n",
    "    text = open(os.path.join(data_path, f), 'r').read()\n",
    "    keywords = kw_extractor.extract_keywords(text.lower())\n",
    "    kept = []\n",
    "    for kw, score in keywords:\n",
    "        words = kw.split()\n",
    "        if kw.lower() not in ignored:\n",
    "            kept.append(kw)\n",
    "    print(f\"{f} mentions these keywords: {', '.join(kept)}...\")"
   ]
  },
  {
   "cell_type": "code",
   "execution_count": 35,
   "id": "fb33ede0-debb-4573-8883-db51dff904b4",
   "metadata": {},
   "outputs": [
    {
     "name": "stdout",
     "output_type": "stream",
     "text": [
      "Bxl_1969_Tome_II2_Part_9.txt mentions these keywords: l'echevin, crois, l'echevin vanden boeynants, crois qu'il, conseil, van, monsieur l'echevin, monsieur, monsieur le bourgmestre, plan, crois qu'il serait, bourgmestre, crois qu'il faut, monsieur van geyt, l'echevin vanden, qu'il faut, van geyt, intercommunaux de bruxelles, communal, faut, transports intercommunaux, travaux publics, rue, avez, collège, travaux, décembre, transports, december, l'echevin van leynseele, part, plans, l'echevin van, parce, c'est qu'il faut, voudrais, geyt, politique, problème, commission, monsieur van...\n"
     ]
    }
   ],
   "source": [
    "#Mots clés pour le cinquième fichier\n",
    "for f in sorted(bxl_cl0_5):\n",
    "    text = open(os.path.join(data_path, f), 'r').read()\n",
    "    keywords = kw_extractor.extract_keywords(text.lower())\n",
    "    kept = []\n",
    "    for kw, score in keywords:\n",
    "        words = kw.split()\n",
    "        if kw.lower() not in ignored:\n",
    "            kept.append(kw)\n",
    "    print(f\"{f} mentions these keywords: {', '.join(kept)}...\")"
   ]
  },
  {
   "cell_type": "markdown",
   "id": "29e6003b-fcd3-42ae-9d1c-576bb99bfbd6",
   "metadata": {},
   "source": [
    "## Word Embeddings : le modèle Word2Vec"
   ]
  },
  {
   "cell_type": "markdown",
   "id": "e5376e1a-a0a2-4388-bc02-9ea968d61674",
   "metadata": {},
   "source": [
    "### Imports"
   ]
  },
  {
   "cell_type": "code",
   "execution_count": 36,
   "id": "45cf1681-ed7b-4943-a8c4-77a0d6cdeaf3",
   "metadata": {},
   "outputs": [],
   "source": [
    "import sys\n",
    "\n",
    "from gensim.models.phrases import Phrases, Phraser\n",
    "from gensim.models import Word2Vec\n",
    "\n",
    "import nltk\n",
    "from nltk.tokenize import wordpunct_tokenize\n",
    "from unidecode import unidecode"
   ]
  },
  {
   "cell_type": "markdown",
   "id": "b3505182-6faa-4c26-8125-da265a268e27",
   "metadata": {},
   "source": [
    "### Création du document .txt sur lequel nous allons appliquer le modèle Word2vec"
   ]
  },
  {
   "cell_type": "code",
   "execution_count": 37,
   "id": "b926da2b-f1dc-4da5-b8cb-ca8f5158c773",
   "metadata": {},
   "outputs": [],
   "source": [
    "# J'ai crée un dossier \"part\", qui contient uniquement la moitié des bulletins \n",
    "#(sinon corpus trop gros voir rapport)"
   ]
  },
  {
   "cell_type": "markdown",
   "id": "c5a165c3-bf84-4fe9-ab98-593c4a28a6d3",
   "metadata": {},
   "source": [
    "#### Création du fichier 'corpus' contenu la moitié des bulletins"
   ]
  },
  {
   "cell_type": "code",
   "execution_count": 38,
   "id": "912e2a44-e6f3-4115-bc6e-7a2e0189498a",
   "metadata": {},
   "outputs": [],
   "source": [
    "cat ../data/part/*.txt > ../data/partall.txt"
   ]
  },
  {
   "cell_type": "markdown",
   "id": "10c6bcc7-16e1-4d58-b5be-3392c82a668b",
   "metadata": {},
   "source": [
    "#### Imports pour le sentence_tokenizer"
   ]
  },
  {
   "cell_type": "code",
   "execution_count": 39,
   "id": "5416d324-f30d-406a-8621-08c1ab10a87f",
   "metadata": {},
   "outputs": [],
   "source": [
    "import os\n",
    "import sys\n",
    "import nltk\n",
    "from nltk.tokenize import sent_tokenize"
   ]
  },
  {
   "cell_type": "markdown",
   "id": "e71825d1-842f-40e3-b929-03373538ac9a",
   "metadata": {},
   "source": [
    "#### Fichiers d'inputs et d'outputs"
   ]
  },
  {
   "cell_type": "code",
   "execution_count": 40,
   "id": "2f53c1a5-5c70-4368-a075-8ef3d5db2cca",
   "metadata": {},
   "outputs": [],
   "source": [
    "infile = \"../data/partall.txt\"\n",
    "outfile = \"../data/partsents.txt\""
   ]
  },
  {
   "cell_type": "markdown",
   "id": "e6655a63-f8a0-48d8-8882-974d153bbfcc",
   "metadata": {},
   "source": [
    "#### Segmentation en phrases du corpus complet et création d'un nouveau fichier"
   ]
  },
  {
   "cell_type": "code",
   "execution_count": 41,
   "id": "d913291c-4dec-4cf2-b75b-e99011e899ec",
   "metadata": {},
   "outputs": [],
   "source": [
    "LIMIT = 1000000"
   ]
  },
  {
   "cell_type": "code",
   "execution_count": 42,
   "id": "086832e5-4b09-4315-a72c-182b3a0032c2",
   "metadata": {},
   "outputs": [
    {
     "name": "stdout",
     "output_type": "stream",
     "text": [
      "processing line 0/1000000\n",
      "processing line 10000/1000000\n",
      "processing line 20000/1000000\n",
      "processing line 30000/1000000\n",
      "processing line 40000/1000000\n",
      "processing line 50000/1000000\n",
      "processing line 60000/1000000\n",
      "processing line 70000/1000000\n",
      "processing line 80000/1000000\n",
      "processing line 90000/1000000\n",
      "processing line 100000/1000000\n",
      "processing line 110000/1000000\n",
      "processing line 120000/1000000\n",
      "processing line 130000/1000000\n",
      "processing line 140000/1000000\n",
      "processing line 150000/1000000\n",
      "processing line 160000/1000000\n",
      "processing line 170000/1000000\n",
      "processing line 180000/1000000\n",
      "processing line 190000/1000000\n",
      "processing line 200000/1000000\n",
      "processing line 210000/1000000\n",
      "processing line 220000/1000000\n",
      "processing line 230000/1000000\n",
      "processing line 240000/1000000\n",
      "processing line 250000/1000000\n",
      "processing line 260000/1000000\n",
      "processing line 270000/1000000\n",
      "processing line 280000/1000000\n",
      "processing line 290000/1000000\n",
      "processing line 300000/1000000\n",
      "processing line 310000/1000000\n",
      "processing line 320000/1000000\n",
      "processing line 330000/1000000\n",
      "processing line 340000/1000000\n",
      "processing line 350000/1000000\n",
      "processing line 360000/1000000\n",
      "processing line 370000/1000000\n",
      "processing line 380000/1000000\n",
      "processing line 390000/1000000\n",
      "processing line 400000/1000000\n",
      "processing line 410000/1000000\n",
      "processing line 420000/1000000\n",
      "processing line 430000/1000000\n",
      "processing line 440000/1000000\n",
      "processing line 450000/1000000\n",
      "processing line 460000/1000000\n",
      "processing line 470000/1000000\n",
      "processing line 480000/1000000\n",
      "processing line 490000/1000000\n",
      "processing line 500000/1000000\n",
      "processing line 510000/1000000\n",
      "processing line 520000/1000000\n",
      "processing line 530000/1000000\n",
      "processing line 540000/1000000\n",
      "processing line 550000/1000000\n",
      "processing line 560000/1000000\n",
      "processing line 570000/1000000\n",
      "processing line 580000/1000000\n",
      "processing line 590000/1000000\n",
      "processing line 600000/1000000\n",
      "processing line 610000/1000000\n",
      "processing line 620000/1000000\n",
      "processing line 630000/1000000\n",
      "processing line 640000/1000000\n",
      "processing line 650000/1000000\n",
      "processing line 660000/1000000\n",
      "processing line 670000/1000000\n",
      "processing line 680000/1000000\n",
      "processing line 690000/1000000\n",
      "processing line 700000/1000000\n",
      "processing line 710000/1000000\n",
      "processing line 720000/1000000\n",
      "processing line 730000/1000000\n",
      "processing line 740000/1000000\n",
      "processing line 750000/1000000\n",
      "processing line 760000/1000000\n",
      "processing line 770000/1000000\n",
      "processing line 780000/1000000\n",
      "processing line 790000/1000000\n",
      "processing line 800000/1000000\n",
      "processing line 810000/1000000\n",
      "processing line 820000/1000000\n",
      "processing line 830000/1000000\n",
      "processing line 840000/1000000\n",
      "processing line 850000/1000000\n",
      "processing line 860000/1000000\n",
      "processing line 870000/1000000\n",
      "processing line 880000/1000000\n",
      "processing line 890000/1000000\n",
      "processing line 900000/1000000\n",
      "processing line 910000/1000000\n",
      "processing line 920000/1000000\n",
      "processing line 930000/1000000\n",
      "processing line 940000/1000000\n",
      "processing line 950000/1000000\n",
      "processing line 960000/1000000\n",
      "processing line 970000/1000000\n",
      "processing line 980000/1000000\n",
      "processing line 990000/1000000\n",
      "Done\n"
     ]
    }
   ],
   "source": [
    "with open(outfile, 'w', encoding=\"utf-8\") as output:\n",
    "    with open(infile, encoding=\"utf-8\", errors=\"backslashreplace\") as f:\n",
    "        content = f.readlines()\n",
    "        content = content[:LIMIT] if LIMIT is not None else content\n",
    "        n_lines = len(content)\n",
    "        for i, line in enumerate(content):\n",
    "            if i % 10000 == 0:\n",
    "                print(f'processing line {i}/{n_lines}')\n",
    "            sentences = sent_tokenize(line)\n",
    "            for sent in sentences:\n",
    "                output.write(sent + \"\\n\")\n",
    "print(\"Done\")"
   ]
  },
  {
   "cell_type": "markdown",
   "id": "e11dbeff-bf06-4a03-983c-b138aa0a6c33",
   "metadata": {},
   "source": [
    "### Chargement et traitement des phrases du corpus"
   ]
  },
  {
   "cell_type": "code",
   "execution_count": 43,
   "id": "c78991f9-a528-40bd-a314-2e3aa93da8bd",
   "metadata": {},
   "outputs": [],
   "source": [
    "class MySentences(object):\n",
    "    \"\"\"Tokenize and Lemmatize sentences\"\"\"\n",
    "    def __init__(self, filename):\n",
    "        self.filename = filename\n",
    "\n",
    "    def __iter__(self):\n",
    "        for line in open(self.filename, encoding='utf-8', errors=\"backslashreplace\"):\n",
    "            yield [unidecode(w.lower()) for w in wordpunct_tokenize(line)]"
   ]
  },
  {
   "cell_type": "code",
   "execution_count": 44,
   "id": "3fa8fc0b-6426-487f-abf7-fae0dd59b0fb",
   "metadata": {},
   "outputs": [],
   "source": [
    "infile = f\"../data/partsents.txt\"\n",
    "sentences = MySentences(infile)"
   ]
  },
  {
   "cell_type": "markdown",
   "id": "21aa54bf-b008-4ef3-909a-be9e01afe04d",
   "metadata": {},
   "source": [
    "#### Détection des bigrams"
   ]
  },
  {
   "cell_type": "code",
   "execution_count": 45,
   "id": "ad97938c-f0f8-4d10-9c1f-17f2b376185a",
   "metadata": {},
   "outputs": [],
   "source": [
    "bigram_phrases = Phrases(sentences)"
   ]
  },
  {
   "cell_type": "code",
   "execution_count": 46,
   "id": "b2391e4b-ffab-4abc-8bce-5e1e3bc04f35",
   "metadata": {},
   "outputs": [
    {
     "data": {
      "text/plain": [
       "dict"
      ]
     },
     "execution_count": 46,
     "metadata": {},
     "output_type": "execute_result"
    }
   ],
   "source": [
    "type(bigram_phrases.vocab)"
   ]
  },
  {
   "cell_type": "code",
   "execution_count": 47,
   "id": "c60290fc-9128-4fd7-8d4a-4e9a0b5e24d1",
   "metadata": {},
   "outputs": [
    {
     "data": {
      "text/plain": [
       "815775"
      ]
     },
     "execution_count": 47,
     "metadata": {},
     "output_type": "execute_result"
    }
   ],
   "source": [
    "len(bigram_phrases.vocab.keys())"
   ]
  },
  {
   "cell_type": "code",
   "execution_count": 48,
   "id": "7b091182-cf3d-4d09-bd3a-acd81825d661",
   "metadata": {},
   "outputs": [
    {
     "name": "stdout",
     "output_type": "stream",
     "text": [
      "taxes_communale\n"
     ]
    }
   ],
   "source": [
    "key_ = list(bigram_phrases.vocab.keys())[144]\n",
    "print(key_)"
   ]
  },
  {
   "cell_type": "code",
   "execution_count": 49,
   "id": "8b9ae205-b0ac-4c1f-a8eb-3ab3b97f7455",
   "metadata": {},
   "outputs": [
    {
     "data": {
      "text/plain": [
       "2"
      ]
     },
     "execution_count": 49,
     "metadata": {},
     "output_type": "execute_result"
    }
   ],
   "source": [
    "bigram_phrases.vocab[key_]"
   ]
  },
  {
   "cell_type": "markdown",
   "id": "1a86d13b-31f3-476d-8403-c02d21fac197",
   "metadata": {},
   "source": [
    "#### Conversion des `Phrases` en objet `Phraser"
   ]
  },
  {
   "cell_type": "code",
   "execution_count": 50,
   "id": "40a3d718-dd87-4bc9-b460-96ae4b51025a",
   "metadata": {},
   "outputs": [],
   "source": [
    "bigram_phraser = Phraser(phrases_model=bigram_phrases)"
   ]
  },
  {
   "cell_type": "markdown",
   "id": "33dcb87d-dd2a-44a8-8d49-5e447636566e",
   "metadata": {},
   "source": [
    "#### Extraction des trigrams"
   ]
  },
  {
   "cell_type": "code",
   "execution_count": 51,
   "id": "8e2ee22e-1d00-4548-80d2-54a4299349e0",
   "metadata": {},
   "outputs": [],
   "source": [
    "trigram_phrases = Phrases(bigram_phraser[sentences])"
   ]
  },
  {
   "cell_type": "code",
   "execution_count": 52,
   "id": "a91d6c54-b695-488c-9e37-d5134a3953ee",
   "metadata": {},
   "outputs": [],
   "source": [
    "trigram_phraser = Phraser(phrases_model=trigram_phrases)"
   ]
  },
  {
   "cell_type": "markdown",
   "id": "edb96a23-432f-4cda-a7f2-7f3ec175c107",
   "metadata": {},
   "source": [
    "#### Création d'un corpus d'unigrams, bigrams, trigrams"
   ]
  },
  {
   "cell_type": "code",
   "execution_count": 53,
   "id": "dccb874f-561a-4f75-9359-bdb26b07a3bc",
   "metadata": {},
   "outputs": [],
   "source": [
    "corpus = list(trigram_phraser[bigram_phraser[sentences]])"
   ]
  },
  {
   "cell_type": "code",
   "execution_count": 54,
   "id": "ac307886-482e-4c6c-876f-631084d32bb4",
   "metadata": {},
   "outputs": [
    {
     "name": "stdout",
     "output_type": "stream",
     "text": [
      "[['v', 'i', 'l', 'l', 'e', 'de'], ['bruxelles'], ['bulletin', 'ires', '8eanas'], ['dl', '!'], ['conseil'], ['communal'], ['annee'], ['1847', '.'], ['au'], ['ville', 'de', 'b', 'r', 'u', 'x', 'e', 'l', 'l', 'e', 's', '.'], ['bulletin'], ['conseil'], ['aes'], ['seances'], ['communal', '.'], ['annee'], ['1847', '.'], ['bruxelles', ','], ['imprimerie'], ['d', 'e', 'j', '.'], ['h', '.', 'b', 'r', 'i', 'a', 'r', 'd', ','], ['rite', 'n', 'e', 'u', 'v', 'e', ',', '3', '1', ',', 'faubourg', 'de', 'n', 'a', 'm', 'u', 'r', ','], ['1', '84', '8'], ['de', '!'], ['du', 'consei'], ['dibi'], ['e', '.', '-', 'communication'], ['conclusions', 'de', 'la', 'section', 'des'], ['du', 'nouvel_hospice', 'pour', 'les', 'av'], ['enraisonde', 'l', \"'\", 'absence', '&'], ['maladie', '.', 'le', 'conseil', 'ajourne'], ['leurs', 'de', 'pierre', 'el', 'marchai'], ['cles', 'des', 'taxes', 'communale', \"'\"], ['bieniaance', 'eldeseianv'], ['il', 'est', 'donne', 'communie', ';'], ['mandant', 'le', 'o', 'p', 'fa'], ['gnant', 'l', \"'\", 'envoi', 'de', 'leur', 'bn'], ['par', 'l', \"'\", 'etat', 'obligatoire', 'p'], ['secretariat', 'et', 'dtput', 'uf'], ['proposition', 'dan', '*', 'le', 'meme'], ['u', 'est_donne_lecture', 'd', \"'\", 't'], ['glissement', 'd', \"'\", 'un', 'marc', '!'], [\"'*\", 'royales', ',', 'rue', 'de', 'la', 'i', 'd', 'e', 'k'], [':'], [';'], ['i'], ['fai', 'phonnenr', 'de', 'to', '>>', '<<'], ['<<', 'terrains', 'reumsderb', '.\"'], ['^', 'par', 'une', 'combinaison', 'f'], ['sans', 'devoir', 'fe'], ['soit', 'dow'], ['ans', ','], ['un', 'marcs'], ['1'], ['s', 'u', 'r', 'l'], ['iraocs', '.'], ['^', 'w', 'metres', 'sur', '35', 'l', ';', 'n'], ['^', 'espourvica', '.', 'lem', 'ed', '<<'], ['l'], ['t'], ['a', 'r'], ['<<<<', 'lle5la', '<<'], ['compte'], ['des'], ['du', 'conseil'], ['de'], ['rendu'], ['seances'], ['communal'], ['bruxelles', '.'], ['seance', 'du', '9', 'janvier', '.'], ['(', 'presidence', 'de', 'm', '.', 'le', 'chevalier_w', 'y', 'n', 's', 'de', 'raucourt', ',', 'bourgmestre', '.)'], ['sommaire', '.'], ['--', 'communication', 'de', 'pieces', '.'], ['--', 'discussion', 'et', 'adoption', 'des'], ['conclusions', 'de', 'la', 'section', 'des_travaux_publics', 'relatives', 'a', 'l', \"'\", 'emplacement'], ['du', 'nouvel_hospice', 'pour', 'les', 'aveugles', 'indigents', '.'], ['en', 'raison', 'de', 'l', \"'\", 'absence', 'de', 'm', '.', 'l', \"'\", 'echevin_doucet', ',', 'pour', 'cause', 'de'], ['maladie', ',', 'le', 'conseil', 'ajourne', 'l', \"'\", 'examen', 'de', 'la', 'reclamation', 'des', 'tailleurs', 'de', 'pierre', 'et', 'marchands', 'de', 'briques', ',', 'contre', 'quelques', 'articles', 'des', 'taxes_communales', ',', 'et', 'la', 'discussion', 'des', 'budgets', 'de', 'la'], ['bienfaisance', 'et', 'des', 'enfants', '-', 'trouves', '.'], ['il', 'est', 'donne_communication', 'd', \"'\", 'une', 'lettre', 'demm', '.', 'donies', ',', 'commandant', 'le', 'corps', 'des', 'pompiers', ',', 'et', 'adolphe', 'bartels', ',', 'accompagnant', 'l', \"'\", 'envoi', 'de', 'leur', 'brochure', 'relative', 'a', 'un', 'plan', 'd', \"'\", 'assurance'], ['par', 'l', \"'\", 'etat', 'obligatoire', 'pour', 'tous', 'les', 'proprietaires', '.'], ['--', 'depot', 'au'], ['secretariat', 'et', 'depot', 'sur', 'le', 'bureau', 'pendant', 'la', 'discussion', 'de', 'la'], ['proposition', 'dans', 'le', 'meme', 'sens', 'faite', 'par', 'm', '.', 'le', 'conseiller', 'bartels', '.'], ['il', 'est_donne_lecture', 'd', \"'\", 'une', 'lettre', 'de', 'm', '.', 'bortier', ',', 'relative', 'a', 'l', \"'\", 'etablissement', 'd', \"'\", 'un', 'marche', 'dans', 'l', \"'\", 'ancien_local', 'des', 'messageries'], ['royales', ',', 'rue', 'de', 'la', 'madeleine', '.'], ['elle', 'est', 'ainsi_concue', ':'], ['<<', 'j', \"'\", 'ai', 'l', \"'\", 'honneur', 'de', 'vous', 'adresser', 'un', 'plan', 'de', 'marche_couvert', 'a', 'etablir'], ['sur', 'les', 'terrains', 'reunis', 'de', 'l', \"'\", 'hotel', 'des', 'messageries', ',', 'des', 'hospices', 'et', 'de', 'm', '.', 'partoes', '.'], ['par', 'une', 'combinaison_financiere', 'que_je_viens', 'vous_soumettre', ',', 'la', 'ville'], ['de', 'bruxelles', ',', 'sans', 'devoir', 'faire', 'la', 'moindre', 'avance', 'de', 'fonds', ',', 'soit', 'pour', 'acquisitions', 'de', 'terrains', ',', 'soit', 'pour', 'constructions', ',', 'deviendrait', ',', 'au_bout', 'de', 'vingt'], ['ans', ',', 'proprietaire', 'd', \"'\", 'un', 'marche', 'dont', 'le', 'produit', 'est', 'evalue', 'a', 'plus', 'de', 'soixante'], ['mille_francs', '.'], ['<<', 'avant', 'la', 'mise', 'en', 'possession', 'de', 'ce', 'vaste', 'terrain', 'ayant', 'un', 'developpement'], ['de', 'go', 'metres', 'sur', '33', ',', 'la', 'ville', 'pourrait', 'faire', 'construire', 'au', 'premier_etage', 'des'], ['salles', 'pour', 'l', \"'\", 'academie', 'des', 'beaux_-', 'arts', '.'], ['<<', '11', 'suffira', 'de', 'jeter', 'un', 'regard', 'sur', 'le', 'plan', 'et', 'd', \"'\", 'examiner', 'les', 'chiffres', 'qui'], ['figurent', 'dans', 'l', \"'\", 'expose', ',', 'pour', 'comprendre', 'tous', 'les', 'avantages', 'que', 'presente', 'a'], ['la', 'ville', 'de', 'bruxelles', 'la', 'realisation', 'de', 'ce', 'projet', '.']]\n"
     ]
    }
   ],
   "source": [
    "print(corpus[:100])"
   ]
  },
  {
   "cell_type": "markdown",
   "id": "e66de366-cb4b-4512-a5be-9d3d6f330f98",
   "metadata": {},
   "source": [
    "### Entrainement d'un modèle Word2Vec sur ce corpus"
   ]
  },
  {
   "cell_type": "code",
   "execution_count": 55,
   "id": "7e16d39d-cb83-4bd1-858f-a2b1aeb9b647",
   "metadata": {},
   "outputs": [
    {
     "name": "stdout",
     "output_type": "stream",
     "text": [
      "CPU times: user 23.2 s, sys: 372 ms, total: 23.6 s\n",
      "Wall time: 10.4 s\n"
     ]
    }
   ],
   "source": [
    "%%time\n",
    "model = Word2Vec(\n",
    "    corpus, # On passe le corpus de ngrams que nous venons de créer\n",
    "    vector_size=32, # Le nombre de dimensions dans lesquelles le contexte des mots devra être réduit, aka. vector_size\n",
    "    window=5, # La taille du \"contexte\", ici 5 mots avant et après le mot observé\n",
    "    min_count=5, # On ignore les mots qui n'apparaissent pas au moins 5 fois dans le corpus\n",
    "    workers=4, # Permet de paralléliser l'entraînement du modèle en 4 threads\n",
    "    epochs=5 # Nombre d'itérations du réseau de neurones sur le jeu de données pour ajuster les paramètres avec la descente de gradient, aka. epochs.\n",
    ")"
   ]
  },
  {
   "cell_type": "markdown",
   "id": "e1466590-890a-41cc-b9b7-1f6ac48778b5",
   "metadata": {},
   "source": [
    "#### Sauver le modèle dans un fichier"
   ]
  },
  {
   "cell_type": "code",
   "execution_count": 56,
   "id": "1572650b-e6cb-48fa-9cca-9bb7ef4dbeb6",
   "metadata": {},
   "outputs": [],
   "source": [
    "outfile = f\"../data/bulletins.model\"\n",
    "model.save(outfile)"
   ]
  },
  {
   "cell_type": "markdown",
   "id": "63b37230-9346-4424-8e8f-5bde1b3e8116",
   "metadata": {},
   "source": [
    "### Explorer le modèle"
   ]
  },
  {
   "cell_type": "markdown",
   "id": "49b0b1c3-6b25-4196-a305-663100c67ab2",
   "metadata": {},
   "source": [
    "#### Charger le modèle en mémoire"
   ]
  },
  {
   "cell_type": "code",
   "execution_count": 91,
   "id": "c2eb8360-db2f-483a-be34-c3f74e5a18ac",
   "metadata": {},
   "outputs": [],
   "source": [
    "model = Word2Vec.load(\"../data/bulletins.model\")"
   ]
  },
  {
   "cell_type": "markdown",
   "id": "ed06074d-1ff7-4c91-9398-6617e4b4acf1",
   "metadata": {},
   "source": [
    "#### Imprimer le vecteur d'un terme"
   ]
  },
  {
   "cell_type": "code",
   "execution_count": 92,
   "id": "61aab6b8-cebc-4c01-bae7-d7686528c756",
   "metadata": {},
   "outputs": [
    {
     "data": {
      "text/plain": [
       "array([-0.51400054, -0.7852662 ,  0.20527366,  1.9761126 , -1.5391157 ,\n",
       "       -1.4224699 , -0.68296033,  0.18888101, -0.4468326 ,  0.0665018 ,\n",
       "        0.50137794, -0.0764216 ,  0.9407485 ,  2.0516307 , -2.2922595 ,\n",
       "       -2.0702538 , -1.3402478 ,  2.9000683 , -2.6253662 , -2.6922581 ,\n",
       "        1.6740671 , -2.0200276 ,  0.00596834, -1.0667936 ,  1.0752506 ,\n",
       "       -1.6638734 , -1.321216  , -0.37735382, -1.5954959 ,  0.44619954,\n",
       "        0.09329283, -0.5072037 ], dtype=float32)"
      ]
     },
     "execution_count": 92,
     "metadata": {},
     "output_type": "execute_result"
    }
   ],
   "source": [
    "model.wv[\"donation\"]"
   ]
  },
  {
   "cell_type": "markdown",
   "id": "75bbcc9b-4380-4a26-9d5c-ede341047839",
   "metadata": {},
   "source": [
    "#### Calculer la similarité entre deux termes"
   ]
  },
  {
   "cell_type": "code",
   "execution_count": 93,
   "id": "8c6b4a60-da9e-4a39-99f7-2fcc99962898",
   "metadata": {},
   "outputs": [
    {
     "data": {
      "text/plain": [
       "0.51982427"
      ]
     },
     "execution_count": 93,
     "metadata": {},
     "output_type": "execute_result"
    }
   ],
   "source": [
    "model.wv.similarity(\"donation\", \"subside\")"
   ]
  },
  {
   "cell_type": "code",
   "execution_count": 94,
   "id": "23acc842-726e-4e49-9522-ff75aa928498",
   "metadata": {},
   "outputs": [
    {
     "data": {
      "text/plain": [
       "0.3201508"
      ]
     },
     "execution_count": 94,
     "metadata": {},
     "output_type": "execute_result"
    }
   ],
   "source": [
    "model.wv.similarity(\"voiture\", \"rue\")"
   ]
  },
  {
   "cell_type": "code",
   "execution_count": 95,
   "id": "bb83092f-8cd8-434e-8f3c-94795965d424",
   "metadata": {},
   "outputs": [
    {
     "data": {
      "text/plain": [
       "-0.027349122"
      ]
     },
     "execution_count": 95,
     "metadata": {},
     "output_type": "execute_result"
    }
   ],
   "source": [
    "model.wv.similarity(\"credit\", \"seances\")"
   ]
  },
  {
   "cell_type": "markdown",
   "id": "7ae36af0-618d-4b63-ad21-1eb5665fe95a",
   "metadata": {},
   "source": [
    "#### Chercher les mots les plus proches d'un terme donné"
   ]
  },
  {
   "cell_type": "code",
   "execution_count": 96,
   "id": "cdceae93-0e1b-4fd8-a1e7-94ad5c90ae68",
   "metadata": {},
   "outputs": [
    {
     "data": {
      "text/plain": [
       "[('credit', 0.8445886373519897),\n",
       " ('subside_annuel', 0.8286020159721375),\n",
       " ('capital', 0.8035529255867004),\n",
       " ('supplement', 0.7971983551979065),\n",
       " ('subside_extraordinaire', 0.7622889876365662),\n",
       " ('revenu', 0.7512121200561523),\n",
       " ('deficit', 0.7494440078735352),\n",
       " ('cautionnement', 0.7218759059906006),\n",
       " ('paiement', 0.7189198136329651),\n",
       " ('remboursement', 0.7149187326431274)]"
      ]
     },
     "execution_count": 96,
     "metadata": {},
     "output_type": "execute_result"
    }
   ],
   "source": [
    "model.wv.most_similar(\"subside\", topn=10)"
   ]
  },
  {
   "cell_type": "code",
   "execution_count": 97,
   "id": "74be02a8-c36d-4ac4-a13d-6378112beaef",
   "metadata": {},
   "outputs": [
    {
     "data": {
      "text/plain": [
       "[('troupe', 0.8448762893676758),\n",
       " ('charrette', 0.8415501713752747),\n",
       " ('loge', 0.8379366397857666),\n",
       " ('course', 0.8012893199920654),\n",
       " ('femme', 0.7935577034950256)]"
      ]
     },
     "execution_count": 97,
     "metadata": {},
     "output_type": "execute_result"
    }
   ],
   "source": [
    "model.wv.most_similar(\"voiture\", topn=5)"
   ]
  },
  {
   "cell_type": "code",
   "execution_count": 100,
   "id": "7271ba68-c54f-4867-b69a-b12f40cc0adb",
   "metadata": {},
   "outputs": [
    {
     "data": {
      "text/plain": [
       "[('locataire', 0.8800477385520935),\n",
       " ('cure', 0.7963093519210815),\n",
       " ('cadran', 0.7699291110038757),\n",
       " ('sieur', 0.7511746883392334),\n",
       " ('territoire', 0.7487349510192871),\n",
       " ('monument', 0.7446672916412354),\n",
       " ('reservoir', 0.73872309923172),\n",
       " ('bateau', 0.736244797706604),\n",
       " ('siege', 0.7352380752563477),\n",
       " ('cimetiere', 0.7327523231506348),\n",
       " ('debiteur', 0.7316040992736816),\n",
       " ('cocher', 0.730647087097168),\n",
       " ('pauvre', 0.7219700217247009),\n",
       " ('boulanger', 0.7173818945884705),\n",
       " ('presbytere', 0.7149595618247986),\n",
       " ('directeur', 0.7131938934326172),\n",
       " ('dommage', 0.7102891802787781),\n",
       " ('pere', 0.7077099680900574),\n",
       " ('defunt', 0.7053878307342529),\n",
       " ('centre', 0.7016199231147766)]"
      ]
     },
     "execution_count": 100,
     "metadata": {},
     "output_type": "execute_result"
    }
   ],
   "source": [
    "model.wv.most_similar(\"proprietaire\", topn=20)"
   ]
  },
  {
   "cell_type": "code",
   "execution_count": null,
   "id": "61140cd5-75bb-4ef8-b11b-198753d7a051",
   "metadata": {},
   "outputs": [],
   "source": []
  }
 ],
 "metadata": {
  "kernelspec": {
   "display_name": "Python 3 (ipykernel)",
   "language": "python",
   "name": "python3"
  },
  "language_info": {
   "codemirror_mode": {
    "name": "ipython",
    "version": 3
   },
   "file_extension": ".py",
   "mimetype": "text/x-python",
   "name": "python",
   "nbconvert_exporter": "python",
   "pygments_lexer": "ipython3",
   "version": "3.9.8"
  }
 },
 "nbformat": 4,
 "nbformat_minor": 5
}
