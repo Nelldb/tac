{
 "cells": [
  {
   "cell_type": "markdown",
   "id": "05451b94-e868-4493-b717-1ef3795e0cc7",
   "metadata": {},
   "source": [
    "# TP1 : Web scraping et APIs"
   ]
  },
  {
   "cell_type": "markdown",
   "id": "95705531-8447-401f-827d-b70954b8cb43",
   "metadata": {},
   "source": [
    "## 1. SPARQL"
   ]
  },
  {
   "cell_type": "markdown",
   "id": "56dcc9b2-94da-4be9-9019-9f4548634720",
   "metadata": {},
   "source": [
    "### Imports"
   ]
  },
  {
   "cell_type": "code",
   "execution_count": 34,
   "id": "2097341b-24e5-4a74-a433-b228fb26610e",
   "metadata": {},
   "outputs": [],
   "source": [
    "from datetime import datetime as dt\n",
    "from SPARQLWrapper import SPARQLWrapper, JSON"
   ]
  },
  {
   "cell_type": "markdown",
   "id": "416e96ec-aef0-4faa-9a89-fb6d19bddac7",
   "metadata": {},
   "source": [
    "### Obtenir la liste des bourgmestres de Bruxelles"
   ]
  },
  {
   "cell_type": "code",
   "execution_count": 36,
   "id": "8c342396-7c8b-438a-a13f-fc4ecb1f95ef",
   "metadata": {},
   "outputs": [
    {
     "name": "stdout",
     "output_type": "stream",
     "text": [
      "\n",
      "26 Mayor of Brussels\n",
      "\n",
      "{'head': {'vars': ['person', 'personLabel', 'dateBirth', 'dateDeath']}, 'results': {'bindings': [{'person': {'type': 'uri', 'value': 'http://www.wikidata.org/entity/Q2306891'}, 'personLabel': {'xml:lang': 'en', 'type': 'literal', 'value': 'Jan-Baptist Verlooy'}, 'dateBirth': {'datatype': 'http://www.w3.org/2001/XMLSchema#dateTime', 'type': 'literal', 'value': '1746-12-22T00:00:00Z'}, 'dateDeath': {'datatype': 'http://www.w3.org/2001/XMLSchema#dateTime', 'type': 'literal', 'value': '1797-05-04T00:00:00Z'}}, {'person': {'type': 'uri', 'value': 'http://www.wikidata.org/entity/Q105605007'}, 'personLabel': {'xml:lang': 'en', 'type': 'literal', 'value': 'Henri Joseph Van Langhenhoven'}, 'dateBirth': {'datatype': 'http://www.w3.org/2001/XMLSchema#dateTime', 'type': 'literal', 'value': '1749-01-01T00:00:00Z'}}, {'person': {'type': 'uri', 'value': 'http://www.wikidata.org/entity/Q16661300'}, 'personLabel': {'xml:lang': 'en', 'type': 'literal', 'value': 'Louis Devos'}, 'dateBirth': {'datatype': 'http://www.w3.org/2001/XMLSchema#dateTime', 'type': 'literal', 'value': '1757-07-24T00:00:00Z'}, 'dateDeath': {'datatype': 'http://www.w3.org/2001/XMLSchema#dateTime', 'type': 'literal', 'value': '1830-12-30T00:00:00Z'}}, {'person': {'type': 'uri', 'value': 'http://www.wikidata.org/entity/Q2619124'}, 'personLabel': {'xml:lang': 'en', 'type': 'literal', 'value': 'Louis de Wellens van ten Meulenberg'}, 'dateBirth': {'datatype': 'http://www.w3.org/2001/XMLSchema#dateTime', 'type': 'literal', 'value': '1772-08-06T00:00:00Z'}, 'dateDeath': {'datatype': 'http://www.w3.org/2001/XMLSchema#dateTime', 'type': 'literal', 'value': '1846-01-11T00:00:00Z'}}, {'person': {'type': 'uri', 'value': 'http://www.wikidata.org/entity/Q74747'}, 'personLabel': {'xml:lang': 'en', 'type': 'literal', 'value': \"Charles-Joseph, 4th Duke d'Ursel\"}, 'dateBirth': {'datatype': 'http://www.w3.org/2001/XMLSchema#dateTime', 'type': 'literal', 'value': '1777-08-09T00:00:00Z'}, 'dateDeath': {'datatype': 'http://www.w3.org/2001/XMLSchema#dateTime', 'type': 'literal', 'value': '1860-09-27T00:00:00Z'}}, {'person': {'type': 'uri', 'value': 'http://www.wikidata.org/entity/Q1032418'}, 'personLabel': {'xml:lang': 'en', 'type': 'literal', 'value': 'François-Jean Wyns de Raucourt'}, 'dateBirth': {'datatype': 'http://www.w3.org/2001/XMLSchema#dateTime', 'type': 'literal', 'value': '1779-11-06T00:00:00Z'}, 'dateDeath': {'datatype': 'http://www.w3.org/2001/XMLSchema#dateTime', 'type': 'literal', 'value': '1857-01-04T00:00:00Z'}}, {'person': {'type': 'uri', 'value': 'http://www.wikidata.org/entity/Q3185900'}, 'personLabel': {'xml:lang': 'en', 'type': 'literal', 'value': \"Joseph van der Linden d'Hooghvorst\"}, 'dateBirth': {'datatype': 'http://www.w3.org/2001/XMLSchema#dateTime', 'type': 'literal', 'value': '1782-06-24T00:00:00Z'}, 'dateDeath': {'datatype': 'http://www.w3.org/2001/XMLSchema#dateTime', 'type': 'literal', 'value': '1846-12-13T00:00:00Z'}}, {'person': {'type': 'uri', 'value': 'http://www.wikidata.org/entity/Q3120220'}, 'personLabel': {'xml:lang': 'en', 'type': 'literal', 'value': 'Guillaume Van Volxem'}, 'dateBirth': {'datatype': 'http://www.w3.org/2001/XMLSchema#dateTime', 'type': 'literal', 'value': '1791-02-13T00:00:00Z'}, 'dateDeath': {'datatype': 'http://www.w3.org/2001/XMLSchema#dateTime', 'type': 'literal', 'value': '1868-04-17T00:00:00Z'}}, {'person': {'type': 'uri', 'value': 'http://www.wikidata.org/entity/Q1066539'}, 'personLabel': {'xml:lang': 'en', 'type': 'literal', 'value': 'Charles de Brouckère'}, 'dateBirth': {'datatype': 'http://www.w3.org/2001/XMLSchema#dateTime', 'type': 'literal', 'value': '1796-01-18T00:00:00Z'}, 'dateDeath': {'datatype': 'http://www.w3.org/2001/XMLSchema#dateTime', 'type': 'literal', 'value': '1860-04-20T00:00:00Z'}}, {'person': {'type': 'uri', 'value': 'http://www.wikidata.org/entity/Q2744763'}, 'personLabel': {'xml:lang': 'en', 'type': 'literal', 'value': 'André-Napoléon Fontainas'}, 'dateBirth': {'datatype': 'http://www.w3.org/2001/XMLSchema#dateTime', 'type': 'literal', 'value': '1807-12-23T00:00:00Z'}, 'dateDeath': {'datatype': 'http://www.w3.org/2001/XMLSchema#dateTime', 'type': 'literal', 'value': '1863-07-19T00:00:00Z'}}, {'person': {'type': 'uri', 'value': 'http://www.wikidata.org/entity/Q3092630'}, 'personLabel': {'xml:lang': 'en', 'type': 'literal', 'value': 'Felix Vanderstraeten'}, 'dateBirth': {'datatype': 'http://www.w3.org/2001/XMLSchema#dateTime', 'type': 'literal', 'value': '1823-07-18T00:00:00Z'}, 'dateDeath': {'datatype': 'http://www.w3.org/2001/XMLSchema#dateTime', 'type': 'literal', 'value': '1884-06-29T00:00:00Z'}}, {'person': {'type': 'uri', 'value': 'http://www.wikidata.org/entity/Q462143'}, 'personLabel': {'xml:lang': 'en', 'type': 'literal', 'value': 'Jules Anspach'}, 'dateBirth': {'datatype': 'http://www.w3.org/2001/XMLSchema#dateTime', 'type': 'literal', 'value': '1829-07-20T00:00:00Z'}, 'dateDeath': {'datatype': 'http://www.w3.org/2001/XMLSchema#dateTime', 'type': 'literal', 'value': '1879-05-15T00:00:00Z'}}, {'person': {'type': 'uri', 'value': 'http://www.wikidata.org/entity/Q82897'}, 'personLabel': {'xml:lang': 'en', 'type': 'literal', 'value': 'Émile de Mot'}, 'dateBirth': {'datatype': 'http://www.w3.org/2001/XMLSchema#dateTime', 'type': 'literal', 'value': '1835-10-20T00:00:00Z'}, 'dateDeath': {'datatype': 'http://www.w3.org/2001/XMLSchema#dateTime', 'type': 'literal', 'value': '1909-11-23T00:00:00Z'}}, {'person': {'type': 'uri', 'value': 'http://www.wikidata.org/entity/Q716382'}, 'personLabel': {'xml:lang': 'en', 'type': 'literal', 'value': 'Charles Buls'}, 'dateBirth': {'datatype': 'http://www.w3.org/2001/XMLSchema#dateTime', 'type': 'literal', 'value': '1837-10-13T00:00:00Z'}, 'dateDeath': {'datatype': 'http://www.w3.org/2001/XMLSchema#dateTime', 'type': 'literal', 'value': '1914-07-13T00:00:00Z'}}, {'person': {'type': 'uri', 'value': 'http://www.wikidata.org/entity/Q2535128'}, 'personLabel': {'xml:lang': 'en', 'type': 'literal', 'value': 'Adolphe Max'}, 'dateBirth': {'datatype': 'http://www.w3.org/2001/XMLSchema#dateTime', 'type': 'literal', 'value': '1869-12-30T00:00:00Z'}, 'dateDeath': {'datatype': 'http://www.w3.org/2001/XMLSchema#dateTime', 'type': 'literal', 'value': '1939-11-06T00:00:00Z'}}, {'person': {'type': 'uri', 'value': 'http://www.wikidata.org/entity/Q2589184'}, 'personLabel': {'xml:lang': 'en', 'type': 'literal', 'value': 'Joseph Van De Meulebroeck'}, 'dateBirth': {'datatype': 'http://www.w3.org/2001/XMLSchema#dateTime', 'type': 'literal', 'value': '1876-11-17T00:00:00Z'}, 'dateDeath': {'datatype': 'http://www.w3.org/2001/XMLSchema#dateTime', 'type': 'literal', 'value': '1958-12-14T00:00:00Z'}}, {'person': {'type': 'uri', 'value': 'http://www.wikidata.org/entity/Q3172784'}, 'personLabel': {'xml:lang': 'en', 'type': 'literal', 'value': 'Jan Grauls'}, 'dateBirth': {'datatype': 'http://www.w3.org/2001/XMLSchema#dateTime', 'type': 'literal', 'value': '1887-04-19T00:00:00Z'}, 'dateDeath': {'datatype': 'http://www.w3.org/2001/XMLSchema#dateTime', 'type': 'literal', 'value': '1960-02-05T00:00:00Z'}}, {'person': {'type': 'uri', 'value': 'http://www.wikidata.org/entity/Q698180'}, 'personLabel': {'xml:lang': 'en', 'type': 'literal', 'value': 'Lucien Cooremans'}, 'dateBirth': {'datatype': 'http://www.w3.org/2001/XMLSchema#dateTime', 'type': 'literal', 'value': '1899-09-01T00:00:00Z'}, 'dateDeath': {'datatype': 'http://www.w3.org/2001/XMLSchema#dateTime', 'type': 'literal', 'value': '1985-02-22T00:00:00Z'}}, {'person': {'type': 'uri', 'value': 'http://www.wikidata.org/entity/Q2628250'}, 'personLabel': {'xml:lang': 'en', 'type': 'literal', 'value': 'Pierre Van Halteren'}, 'dateBirth': {'datatype': 'http://www.w3.org/2001/XMLSchema#dateTime', 'type': 'literal', 'value': '1911-02-24T00:00:00Z'}, 'dateDeath': {'datatype': 'http://www.w3.org/2001/XMLSchema#dateTime', 'type': 'literal', 'value': '2009-09-23T00:00:00Z'}}, {'person': {'type': 'uri', 'value': 'http://www.wikidata.org/entity/Q3134439'}, 'personLabel': {'xml:lang': 'en', 'type': 'literal', 'value': 'Hervé Brouhon'}, 'dateBirth': {'datatype': 'http://www.w3.org/2001/XMLSchema#dateTime', 'type': 'literal', 'value': '1924-06-18T00:00:00Z'}, 'dateDeath': {'datatype': 'http://www.w3.org/2001/XMLSchema#dateTime', 'type': 'literal', 'value': '1993-04-10T00:00:00Z'}}, {'person': {'type': 'uri', 'value': 'http://www.wikidata.org/entity/Q2507076'}, 'personLabel': {'xml:lang': 'en', 'type': 'literal', 'value': 'Michel Demaret'}, 'dateBirth': {'datatype': 'http://www.w3.org/2001/XMLSchema#dateTime', 'type': 'literal', 'value': '1940-01-18T00:00:00Z'}, 'dateDeath': {'datatype': 'http://www.w3.org/2001/XMLSchema#dateTime', 'type': 'literal', 'value': '2000-11-09T00:00:00Z'}}, {'person': {'type': 'uri', 'value': 'http://www.wikidata.org/entity/Q479383'}, 'personLabel': {'xml:lang': 'en', 'type': 'literal', 'value': 'François-Xavier de Donnea'}, 'dateBirth': {'datatype': 'http://www.w3.org/2001/XMLSchema#dateTime', 'type': 'literal', 'value': '1941-04-29T00:00:00Z'}}, {'person': {'type': 'uri', 'value': 'http://www.wikidata.org/entity/Q1309509'}, 'personLabel': {'xml:lang': 'en', 'type': 'literal', 'value': 'Freddy Thielemans'}, 'dateBirth': {'datatype': 'http://www.w3.org/2001/XMLSchema#dateTime', 'type': 'literal', 'value': '1944-09-11T00:00:00Z'}}, {'person': {'type': 'uri', 'value': 'http://www.wikidata.org/entity/Q3293642'}, 'personLabel': {'xml:lang': 'en', 'type': 'literal', 'value': 'Marion Lemesre'}, 'dateBirth': {'datatype': 'http://www.w3.org/2001/XMLSchema#dateTime', 'type': 'literal', 'value': '1954-07-22T00:00:00Z'}}, {'person': {'type': 'uri', 'value': 'http://www.wikidata.org/entity/Q2118869'}, 'personLabel': {'xml:lang': 'en', 'type': 'literal', 'value': 'Yvan Mayeur'}, 'dateBirth': {'datatype': 'http://www.w3.org/2001/XMLSchema#dateTime', 'type': 'literal', 'value': '1960-01-24T00:00:00Z'}}, {'person': {'type': 'uri', 'value': 'http://www.wikidata.org/entity/Q3379592'}, 'personLabel': {'xml:lang': 'en', 'type': 'literal', 'value': 'Philippe Close'}, 'dateBirth': {'datatype': 'http://www.w3.org/2001/XMLSchema#dateTime', 'type': 'literal', 'value': '1971-03-18T00:00:00Z'}}]}}\n"
     ]
    }
   ],
   "source": [
    "endpoint = \"https://query.wikidata.org/bigdata/namespace/wdq/sparql\"\n",
    "sparql = SPARQLWrapper(endpoint)\n",
    "\n",
    "# P27 = Country of citizenship \n",
    "# Q31 = Belgium\n",
    "# P39 = Position held \n",
    "# Q33126365 = Mayor of Brussels\n",
    "# P569 = date of birth\n",
    "# P570 = date of death\n",
    "\n",
    "statement = \"\"\"\n",
    "SELECT DISTINCT ?person ?personLabel ?dateBirth ?dateDeath WHERE {\n",
    "    ?person wdt:P27 wd:Q31 .\n",
    "    ?person wdt:P39 wd:Q33126365 .\n",
    "    ?person wdt:P569 ?dateBirth .\n",
    "    OPTIONAL {?person wdt:P570 ?dateDeath .}\n",
    "    SERVICE wikibase:label { bd:serviceParam wikibase:language \"en\" . }\n",
    "}\n",
    "ORDER BY ?dateBirth\n",
    "\"\"\"\n",
    "\n",
    "sparql.setQuery(statement)\n",
    "sparql.setReturnFormat(JSON)\n",
    "results = sparql.query().convert()\n",
    "\n",
    "rows = results['results']['bindings']\n",
    "print(f\"\\n{len(rows)} Mayor of Brussels\\n\")\n",
    "print (results)"
   ]
  },
  {
   "cell_type": "markdown",
   "id": "45f21ef9-d91f-41c3-aef9-992b2582af2d",
   "metadata": {},
   "source": [
    "### Filtrer pour ne conserver que les bourgmestres ayant vécus entre 1847 et 1978"
   ]
  },
  {
   "cell_type": "code",
   "execution_count": 37,
   "id": "2416a1fe-874c-4928-9519-f4e5aa17084b",
   "metadata": {},
   "outputs": [
    {
     "name": "stdout",
     "output_type": "stream",
     "text": [
      "\n",
      "12 Mayor of Brussels born between 1847 and 1978\n",
      "\n",
      "{'head': {'vars': ['person', 'personLabel', 'dateBirth', 'dateDeath']}, 'results': {'bindings': [{'person': {'type': 'uri', 'value': 'http://www.wikidata.org/entity/Q2535128'}, 'personLabel': {'xml:lang': 'en', 'type': 'literal', 'value': 'Adolphe Max'}, 'dateBirth': {'datatype': 'http://www.w3.org/2001/XMLSchema#dateTime', 'type': 'literal', 'value': '1869-12-30T00:00:00Z'}, 'dateDeath': {'datatype': 'http://www.w3.org/2001/XMLSchema#dateTime', 'type': 'literal', 'value': '1939-11-06T00:00:00Z'}}, {'person': {'type': 'uri', 'value': 'http://www.wikidata.org/entity/Q2589184'}, 'personLabel': {'xml:lang': 'en', 'type': 'literal', 'value': 'Joseph Van De Meulebroeck'}, 'dateBirth': {'datatype': 'http://www.w3.org/2001/XMLSchema#dateTime', 'type': 'literal', 'value': '1876-11-17T00:00:00Z'}, 'dateDeath': {'datatype': 'http://www.w3.org/2001/XMLSchema#dateTime', 'type': 'literal', 'value': '1958-12-14T00:00:00Z'}}, {'person': {'type': 'uri', 'value': 'http://www.wikidata.org/entity/Q3172784'}, 'personLabel': {'xml:lang': 'en', 'type': 'literal', 'value': 'Jan Grauls'}, 'dateBirth': {'datatype': 'http://www.w3.org/2001/XMLSchema#dateTime', 'type': 'literal', 'value': '1887-04-19T00:00:00Z'}, 'dateDeath': {'datatype': 'http://www.w3.org/2001/XMLSchema#dateTime', 'type': 'literal', 'value': '1960-02-05T00:00:00Z'}}, {'person': {'type': 'uri', 'value': 'http://www.wikidata.org/entity/Q698180'}, 'personLabel': {'xml:lang': 'en', 'type': 'literal', 'value': 'Lucien Cooremans'}, 'dateBirth': {'datatype': 'http://www.w3.org/2001/XMLSchema#dateTime', 'type': 'literal', 'value': '1899-09-01T00:00:00Z'}, 'dateDeath': {'datatype': 'http://www.w3.org/2001/XMLSchema#dateTime', 'type': 'literal', 'value': '1985-02-22T00:00:00Z'}}, {'person': {'type': 'uri', 'value': 'http://www.wikidata.org/entity/Q2628250'}, 'personLabel': {'xml:lang': 'en', 'type': 'literal', 'value': 'Pierre Van Halteren'}, 'dateBirth': {'datatype': 'http://www.w3.org/2001/XMLSchema#dateTime', 'type': 'literal', 'value': '1911-02-24T00:00:00Z'}, 'dateDeath': {'datatype': 'http://www.w3.org/2001/XMLSchema#dateTime', 'type': 'literal', 'value': '2009-09-23T00:00:00Z'}}, {'person': {'type': 'uri', 'value': 'http://www.wikidata.org/entity/Q3134439'}, 'personLabel': {'xml:lang': 'en', 'type': 'literal', 'value': 'Hervé Brouhon'}, 'dateBirth': {'datatype': 'http://www.w3.org/2001/XMLSchema#dateTime', 'type': 'literal', 'value': '1924-06-18T00:00:00Z'}, 'dateDeath': {'datatype': 'http://www.w3.org/2001/XMLSchema#dateTime', 'type': 'literal', 'value': '1993-04-10T00:00:00Z'}}, {'person': {'type': 'uri', 'value': 'http://www.wikidata.org/entity/Q2507076'}, 'personLabel': {'xml:lang': 'en', 'type': 'literal', 'value': 'Michel Demaret'}, 'dateBirth': {'datatype': 'http://www.w3.org/2001/XMLSchema#dateTime', 'type': 'literal', 'value': '1940-01-18T00:00:00Z'}, 'dateDeath': {'datatype': 'http://www.w3.org/2001/XMLSchema#dateTime', 'type': 'literal', 'value': '2000-11-09T00:00:00Z'}}, {'person': {'type': 'uri', 'value': 'http://www.wikidata.org/entity/Q479383'}, 'personLabel': {'xml:lang': 'en', 'type': 'literal', 'value': 'François-Xavier de Donnea'}, 'dateBirth': {'datatype': 'http://www.w3.org/2001/XMLSchema#dateTime', 'type': 'literal', 'value': '1941-04-29T00:00:00Z'}}, {'person': {'type': 'uri', 'value': 'http://www.wikidata.org/entity/Q1309509'}, 'personLabel': {'xml:lang': 'en', 'type': 'literal', 'value': 'Freddy Thielemans'}, 'dateBirth': {'datatype': 'http://www.w3.org/2001/XMLSchema#dateTime', 'type': 'literal', 'value': '1944-09-11T00:00:00Z'}}, {'person': {'type': 'uri', 'value': 'http://www.wikidata.org/entity/Q3293642'}, 'personLabel': {'xml:lang': 'en', 'type': 'literal', 'value': 'Marion Lemesre'}, 'dateBirth': {'datatype': 'http://www.w3.org/2001/XMLSchema#dateTime', 'type': 'literal', 'value': '1954-07-22T00:00:00Z'}}, {'person': {'type': 'uri', 'value': 'http://www.wikidata.org/entity/Q2118869'}, 'personLabel': {'xml:lang': 'en', 'type': 'literal', 'value': 'Yvan Mayeur'}, 'dateBirth': {'datatype': 'http://www.w3.org/2001/XMLSchema#dateTime', 'type': 'literal', 'value': '1960-01-24T00:00:00Z'}}, {'person': {'type': 'uri', 'value': 'http://www.wikidata.org/entity/Q3379592'}, 'personLabel': {'xml:lang': 'en', 'type': 'literal', 'value': 'Philippe Close'}, 'dateBirth': {'datatype': 'http://www.w3.org/2001/XMLSchema#dateTime', 'type': 'literal', 'value': '1971-03-18T00:00:00Z'}}]}}\n"
     ]
    }
   ],
   "source": [
    "#J'ai filré par date de naissance parce que je n'ai pas réussi à trouver comment filter \n",
    "#par leur date de service en tant que bourgmestre\n",
    "#J'aurais aimé ne filtrer que les bourgmestres ayant été en service entre 1847 et 1978.\n",
    "\n",
    "statement = \"\"\"\n",
    "SELECT DISTINCT ?person ?personLabel ?dateBirth ?dateDeath WHERE {\n",
    "    ?person wdt:P27 wd:Q31 .\n",
    "    ?person wdt:P39 wd:Q33126365 .\n",
    "    ?person wdt:P569 ?dateBirth .\n",
    "    OPTIONAL {?person wdt:P570 ?dateDeath .}\n",
    "    SERVICE wikibase:label { bd:serviceParam wikibase:language \"en\" . }\n",
    "FILTER ((YEAR(?dateBirth) >=1846) && (YEAR(?dateBirth) <= 1978))\n",
    "}\n",
    "ORDER BY ?dateBirth\n",
    "\"\"\"\n",
    "\n",
    "sparql.setQuery(statement)\n",
    "sparql.setReturnFormat(JSON)\n",
    "results = sparql.query().convert()\n",
    "\n",
    "rows = results['results']['bindings']\n",
    "print(f\"\\n{len(rows)} Mayor of Brussels born between 1847 and 1978\\n\")\n",
    "print (results)"
   ]
  },
  {
   "cell_type": "markdown",
   "id": "196ecde8-4845-45fe-a692-6f3e23bd54ce",
   "metadata": {},
   "source": [
    "## 2. API"
   ]
  },
  {
   "cell_type": "markdown",
   "id": "4c338150-7635-46fa-b6a7-46eb384ba8e4",
   "metadata": {},
   "source": [
    "### Imports"
   ]
  },
  {
   "cell_type": "code",
   "execution_count": 3,
   "id": "1b8a3913-2fd1-4c64-9462-4413f85917c1",
   "metadata": {},
   "outputs": [],
   "source": [
    "import requests"
   ]
  },
  {
   "cell_type": "markdown",
   "id": "ca889c25-1013-4f73-9339-96a340b67b32",
   "metadata": {},
   "source": [
    "### Utiliser GeoDB Cities pour avoir des détails sur la ville de Bruxelles ou les villes aux alentours"
   ]
  },
  {
   "cell_type": "markdown",
   "id": "bde48777-d5e2-44c6-bf27-531f135c89da",
   "metadata": {},
   "source": [
    "http://geodb-cities-api.wirefreethought.com/"
   ]
  },
  {
   "cell_type": "code",
   "execution_count": 4,
   "id": "85beed9d-4348-46a6-abb4-49cdb802be93",
   "metadata": {},
   "outputs": [
    {
     "name": "stdout",
     "output_type": "stream",
     "text": [
      "{\"data\":{\"id\":7918,\"wikiDataId\":\"Q239\",\"type\":\"CITY\",\"city\":\"City of Brussels\",\"name\":\"City of Brussels\",\"country\":\"Belgium\",\"countryCode\":\"BE\",\"region\":\"Brussels-Capital Region\",\"regionCode\":\"BRU\",\"elevationMeters\":null,\"latitude\":50.85045,\"longitude\":4.34878,\"population\":185103,\"timezone\":\"Europe__Brussels\",\"distance\":null,\"deleted\":false}}\n"
     ]
    }
   ],
   "source": [
    "#API utilisé pour avoir des détails sur la ville de Bruxelles\n",
    "\n",
    "url = \"https://wft-geo-db.p.rapidapi.com/v1/geo/cities/Q239\"\n",
    "\n",
    "headers = {\n",
    "    'x-rapidapi-host': \"wft-geo-db.p.rapidapi.com\",\n",
    "    'x-rapidapi-key': \"73ab91bba7msha57c8a85717c885p15fe59jsnbf7071066e7a\"\n",
    "    }\n",
    "\n",
    "response = requests.request(\"GET\", url, headers=headers)\n",
    "\n",
    "print(response.text)"
   ]
  },
  {
   "cell_type": "code",
   "execution_count": 18,
   "id": "a2b71ccb-596b-4c8e-9b40-8c49ae3cae8d",
   "metadata": {},
   "outputs": [
    {
     "name": "stdout",
     "output_type": "stream",
     "text": [
      "{\"data\":[{\"id\":3453277,\"wikiDataId\":\"Q240\",\"type\":\"CITY\",\"city\":\"Brussels Capital Region\",\"name\":\"Brussels Capital Region\",\"country\":\"Belgium\",\"countryCode\":\"BE\",\"region\":\"Brussels-Capital Region\",\"regionCode\":\"BRU\",\"latitude\":50.85,\"longitude\":4.35,\"population\":1218255,\"distance\":0.06},{\"id\":3189062,\"wikiDataId\":\"Q90870\",\"type\":\"ADM2\",\"city\":\"Arrondissement of Brussels-Capital\",\"name\":\"Arrondissement of Brussels-Capital\",\"country\":\"Belgium\",\"countryCode\":\"BE\",\"region\":\"Brussels-Capital Region\",\"regionCode\":\"BRU\",\"latitude\":50.85,\"longitude\":4.35,\"population\":1208542,\"distance\":0.06},{\"id\":3091651,\"wikiDataId\":\"Q242393\",\"type\":\"CITY\",\"city\":\"Woluwe-Saint-Pierre - Sint-Pieters-Woluwe\",\"name\":\"Woluwe-Saint-Pierre - Sint-Pieters-Woluwe\",\"country\":\"Belgium\",\"countryCode\":\"BE\",\"region\":\"Brussels-Capital Region\",\"regionCode\":\"BRU\",\"latitude\":50.85505,\"longitude\":4.37067,\"population\":42119,\"distance\":1.01},{\"id\":3000152,\"wikiDataId\":\"Q219244\",\"type\":\"CITY\",\"city\":\"Koekelberg\",\"name\":\"Koekelberg\",\"country\":\"Belgium\",\"countryCode\":\"BE\",\"region\":\"Brussels-Capital Region\",\"regionCode\":\"BRU\",\"latitude\":50.86117,\"longitude\":4.33136,\"population\":21959,\"distance\":1.06},{\"id\":3054567,\"wikiDataId\":\"Q272243\",\"type\":\"CITY\",\"city\":\"Saint-Josse-ten-Noode\",\"name\":\"Saint-Josse-ten-Noode\",\"country\":\"Belgium\",\"countryCode\":\"BE\",\"region\":\"Brussels-Capital Region\",\"regionCode\":\"BRU\",\"latitude\":50.8538,\"longitude\":4.37282,\"population\":27497,\"distance\":1.07}],\"links\":[{\"rel\":\"first\",\"href\":\"/v1/geo/cities/Q239/nearbyCities?offset=0&limit=5&radius=100\"},{\"rel\":\"next\",\"href\":\"/v1/geo/cities/Q239/nearbyCities?offset=5&limit=5&radius=100\"},{\"rel\":\"last\",\"href\":\"/v1/geo/cities/Q239/nearbyCities?offset=3075&limit=5&radius=100\"}],\"metadata\":{\"currentOffset\":0,\"totalCount\":3077}}\n"
     ]
    }
   ],
   "source": [
    "#API pour avoir des informations sur les villes autour de Bruxelles\n",
    "url = \"https://wft-geo-db.p.rapidapi.com/v1/geo/cities/Q239/nearbyCities\"\n",
    "\n",
    "querystring = {\"radius\":\"100\"}\n",
    "\n",
    "headers = {\n",
    "    'x-rapidapi-host': \"wft-geo-db.p.rapidapi.com\",\n",
    "    'x-rapidapi-key': \"73ab91bba7msha57c8a85717c885p15fe59jsnbf7071066e7a\"\n",
    "    }\n",
    "\n",
    "response = requests.request(\"GET\", url, headers=headers, params=querystring)\n",
    "\n",
    "print(response.text)"
   ]
  },
  {
   "cell_type": "code",
   "execution_count": null,
   "id": "a6888475-ac48-4fed-b083-530086bda42c",
   "metadata": {},
   "outputs": [],
   "source": []
  }
 ],
 "metadata": {
  "kernelspec": {
   "display_name": "Python 3 (ipykernel)",
   "language": "python",
   "name": "python3"
  },
  "language_info": {
   "codemirror_mode": {
    "name": "ipython",
    "version": 3
   },
   "file_extension": ".py",
   "mimetype": "text/x-python",
   "name": "python",
   "nbconvert_exporter": "python",
   "pygments_lexer": "ipython3",
   "version": "3.9.7"
  }
 },
 "nbformat": 4,
 "nbformat_minor": 5
}
